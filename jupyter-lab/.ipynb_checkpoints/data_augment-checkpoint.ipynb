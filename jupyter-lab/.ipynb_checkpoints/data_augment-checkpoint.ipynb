{
 "cells": [
  {
   "cell_type": "code",
   "execution_count": 45,
   "id": "1e18425d-45c9-4635-88e1-8f3ed5b927c1",
   "metadata": {},
   "outputs": [
    {
     "name": "stdout",
     "output_type": "stream",
     "text": [
      "tensorflow version: 2.5.0\n",
      "tensorflow version: 2.5.0\n",
      "[LogicalDevice(name='/device:CPU:0', device_type='CPU')] []\n"
     ]
    }
   ],
   "source": [
    "import sys\n",
    "import os\n",
    "sys.path.append(\"./../\")\n",
    "\n",
    "\n",
    "from estimation_study import *\n",
    "from estimation_assessment.scores import *\n",
    "from estimation_assessment.visualization import *\n",
    "from vicon_imu_data_process.process_rawdata import *\n",
    "from vicon_imu_data_process.data_augment import *\n",
    "import time\n",
    "import numpy as np\n",
    "\n",
    "if False:\n",
    "    subjects_trials = set_subjects_trials(selected=True, landing_manner='double_legs')\n",
    "    subjects_trials_dataset = load_subjects_dataset(subjects_trials)\n",
    "    augment_subjects_trials_dataset = imu_data_augment(subjects_trials_dataset)\n",
    "    save_subjects_dataset_to_a_h5(augment_subjects_trials_dataset,'augment_features_labels_rawdatasets.hdf5')\n"
   ]
  },
  {
   "cell_type": "code",
   "execution_count": 327,
   "id": "fb75f213-9cf1-4ccc-87fb-61fafb0c1662",
   "metadata": {},
   "outputs": [
    {
     "data": {
      "text/plain": [
       "[<matplotlib.lines.Line2D at 0x7f0d83a85b50>]"
      ]
     },
     "execution_count": 327,
     "metadata": {},
     "output_type": "execute_result"
    },
    {
     "data": {
      "image/png": "[encoded data removed]",
      "text/plain": [
       "<Figure size 432x288 with 1 Axes>"
      ]
     },
     "metadata": {
      "needs_background": "light"
     },
     "output_type": "display_data"
    }
   ],
   "source": [
    "mod_acc = np.linalg.norm(acc[:10], axis=1, keepdims=True)\n",
    "mod_aug_acc = np.linalg.norm(aug_acc[:10], axis=1, keepdims=True)\n",
    "plt.plot(mod_acc,'r')\n",
    "plt.plot(mod_aug_acc,'g-.')"
   ]
  },
  {
   "cell_type": "code",
   "execution_count": 308,
   "id": "fcdc0037-78ef-4dff-8796-bef847fe6756",
   "metadata": {},
   "outputs": [
    {
     "data": {
      "text/html": [
       "<div>\n",
       "<style scoped>\n",
       "    .dataframe tbody tr th:only-of-type {\n",
       "        vertical-align: middle;\n",
       "    }\n",
       "\n",
       "    .dataframe tbody tr th {\n",
       "        vertical-align: top;\n",
       "    }\n",
       "\n",
       "    .dataframe thead th {\n",
       "        text-align: right;\n",
       "    }\n",
       "</style>\n",
       "<table border=\"1\" class=\"dataframe\">\n",
       "  <thead>\n",
       "    <tr style=\"text-align: right;\">\n",
       "      <th></th>\n",
       "      <th>CHEST_Accel_X</th>\n",
       "      <th>CHEST_Accel_Y</th>\n",
       "      <th>CHEST_Accel_Z</th>\n",
       "      <th>CHEST_Gyro_X</th>\n",
       "      <th>CHEST_Gyro_Y</th>\n",
       "      <th>CHEST_Gyro_Z</th>\n",
       "      <th>CHEST_Mag_X</th>\n",
       "      <th>CHEST_Mag_Y</th>\n",
       "      <th>CHEST_Mag_Z</th>\n",
       "    </tr>\n",
       "  </thead>\n",
       "  <tbody>\n",
       "    <tr>\n",
       "      <th>0</th>\n",
       "      <td>-0.529284</td>\n",
       "      <td>1.591748</td>\n",
       "      <td>-0.280225</td>\n",
       "      <td>0.177825</td>\n",
       "      <td>0.249810</td>\n",
       "      <td>0.007012</td>\n",
       "      <td>-0.646333</td>\n",
       "      <td>-0.763389</td>\n",
       "      <td>-0.064076</td>\n",
       "    </tr>\n",
       "    <tr>\n",
       "      <th>1</th>\n",
       "      <td>-0.485439</td>\n",
       "      <td>2.041983</td>\n",
       "      <td>-0.174513</td>\n",
       "      <td>0.079012</td>\n",
       "      <td>0.272969</td>\n",
       "      <td>-0.005764</td>\n",
       "      <td>-0.645163</td>\n",
       "      <td>-0.763223</td>\n",
       "      <td>-0.063616</td>\n",
       "    </tr>\n",
       "    <tr>\n",
       "      <th>2</th>\n",
       "      <td>-0.428482</td>\n",
       "      <td>2.325879</td>\n",
       "      <td>-0.079297</td>\n",
       "      <td>-0.038347</td>\n",
       "      <td>0.300555</td>\n",
       "      <td>-0.018686</td>\n",
       "      <td>-0.644144</td>\n",
       "      <td>-0.763040</td>\n",
       "      <td>-0.065015</td>\n",
       "    </tr>\n",
       "    <tr>\n",
       "      <th>3</th>\n",
       "      <td>-0.354049</td>\n",
       "      <td>2.459265</td>\n",
       "      <td>0.004366</td>\n",
       "      <td>-0.173117</td>\n",
       "      <td>0.323917</td>\n",
       "      <td>-0.030275</td>\n",
       "      <td>-0.643428</td>\n",
       "      <td>-0.762878</td>\n",
       "      <td>-0.068528</td>\n",
       "    </tr>\n",
       "    <tr>\n",
       "      <th>4</th>\n",
       "      <td>-0.253079</td>\n",
       "      <td>2.490226</td>\n",
       "      <td>0.074007</td>\n",
       "      <td>-0.318949</td>\n",
       "      <td>0.334890</td>\n",
       "      <td>-0.039687</td>\n",
       "      <td>-0.642996</td>\n",
       "      <td>-0.762752</td>\n",
       "      <td>-0.073846</td>\n",
       "    </tr>\n",
       "    <tr>\n",
       "      <th>...</th>\n",
       "      <td>...</td>\n",
       "      <td>...</td>\n",
       "      <td>...</td>\n",
       "      <td>...</td>\n",
       "      <td>...</td>\n",
       "      <td>...</td>\n",
       "      <td>...</td>\n",
       "      <td>...</td>\n",
       "      <td>...</td>\n",
       "    </tr>\n",
       "    <tr>\n",
       "      <th>75</th>\n",
       "      <td>0.376893</td>\n",
       "      <td>9.846751</td>\n",
       "      <td>0.805812</td>\n",
       "      <td>-0.226227</td>\n",
       "      <td>0.017771</td>\n",
       "      <td>0.027232</td>\n",
       "      <td>-0.626086</td>\n",
       "      <td>-0.761674</td>\n",
       "      <td>-0.190566</td>\n",
       "    </tr>\n",
       "    <tr>\n",
       "      <th>76</th>\n",
       "      <td>0.273170</td>\n",
       "      <td>9.600551</td>\n",
       "      <td>0.754769</td>\n",
       "      <td>-0.247374</td>\n",
       "      <td>0.008044</td>\n",
       "      <td>0.029971</td>\n",
       "      <td>-0.626648</td>\n",
       "      <td>-0.760780</td>\n",
       "      <td>-0.192430</td>\n",
       "    </tr>\n",
       "    <tr>\n",
       "      <th>77</th>\n",
       "      <td>0.167928</td>\n",
       "      <td>9.401219</td>\n",
       "      <td>0.701484</td>\n",
       "      <td>-0.251652</td>\n",
       "      <td>0.000976</td>\n",
       "      <td>0.030314</td>\n",
       "      <td>-0.626872</td>\n",
       "      <td>-0.760157</td>\n",
       "      <td>-0.194495</td>\n",
       "    </tr>\n",
       "    <tr>\n",
       "      <th>78</th>\n",
       "      <td>0.072419</td>\n",
       "      <td>9.255319</td>\n",
       "      <td>0.650203</td>\n",
       "      <td>-0.238941</td>\n",
       "      <td>-0.003366</td>\n",
       "      <td>0.028961</td>\n",
       "      <td>-0.626892</td>\n",
       "      <td>-0.760025</td>\n",
       "      <td>-0.196309</td>\n",
       "    </tr>\n",
       "    <tr>\n",
       "      <th>79</th>\n",
       "      <td>-0.001060</td>\n",
       "      <td>9.156373</td>\n",
       "      <td>0.609115</td>\n",
       "      <td>-0.209801</td>\n",
       "      <td>-0.005807</td>\n",
       "      <td>0.026673</td>\n",
       "      <td>-0.626745</td>\n",
       "      <td>-0.760371</td>\n",
       "      <td>-0.197437</td>\n",
       "    </tr>\n",
       "  </tbody>\n",
       "</table>\n",
       "<p>80 rows × 9 columns</p>\n",
       "</div>"
      ],
      "text/plain": [
       "    CHEST_Accel_X  CHEST_Accel_Y  CHEST_Accel_Z  CHEST_Gyro_X  CHEST_Gyro_Y  \\\n",
       "0       -0.529284       1.591748      -0.280225      0.177825      0.249810   \n",
       "1       -0.485439       2.041983      -0.174513      0.079012      0.272969   \n",
       "2       -0.428482       2.325879      -0.079297     -0.038347      0.300555   \n",
       "3       -0.354049       2.459265       0.004366     -0.173117      0.323917   \n",
       "4       -0.253079       2.490226       0.074007     -0.318949      0.334890   \n",
       "..            ...            ...            ...           ...           ...   \n",
       "75       0.376893       9.846751       0.805812     -0.226227      0.017771   \n",
       "76       0.273170       9.600551       0.754769     -0.247374      0.008044   \n",
       "77       0.167928       9.401219       0.701484     -0.251652      0.000976   \n",
       "78       0.072419       9.255319       0.650203     -0.238941     -0.003366   \n",
       "79      -0.001060       9.156373       0.609115     -0.209801     -0.005807   \n",
       "\n",
       "    CHEST_Gyro_Z  CHEST_Mag_X  CHEST_Mag_Y  CHEST_Mag_Z  \n",
       "0       0.007012    -0.646333    -0.763389    -0.064076  \n",
       "1      -0.005764    -0.645163    -0.763223    -0.063616  \n",
       "2      -0.018686    -0.644144    -0.763040    -0.065015  \n",
       "3      -0.030275    -0.643428    -0.762878    -0.068528  \n",
       "4      -0.039687    -0.642996    -0.762752    -0.073846  \n",
       "..           ...          ...          ...          ...  \n",
       "75      0.027232    -0.626086    -0.761674    -0.190566  \n",
       "76      0.029971    -0.626648    -0.760780    -0.192430  \n",
       "77      0.030314    -0.626872    -0.760157    -0.194495  \n",
       "78      0.028961    -0.626892    -0.760025    -0.196309  \n",
       "79      0.026673    -0.626745    -0.760371    -0.197437  \n",
       "\n",
       "[80 rows x 9 columns]"
      ]
     },
     "execution_count": 308,
     "metadata": {},
     "output_type": "execute_result"
    }
   ],
   "source": [
    "augment_subjects_trials_dataset[subject_id_name][trial]"
   ]
  },
  {
   "cell_type": "code",
   "execution_count": 278,
   "id": "6ebc2d00-72b6-4428-848c-c4fd31c0826b",
   "metadata": {},
   "outputs": [
    {
     "data": {
      "text/plain": [
       "[<matplotlib.lines.Line2D at 0x7f0d85701af0>]"
      ]
     },
     "execution_count": 278,
     "metadata": {},
     "output_type": "execute_result"
    },
    {
     "data": {
      "image/png": "[encoded data removed]",
      "text/plain": [
       "<Figure size 432x288 with 1 Axes>"
      ]
     },
     "metadata": {
      "needs_background": "light"
     },
     "output_type": "display_data"
    }
   ],
   "source": [
    "from skinematics import sensors\n",
    "from skinematics import quat, rotmat\n",
    "\n",
    "import sys\n",
    "import os\n",
    "import imus\n",
    "from time import sleep\n",
    "from sensors.xsens import XSens\n",
    "from sensors.manual import MyOwnSensor\n",
    "import pdb\n",
    "from skinematics import quat, rotmat\n",
    "\n",
    "import matplotlib.pyplot as plt\n",
    "\n",
    "\n",
    "acc = subjects_trials_dataset['P_08_zhangboyuan'][0][CHEST_FIELDS[:3]].values\n",
    "vel= subjects_trials_dataset['P_08_zhangboyuan'][0][CHEST_FIELDS[3:6]].values\n",
    "mag = subjects_trials_dataset['P_08_zhangboyuan'][0][CHEST_FIELDS[6:]].values\n",
    "\n",
    "cal_acc = np.dot(rot_mat, acc.T).T\n",
    "cal_vel = np.dot(rot_mat, vel.T).T\n",
    "cal_mag = np.dot(rot_mat, mag.T).T\n",
    "\n",
    "\n",
    "\n",
    "transfer_data = {'rate':100,\n",
    "               'acc': acc,\n",
    "               'omega':omega,\n",
    "               'mag':mag}\n",
    "my_sensor = MyOwnSensor(in_file='My own 123 sensor.', in_data=transfer_data)\n",
    "#my_sensor.set_qtype('kalman')\n",
    "\n",
    "plt.plot(my_sensor.acc[:,0])\n"
   ]
  },
  {
   "cell_type": "code",
   "execution_count": 275,
   "id": "ea6d3533-23de-428d-84bc-d4c7855fc3f6",
   "metadata": {},
   "outputs": [
    {
     "name": "stdout",
     "output_type": "stream",
     "text": [
      "0\n",
      "[[ 0.9961947  -0.08715574  0.        ]\n",
      " [ 0.08715574  0.9961947   0.        ]\n",
      " [ 0.          0.          1.        ]]\n"
     ]
    },
    {
     "data": {
      "text/plain": [
       "[<matplotlib.lines.Line2D at 0x7f0d85b49cd0>]"
      ]
     },
     "execution_count": 275,
     "metadata": {},
     "output_type": "execute_result"
    },
    {
     "data": {
      "image/png": "[encoded data removed]",
      "text/plain": [
       "<Figure size 432x288 with 1 Axes>"
      ]
     },
     "metadata": {
      "needs_background": "light"
     },
     "output_type": "display_data"
    }
   ],
   "source": [
    "# 旋转矩阵生成\n",
    "rot_angle = 0\n",
    "print(rot_angle)\n",
    "rot_mat = rotmat.R(2,5)\n",
    "print(rot_mat)\n",
    "\n",
    "cal_acc = np.dot(rot_mat, my_sensor.acc.T).T\n",
    "cal_omega = np.dot(rot_mat, my_sensor.omega.T).T\n",
    "cal_mag = np.dot(rot_mat, my_sensor.mag.T).T\n",
    "\n",
    "transfer_data = {'rate':100,\n",
    "               'acc': cal_acc,\n",
    "               'omega':cal_omega,\n",
    "               'mag':cal_mag}\n",
    "\n",
    "my_sensor2 = MyOwnSensor(in_file='My own 2 sensor.', in_data=transfer_data)\n",
    "\n",
    "\n",
    "plt.plot(my_sensor.acc[:,1],'r')\n",
    "plt.plot(my_sensor2.acc[:,1],'g-.')\n",
    "#my_sensor2.set_qtype('madgwick')"
   ]
  },
  {
   "cell_type": "code",
   "execution_count": 277,
   "id": "e23b9ac0-03bc-4c8d-9bc3-8ad0b84ecb4f",
   "metadata": {},
   "outputs": [
    {
     "data": {
      "text/plain": [
       "[<matplotlib.lines.Line2D at 0x7f0d857a0190>]"
      ]
     },
     "execution_count": 277,
     "metadata": {},
     "output_type": "execute_result"
    },
    {
     "data": {
      "image/png": "[encoded data removed]",
      "text/plain": [
       "<Figure size 432x288 with 1 Axes>"
      ]
     },
     "metadata": {
      "needs_background": "light"
     },
     "output_type": "display_data"
    }
   ],
   "source": [
    "\n",
    "cal_seq = quat.quat2seq(my_sensor2.quat, seq='Euler')\n",
    "plt.plot(seq[:,2],'r')\n",
    "plt.plot(cal_seq[:,2],'g-.')"
   ]
  },
  {
   "cell_type": "code",
   "execution_count": 108,
   "id": "af0fbd1b-de1a-4d49-a555-ef511ca2860b",
   "metadata": {},
   "outputs": [
    {
     "data": {
      "text/plain": [
       "[<matplotlib.lines.Line2D at 0x7f0d91526af0>]"
      ]
     },
     "execution_count": 108,
     "metadata": {},
     "output_type": "execute_result"
    },
    {
     "data": {
      "image/png": "[encoded data removed]",
      "text/plain": [
       "<Figure size 432x288 with 1 Axes>"
      ]
     },
     "metadata": {
      "needs_background": "light"
     },
     "output_type": "display_data"
    }
   ],
   "source": [
    "plt.plot(cal_seq.T[:,1])"
   ]
  }
 ],
 "metadata": {
  "kernelspec": {
   "display_name": "Python 3",
   "language": "python",
   "name": "python3"
  },
  "language_info": {
   "codemirror_mode": {
    "name": "ipython",
    "version": 3
   },
   "file_extension": ".py",
   "mimetype": "text/x-python",
   "name": "python",
   "nbconvert_exporter": "python",
   "pygments_lexer": "ipython3",
   "version": "3.9.2"
  }
 },
 "nbformat": 4,
 "nbformat_minor": 5
}
