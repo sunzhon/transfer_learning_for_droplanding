{
 "cells": [
  {
   "cell_type": "code",
   "execution_count": 2,
   "id": "aed40d2c-e716-40fc-9748-0f0c266376a2",
   "metadata": {
    "tags": []
   },
   "outputs": [],
   "source": [
    "import os\n",
    "import torch\n",
    "from main import *"
   ]
  },
  {
   "cell_type": "code",
   "execution_count": 25,
   "id": "f54b44d8-c57a-4a74-9553-ac93f4982176",
   "metadata": {
    "tags": []
   },
   "outputs": [
    {
     "name": "stdout",
     "output_type": "stream",
     "text": [
      "BaselineModel(\n",
      "  (base_network): MLNNBackbone(\n",
      "    (lstm_layer): LSTM(49, 100, num_layers=2, batch_first=True, bidirectional=True)\n",
      "  )\n",
      "  (output_layer): Sequential(\n",
      "    (0): Linear(in_features=200, out_features=20, bias=True)\n",
      "    (1): ReLU()\n",
      "    (2): Linear(in_features=20, out_features=20, bias=True)\n",
      "    (3): ReLU()\n",
      "    (4): Linear(in_features=20, out_features=1, bias=True)\n",
      "  )\n",
      "  (criterion): MSELoss()\n",
      ")\n",
      "BaselineModel(\n",
      "  (base_network): MLNNBackbone(\n",
      "    (lstm_layer): LSTM(49, 100, num_layers=2, batch_first=True, bidirectional=True)\n",
      "  )\n",
      "  (output_layer): Sequential(\n",
      "    (0): Linear(in_features=200, out_features=20, bias=True)\n",
      "    (1): ReLU()\n",
      "    (2): Linear(in_features=20, out_features=20, bias=True)\n",
      "    (3): ReLU()\n",
      "    (4): Linear(in_features=20, out_features=1, bias=True)\n",
      "  )\n",
      "  (criterion): MSELoss()\n",
      ")\n"
     ]
    }
   ],
   "source": [
    "#trained_model_path=\"/media/suntao/DATA/drop_landing_workspace/results/training_testing/baseline_v6_1_5_10/25trials/15sub/training_000840\"\n",
    "trained_model_path=\"/media/suntao/DATA/drop_landing_workspace/results/training_testing/baseline_v6_2/25trials/15sub/training_092414/\"\n",
    "\n",
    "model = models.BaselineModel(num_label=1, base_net='mlnn',num_layers=2).to('cuda')\n",
    "print(model)\n",
    "model.load_state_dict(torch.load(os.path.join(const.RESULTS_PATH, trained_model_path, 'best_model.pth')))\n",
    "print(model)"
   ]
  },
  {
   "cell_type": "code",
   "execution_count": 16,
   "id": "fc944249-0753-4807-9df9-a982032bbc86",
   "metadata": {
    "tags": []
   },
   "outputs": [
    {
     "name": "stdout",
     "output_type": "stream",
     "text": [
      "BaselineModel(\n",
      "  (base_network): MLNNBackbone(\n",
      "    (lstm_layer): LSTM(49, 100, batch_first=True, bidirectional=True)\n",
      "  )\n",
      "  (output_layer): Sequential(\n",
      "    (0): Linear(in_features=200, out_features=20, bias=True)\n",
      "    (1): ReLU()\n",
      "    (2): Linear(in_features=20, out_features=20, bias=True)\n",
      "    (3): ReLU()\n",
      "    (4): Linear(in_features=20, out_features=1, bias=True)\n",
      "  )\n",
      "  (criterion): MSELoss()\n",
      ")\n"
     ]
    }
   ],
   "source": [
    "model.parameters()\n",
    "print(model)"
   ]
  }
 ],
 "metadata": {
  "kernelspec": {
   "display_name": "Python 3 (ipykernel)",
   "language": "python",
   "name": "python3"
  },
  "language_info": {
   "codemirror_mode": {
    "name": "ipython",
    "version": 3
   },
   "file_extension": ".py",
   "mimetype": "text/x-python",
   "name": "python",
   "nbconvert_exporter": "python",
   "pygments_lexer": "ipython3",
   "version": "3.9.16"
  }
 },
 "nbformat": 4,
 "nbformat_minor": 5
}
