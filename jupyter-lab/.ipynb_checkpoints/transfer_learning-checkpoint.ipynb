{
 "cells": [
  {
   "cell_type": "code",
   "execution_count": null,
   "id": "a9fa4a5c-8f8e-48d0-8eca-fa6fb4d0f73c",
   "metadata": {},
   "outputs": [],
   "source": [
    "import re\n",
    "import copy\n",
    "import sys\n",
    "import json\n",
    "sys.path.append(\"./../\")\n",
    "from vicon_imu_data_process.const import DATA_PATH, SAMPLE_FREQUENCY\n",
    "import pandas as pd\n",
    "import numpy as np\n",
    "from vicon_imu_data_process.process_landing_data import *\n",
    "from estimation_study import *\n",
    "from vicon_imu_data_process.const import FEATURES_FIELDS, LABELS_FIELDS\n",
    "from estimation_assessment.scores import *\n",
    "\n",
    "training_folder=\"/media/sun/DATA/drop_landing_workspace/results/training_testing/2022-08-19/training_012450/\"\n",
    "scaler = load_scaler('landing_scaler_file')\n",
    "hyperparams = initParameters(labels_names=['R_GRF_Z'],features_names= ['TIME'] + const.extract_imu_fields(const.IMU_SENSOR_LIST,const.ACC_GYRO_FIELDS))\n",
    "\n",
    "norm_subjects_trials_data = load_subjects_dataset(h5_file_name = os.path.join(DATA_PATH,'norm_walking_data.hdf5'), selected_columns = hyperparams['columns_names'])\n",
    "test_data =  norm_subjects_trials_data['subject_03']['1'].values"
   ]
  }
 ],
 "metadata": {
  "kernelspec": {
   "display_name": "Python 3",
   "language": "python",
   "name": "python3"
  },
  "language_info": {
   "codemirror_mode": {
    "name": "ipython",
    "version": 3
   },
   "file_extension": ".py",
   "mimetype": "text/x-python",
   "name": "python",
   "nbconvert_exporter": "python",
   "pygments_lexer": "ipython3",
   "version": "3.9.2"
  }
 },
 "nbformat": 4,
 "nbformat_minor": 5
}
