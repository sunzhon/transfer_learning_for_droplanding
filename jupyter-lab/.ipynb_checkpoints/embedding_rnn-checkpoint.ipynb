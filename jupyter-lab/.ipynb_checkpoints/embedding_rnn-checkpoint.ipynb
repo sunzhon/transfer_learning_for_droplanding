{
 "cells": [
  {
   "cell_type": "code",
   "execution_count": 16,
   "id": "8c9a407f-154e-4ad7-a118-23a8d7a57b29",
   "metadata": {},
   "outputs": [
    {
     "name": "stdout",
     "output_type": "stream",
     "text": [
      "sys.version_info(major=3, minor=9, micro=2, releaselevel='final', serial=0)\n",
      "matplotlib 3.4.2\n",
      "numpy 1.19.5\n",
      "pandas 1.2.4\n",
      "sklearn 0.23.2\n",
      "tensorflow 2.5.0\n",
      "tensorflow.keras 2.5.0\n"
     ]
    }
   ],
   "source": [
    "import tensorflow as tf\n",
    "import matplotlib as mpl\n",
    "import matplotlib.pyplot as plt\n",
    "import numpy as np\n",
    "import pandas as pd\n",
    "\n",
    "import os\n",
    "import sys\n",
    "import time\n",
    "\n",
    "from tensorflow import keras\n",
    "import sklearn \n",
    "\n",
    "print(sys.version_info)\n",
    "\n",
    "for module in mpl, np, pd, sklearn, tf, keras:\n",
    "    print(module.__name__, module.__version__)"
   ]
  },
  {
   "cell_type": "code",
   "execution_count": 3,
   "id": "f5f87899-a6e2-44fe-a88f-d8a48cca44d7",
   "metadata": {},
   "outputs": [
    {
     "name": "stderr",
     "output_type": "stream",
     "text": [
      "<__array_function__ internals>:5: VisibleDeprecationWarning: Creating an ndarray from ragged nested sequences (which is a list-or-tuple of lists-or-tuples-or ndarrays with different lengths or shapes) is deprecated. If you meant to do this, you must specify 'dtype=object' when creating the ndarray\n",
      "/home/sun/.pyenv/versions/DataVisualization/lib/python3.9/site-packages/tensorflow/python/keras/datasets/imdb.py:155: VisibleDeprecationWarning: Creating an ndarray from ragged nested sequences (which is a list-or-tuple of lists-or-tuples-or ndarrays with different lengths or shapes) is deprecated. If you meant to do this, you must specify 'dtype=object' when creating the ndarray\n",
      "  x_train, y_train = np.array(xs[:idx]), np.array(labels[:idx])\n",
      "/home/sun/.pyenv/versions/DataVisualization/lib/python3.9/site-packages/tensorflow/python/keras/datasets/imdb.py:156: VisibleDeprecationWarning: Creating an ndarray from ragged nested sequences (which is a list-or-tuple of lists-or-tuples-or ndarrays with different lengths or shapes) is deprecated. If you meant to do this, you must specify 'dtype=object' when creating the ndarray\n",
      "  x_test, y_test = np.array(xs[idx:]), np.array(labels[idx:])\n"
     ]
    }
   ],
   "source": [
    "imdb = keras.datasets.imdb\n",
    "\n",
    "vocab_size = 1000\n",
    "\n",
    "index_from = 3\n",
    "\n",
    "(train_data, train_labels), (test_data, test_labels) = imdb.load_data(num_words=vocab_size,index_from=index_from)"
   ]
  },
  {
   "cell_type": "code",
   "execution_count": 4,
   "id": "1b3f4b92-19e4-4444-befc-353f61e9456b",
   "metadata": {},
   "outputs": [
    {
     "name": "stdout",
     "output_type": "stream",
     "text": [
      "[1, 14, 22, 16, 43, 530, 973, 2, 2, 65, 458, 2, 66, 2, 4, 173, 36, 256, 5, 25, 100, 43, 838, 112, 50, 670, 2, 9, 35, 480, 284, 5, 150, 4, 172, 112, 167, 2, 336, 385, 39, 4, 172, 2, 2, 17, 546, 38, 13, 447, 4, 192, 50, 16, 6, 147, 2, 19, 14, 22, 4, 2, 2, 469, 4, 22, 71, 87, 12, 16, 43, 530, 38, 76, 15, 13, 2, 4, 22, 17, 515, 17, 12, 16, 626, 18, 2, 5, 62, 386, 12, 8, 316, 8, 106, 5, 4, 2, 2, 16, 480, 66, 2, 33, 4, 130, 12, 16, 38, 619, 5, 25, 124, 51, 36, 135, 48, 25, 2, 33, 6, 22, 12, 215, 28, 77, 52, 5, 14, 407, 16, 82, 2, 8, 4, 107, 117, 2, 15, 256, 4, 2, 7, 2, 5, 723, 36, 71, 43, 530, 476, 26, 400, 317, 46, 7, 4, 2, 2, 13, 104, 88, 4, 381, 15, 297, 98, 32, 2, 56, 26, 141, 6, 194, 2, 18, 4, 226, 22, 21, 134, 476, 26, 480, 5, 144, 30, 2, 18, 51, 36, 28, 224, 92, 25, 104, 4, 226, 65, 16, 38, 2, 88, 12, 16, 283, 5, 16, 2, 113, 103, 32, 15, 16, 2, 19, 178, 32] 1\n",
      "(25000,) (25000,)\n",
      "218 189\n"
     ]
    }
   ],
   "source": [
    "print(train_data[0], train_labels[0])\n",
    "print(train_data.shape, train_labels.shape)\n",
    "print(len(train_data[0]),len(train_data[1]))"
   ]
  },
  {
   "cell_type": "code",
   "execution_count": 5,
   "id": "b666ed3b-b984-48c5-abb0-4b586c0ac114",
   "metadata": {},
   "outputs": [
    {
     "name": "stdout",
     "output_type": "stream",
     "text": [
      "(25000,) (25000,)\n",
      "88584\n"
     ]
    }
   ],
   "source": [
    "print(test_data.shape, test_labels.shape)\n",
    "word_index = imdb.get_word_index()\n",
    "print(len(word_index))\n"
   ]
  },
  {
   "cell_type": "code",
   "execution_count": 6,
   "id": "2371d5e1-07eb-449e-806a-09499a54144e",
   "metadata": {},
   "outputs": [],
   "source": [
    "word_index = {k:(v+3) for k, v in word_index.items()}"
   ]
  },
  {
   "cell_type": "code",
   "execution_count": 7,
   "id": "85a51bdd-52ad-4246-bea9-8e43c33f32c7",
   "metadata": {},
   "outputs": [
    {
     "name": "stdout",
     "output_type": "stream",
     "text": [
      "9\n"
     ]
    }
   ],
   "source": [
    "word_index['<PAD>'] = 0\n",
    "word_index['<START>'] = 1\n",
    "word_index['<UNK>'] = 2\n",
    "word_index['<END>'] = 3\n",
    "\n",
    "print(word_index.get('is'))\n"
   ]
  },
  {
   "cell_type": "code",
   "execution_count": 8,
   "id": "6b6b4465-c16e-4933-ba24-72e26a3b8722",
   "metadata": {},
   "outputs": [
    {
     "name": "stdout",
     "output_type": "stream",
     "text": [
      "a\n"
     ]
    }
   ],
   "source": [
    "reverse_word_index = dict([(value, key) for key, value in word_index.items()])\n",
    "\n",
    "def decode_review(text_ids):\n",
    "    return ''.join([reverse_word_index.get(word_id, '<UNK>') for word_id in text_ids])\n",
    "\n",
    "\n",
    "print(reverse_word_index.get(6))\n",
    "#decode_review(train_data[0])"
   ]
  },
  {
   "cell_type": "code",
   "execution_count": 9,
   "id": "b755d8d1-1b48-4920-b339-5641ef05a502",
   "metadata": {},
   "outputs": [
    {
     "name": "stdout",
     "output_type": "stream",
     "text": [
      "[  1  14  22  16  43 530 973   2   2  65 458   2  66   2   4 173  36 256\n",
      "   5  25 100  43 838 112  50 670   2   9  35 480 284   5 150   4 172 112\n",
      " 167   2 336 385  39   4 172   2   2  17 546  38  13 447   4 192  50  16\n",
      "   6 147   2  19  14  22   4   2   2 469   4  22  71  87  12  16  43 530\n",
      "  38  76  15  13   2   4  22  17 515  17  12  16 626  18   2   5  62 386\n",
      "  12   8 316   8 106   5   4   2   2  16 480  66   2  33   4 130  12  16\n",
      "  38 619   5  25 124  51  36 135  48  25   2  33   6  22  12 215  28  77\n",
      "  52   5  14 407  16  82   2   8   4 107 117   2  15 256   4   2   7   2\n",
      "   5 723  36  71  43 530 476  26 400 317  46   7   4   2   2  13 104  88\n",
      "   4 381  15 297  98  32   2  56  26 141   6 194   2  18   4 226  22  21\n",
      " 134 476  26 480   5 144  30   2  18  51  36  28 224  92  25 104   4 226\n",
      "  65  16  38   2  88  12  16 283   5  16   2 113 103  32  15  16   2  19\n",
      " 178  32   0   0   0   0   0   0   0   0   0   0   0   0   0   0   0   0\n",
      "   0   0   0   0   0   0   0   0   0   0   0   0   0   0   0   0   0   0\n",
      "   0   0   0   0   0   0   0   0   0   0   0   0   0   0   0   0   0   0\n",
      "   0   0   0   0   0   0   0   0   0   0   0   0   0   0   0   0   0   0\n",
      "   0   0   0   0   0   0   0   0   0   0   0   0   0   0   0   0   0   0\n",
      "   0   0   0   0   0   0   0   0   0   0   0   0   0   0   0   0   0   0\n",
      "   0   0   0   0   0   0   0   0   0   0   0   0   0   0   0   0   0   0\n",
      "   0   0   0   0   0   0   0   0   0   0   0   0   0   0   0   0   0   0\n",
      "   0   0   0   0   0   0   0   0   0   0   0   0   0   0   0   0   0   0\n",
      "   0   0   0   0   0   0   0   0   0   0   0   0   0   0   0   0   0   0\n",
      "   0   0   0   0   0   0   0   0   0   0   0   0   0   0   0   0   0   0\n",
      "   0   0   0   0   0   0   0   0   0   0   0   0   0   0   0   0   0   0\n",
      "   0   0   0   0   0   0   0   0   0   0   0   0   0   0   0   0   0   0\n",
      "   0   0   0   0   0   0   0   0   0   0   0   0   0   0   0   0   0   0\n",
      "   0   0   0   0   0   0   0   0   0   0   0   0   0   0   0   0   0   0\n",
      "   0   0   0   0   0   0   0   0   0   0   0   0   0   0]\n"
     ]
    }
   ],
   "source": [
    "max_length = 500\n",
    "\n",
    "train_data = keras.preprocessing.sequence.pad_sequences(\n",
    "    train_data,\n",
    "    value = word_index['<PAD>'],\n",
    "    padding = 'post',\n",
    "    maxlen = max_length\n",
    ")\n",
    "    \n",
    "test_data = keras.preprocessing.sequence.pad_sequences(\n",
    "    test_data,\n",
    "    value = word_index['<PAD>'],\n",
    "    padding = 'post',\n",
    "    maxlen = max_length\n",
    ")\n",
    "    \n",
    "print(train_data[0])"
   ]
  },
  {
   "cell_type": "code",
   "execution_count": 11,
   "id": "49330bd6-db56-4f8a-9d3e-76db55fc080d",
   "metadata": {},
   "outputs": [
    {
     "name": "stdout",
     "output_type": "stream",
     "text": [
      "Model: \"sequential\"\n",
      "_________________________________________________________________\n",
      "Layer (type)                 Output Shape              Param #   \n",
      "=================================================================\n",
      "embedding (Embedding)        (None, 500, 16)           16000     \n",
      "_________________________________________________________________\n",
      "global_average_pooling1d (Gl (None, 16)                0         \n",
      "_________________________________________________________________\n",
      "dense (Dense)                (None, 64)                1088      \n",
      "_________________________________________________________________\n",
      "dense_1 (Dense)              (None, 1)                 65        \n",
      "=================================================================\n",
      "Total params: 17,153\n",
      "Trainable params: 17,153\n",
      "Non-trainable params: 0\n",
      "_________________________________________________________________\n"
     ]
    }
   ],
   "source": [
    "embedding_dim = 16 # \n",
    "batch_size = 128\n",
    "model = keras.models.Sequential([\n",
    "    # 1. define matrix: [vocat_size, embeddding_dim]\n",
    "    # 2. [1,2,3,4,  ], max_length* embedding_dim,\n",
    "    # 3. batch_size * max_length * embedding_dim\n",
    "    keras.layers.Embedding(vocab_size, embedding_dim, input_length = max_length),\n",
    "    # batch-size * max_length * embedding_dim -> batch_size* embedding_dim\n",
    "    keras.layers.GlobalAvgPool1D(),\n",
    "    keras.layers.Dense(64, activation = 'relu'),\n",
    "    keras.layers.Dense(1, activation = 'sigmoid')])\n",
    "\n",
    "model.summary()\n",
    "\n",
    "model.compile(loss='binary_crossentropy',optimizer='adam', metrics= ['accuracy'])"
   ]
  },
  {
   "cell_type": "code",
   "execution_count": 13,
   "id": "e939c93e-16c7-4a20-a5fd-5c168b05dfa6",
   "metadata": {},
   "outputs": [
    {
     "name": "stdout",
     "output_type": "stream",
     "text": [
      "Epoch 1/30\n",
      "157/157 [==============================] - 1s 5ms/step - loss: 0.6864 - accuracy: 0.5769 - val_loss: 0.6626 - val_accuracy: 0.7160\n",
      "Epoch 2/30\n",
      "157/157 [==============================] - 1s 4ms/step - loss: 0.5842 - accuracy: 0.7538 - val_loss: 0.4933 - val_accuracy: 0.8004\n",
      "Epoch 3/30\n",
      "157/157 [==============================] - 1s 4ms/step - loss: 0.4328 - accuracy: 0.8283 - val_loss: 0.4177 - val_accuracy: 0.8152\n",
      "Epoch 4/30\n",
      "157/157 [==============================] - 1s 4ms/step - loss: 0.3702 - accuracy: 0.8496 - val_loss: 0.3848 - val_accuracy: 0.8358\n",
      "Epoch 5/30\n",
      "157/157 [==============================] - 1s 4ms/step - loss: 0.3464 - accuracy: 0.8566 - val_loss: 0.3619 - val_accuracy: 0.8482\n",
      "Epoch 6/30\n",
      "157/157 [==============================] - 1s 4ms/step - loss: 0.3313 - accuracy: 0.8650 - val_loss: 0.3526 - val_accuracy: 0.8512\n",
      "Epoch 7/30\n",
      "157/157 [==============================] - 1s 4ms/step - loss: 0.3229 - accuracy: 0.8684 - val_loss: 0.3451 - val_accuracy: 0.8576\n",
      "Epoch 8/30\n",
      "157/157 [==============================] - 1s 4ms/step - loss: 0.3143 - accuracy: 0.8727 - val_loss: 0.3428 - val_accuracy: 0.8586\n",
      "Epoch 9/30\n",
      "157/157 [==============================] - 1s 4ms/step - loss: 0.3082 - accuracy: 0.8746 - val_loss: 0.3366 - val_accuracy: 0.8614\n",
      "Epoch 10/30\n",
      "157/157 [==============================] - 1s 4ms/step - loss: 0.3038 - accuracy: 0.8762 - val_loss: 0.3336 - val_accuracy: 0.8636\n",
      "Epoch 11/30\n",
      "157/157 [==============================] - 1s 4ms/step - loss: 0.3021 - accuracy: 0.8785 - val_loss: 0.3360 - val_accuracy: 0.8606\n",
      "Epoch 12/30\n",
      "157/157 [==============================] - 1s 4ms/step - loss: 0.2990 - accuracy: 0.8796 - val_loss: 0.3331 - val_accuracy: 0.8640\n",
      "Epoch 13/30\n",
      "157/157 [==============================] - 1s 5ms/step - loss: 0.2961 - accuracy: 0.8806 - val_loss: 0.3318 - val_accuracy: 0.8630\n",
      "Epoch 14/30\n",
      "157/157 [==============================] - 1s 4ms/step - loss: 0.2949 - accuracy: 0.8809 - val_loss: 0.3307 - val_accuracy: 0.8662\n",
      "Epoch 15/30\n",
      "157/157 [==============================] - 1s 4ms/step - loss: 0.2925 - accuracy: 0.8817 - val_loss: 0.3290 - val_accuracy: 0.8650\n",
      "Epoch 16/30\n",
      "157/157 [==============================] - 1s 4ms/step - loss: 0.2920 - accuracy: 0.8816 - val_loss: 0.3294 - val_accuracy: 0.8628\n",
      "Epoch 17/30\n",
      "157/157 [==============================] - 1s 4ms/step - loss: 0.2900 - accuracy: 0.8813 - val_loss: 0.3283 - val_accuracy: 0.8636\n",
      "Epoch 18/30\n",
      "157/157 [==============================] - 1s 4ms/step - loss: 0.2888 - accuracy: 0.8844 - val_loss: 0.3307 - val_accuracy: 0.8628\n",
      "Epoch 19/30\n",
      "157/157 [==============================] - 1s 4ms/step - loss: 0.2877 - accuracy: 0.8838 - val_loss: 0.3255 - val_accuracy: 0.8654\n",
      "Epoch 20/30\n",
      "157/157 [==============================] - 1s 4ms/step - loss: 0.2859 - accuracy: 0.8845 - val_loss: 0.3289 - val_accuracy: 0.8622\n",
      "Epoch 21/30\n",
      "157/157 [==============================] - 1s 4ms/step - loss: 0.2852 - accuracy: 0.8853 - val_loss: 0.3237 - val_accuracy: 0.8640\n",
      "Epoch 22/30\n",
      "157/157 [==============================] - 1s 4ms/step - loss: 0.2846 - accuracy: 0.8854 - val_loss: 0.3233 - val_accuracy: 0.8628\n",
      "Epoch 23/30\n",
      "157/157 [==============================] - 1s 4ms/step - loss: 0.2838 - accuracy: 0.8850 - val_loss: 0.3246 - val_accuracy: 0.8628\n",
      "Epoch 24/30\n",
      "157/157 [==============================] - 1s 4ms/step - loss: 0.2851 - accuracy: 0.8842 - val_loss: 0.3232 - val_accuracy: 0.8630\n",
      "Epoch 25/30\n",
      "157/157 [==============================] - 1s 4ms/step - loss: 0.2813 - accuracy: 0.8866 - val_loss: 0.3256 - val_accuracy: 0.8610\n",
      "Epoch 26/30\n",
      "157/157 [==============================] - 1s 4ms/step - loss: 0.2818 - accuracy: 0.8856 - val_loss: 0.3227 - val_accuracy: 0.8648\n",
      "Epoch 27/30\n",
      "157/157 [==============================] - 1s 4ms/step - loss: 0.2810 - accuracy: 0.8868 - val_loss: 0.3296 - val_accuracy: 0.8622\n",
      "Epoch 28/30\n",
      "157/157 [==============================] - 1s 4ms/step - loss: 0.2803 - accuracy: 0.8863 - val_loss: 0.3263 - val_accuracy: 0.8630\n",
      "Epoch 29/30\n",
      "157/157 [==============================] - 1s 4ms/step - loss: 0.2830 - accuracy: 0.8852 - val_loss: 0.3271 - val_accuracy: 0.8564\n",
      "Epoch 30/30\n",
      "157/157 [==============================] - 1s 4ms/step - loss: 0.2805 - accuracy: 0.8860 - val_loss: 0.3270 - val_accuracy: 0.8642\n"
     ]
    }
   ],
   "source": [
    "history = model.fit(train_data,train_labels,epochs=30,batch_size=batch_size, validation_split = 0.2)"
   ]
  },
  {
   "cell_type": "code",
   "execution_count": 17,
   "id": "3aa5c619-3fb4-49ea-b235-a55a48f28052",
   "metadata": {},
   "outputs": [
    {
     "data": {
      "image/png": "[encoded data removed]",
      "text/plain": [
       "<Figure size 576x360 with 1 Axes>"
      ]
     },
     "metadata": {
      "needs_background": "light"
     },
     "output_type": "display_data"
    },
    {
     "data": {
      "image/png": "[encoded data removed]",
      "text/plain": [
       "<Figure size 576x360 with 1 Axes>"
      ]
     },
     "metadata": {
      "needs_background": "light"
     },
     "output_type": "display_data"
    }
   ],
   "source": [
    "def plot_learning_curves(history, label, epochs, min_value, max_value):\n",
    "    data  ={}\n",
    "    data[label] = history.history[label]\n",
    "    data['val_'+label] = history.history['val_'+label]\n",
    "    pd.DataFrame(data).plot(figsize=(8,5))\n",
    "    plt.grid(True)\n",
    "    plt.axis([0,epochs, min_value, max_value])\n",
    "    plt.show()\n",
    "    \n",
    "plot_learning_curves(history, 'accuracy', 30, 0, 1)\n",
    "plot_learning_curves(history, 'loss', 30, 0, 1)"
   ]
  },
  {
   "cell_type": "code",
   "execution_count": 18,
   "id": "1e3a79cd-cd29-4496-a8c6-6e687c44b2ca",
   "metadata": {},
   "outputs": [
    {
     "name": "stdout",
     "output_type": "stream",
     "text": [
      "196/196 [==============================] - 0s 1ms/step - loss: 0.3189 - accuracy: 0.8640\n"
     ]
    },
    {
     "data": {
      "text/plain": [
       "[0.3189076781272888, 0.8640400171279907]"
      ]
     },
     "execution_count": 18,
     "metadata": {},
     "output_type": "execute_result"
    }
   ],
   "source": [
    "model.evaluate(test_data, test_labels,batch_size = batch_size)"
   ]
  },
  {
   "cell_type": "markdown",
   "id": "2232132a-095d-42e4-9c59-4a20cb4b6f42",
   "metadata": {},
   "source": []
  }
 ],
 "metadata": {
  "kernelspec": {
   "display_name": "Python 3",
   "language": "python",
   "name": "python3"
  },
  "language_info": {
   "codemirror_mode": {
    "name": "ipython",
    "version": 3
   },
   "file_extension": ".py",
   "mimetype": "text/x-python",
   "name": "python",
   "nbconvert_exporter": "python",
   "pygments_lexer": "ipython3",
   "version": "3.9.2"
  }
 },
 "nbformat": 4,
 "nbformat_minor": 5
}
