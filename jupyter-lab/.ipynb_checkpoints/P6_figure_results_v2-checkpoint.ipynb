{
 "cells": [
  {
   "cell_type": "code",
   "execution_count": null,
   "id": "e01d23a2-23f5-4b64-8b3d-13439b60286d",
   "metadata": {
    "tags": []
   },
   "outputs": [],
   "source": [
    "import os\n",
    "import sys\n",
    "sys.path.append(\"./../\")\n",
    "import numpy as np\n",
    "import matplotlib.pyplot as plt\n",
    "import pdb\n",
    "import pandas as pd\n",
    "import yaml\n",
    "import h5py\n",
    "import vicon_imu_data_process.process_landing_data as pro_rd\n",
    "\n",
    "import seaborn as sns\n",
    "import copy\n",
    "import re\n",
    "import json\n",
    "\n",
    "from vicon_imu_data_process.const import FEATURES_FIELDS, LABELS_FIELDS, DATA_PATH\n",
    "from vicon_imu_data_process.const import DROPLANDING_PERIOD, RESULTS_PATH\n",
    "from vicon_imu_data_process import const\n",
    "\n",
    "#from models.rnn_models import *\n",
    "from sklearn.preprocessing import StandardScaler\n",
    "from sklearn.model_selection import LeaveOneOut\n",
    "from sklearn.model_selection import KFold\n",
    "import time as localtimepkg\n",
    "\n",
    "#from estimation_study import *\n",
    "from assessments.visualization import *\n",
    "#import pdb\n",
    "import re\n",
    "\n",
    "import logging\n",
    "logging.basicConfig(level=logging.ERROR)"
   ]
  },
  {
   "cell_type": "markdown",
   "id": "e799658f-b208-4fc4-8cbe-1c6d85a73d98",
   "metadata": {
    "tags": []
   },
   "source": [
    "## Baseline"
   ]
  },
  {
   "cell_type": "markdown",
   "id": "36f15c5c-300f-40ae-bf69-f84e7f6e0314",
   "metadata": {
    "tags": []
   },
   "source": [
    "### Baseline curves"
   ]
  },
  {
   "cell_type": "code",
   "execution_count": null,
   "id": "8ea88f87-e6f1-45c1-abf8-6bec79bec643",
   "metadata": {
    "tags": []
   },
   "outputs": [],
   "source": [
    "## Plot estimation curves\n",
    "\n",
    "\n",
    "combination_investigation_results = [\n",
    "    os.path.join(RESULTS_PATH, \"training_testing\",\"baseline_mlnn_v11_5\",str(train_sub_num)+\"sub\",str(trial_num)+\"trials\",\"testing_result_folders.txt\") for train_sub_num in [1] for trial_num in [5]\n",
    "]+[\n",
    "    os.path.join(RESULTS_PATH, \"training_testing\",\"baseline_mlnn_v11_5\",str(train_sub_num)+\"sub\",str(trial_num)+\"trials\",\"testing_result_folders.txt\") for train_sub_num in [14] for trial_num in [25]]\n",
    "\n",
    "combination_investigation_results = [\n",
    "    os.path.join(RESULTS_PATH, \"training_testing\", \"baseline_mlnn_v18\",str(rot_id)+'rotid', str(sub_num)+\"sub\", str(trial_num)+\"tri\",  \n",
    "                 \"testing_result_folders.txt\") for sub_num in range(15,16,1) for trial_num in range(5, 6,5) for rot_id in [0]\n",
    "]\n",
    "\n",
    "\n",
    "combination_investigation_results =  [#combination_investigation_results +[\n",
    "            os.path.join(RESULTS_PATH, \"training_testing\", \"baseline_mlnn_kam_v20\",str(rot_id)+'rotid', str(sub_num)+\"sub\", str(trial_num)+\"tri\",  \n",
    "                 \"testing_result_folders.txt\") for sub_num in range(4,5,1) for trial_num in range(5, 16,5) for rot_id in [0]\n",
    "]\n",
    "\n",
    "\n",
    "combination_investigation_results =  [#combination_investigation_results +[\n",
    "            os.path.join(RESULTS_PATH, \"training_testing\", \"baseline_mlnn_pkem_v1\",str(rot_id)+'rotid', str(sub_num)+\"sub\", str(trial_num)+\"tri\",  \n",
    "                 \"testing_result_folders.txt\") for sub_num in range(14,15,1) for trial_num in range(25, 26,5) for rot_id in [10]\n",
    "]\n",
    "\n",
    "config = {\n",
    "    'xticks':[0.0, 0.1, 0.2, 0.3, 0.4, 0.5, 0.6, 0.7, 0.8],\n",
    "    'yticks':[-1.0, -0.5, 0.0, 0.5, 1.0, 1.5, 2.0, 2.5, 3.0],\n",
    "    'ylim':[-1.0, 3.0],\n",
    "    'figsize': (8,3),\n",
    "    'ylabels': 5*['Normalized KFM'],\n",
    "    'titles': ['A subject with five trials', '14 subjects with 25 trials'],\n",
    "    'font_scale':1.0, \n",
    "    'save_fig': True,\n",
    "    'fig_path': os.path.join(RESULTS_PATH,\"training_testing/visualization/P6\",\"Fig_results_baseline_curves.svg\"),\n",
    "    'save_format': '.svg'\n",
    "}\n",
    "\n",
    "figpath, multi_model_results = p6plot_statistic_actual_estimation_curves(combination_investigation_results, col_wrap=2, **config)"
   ]
  },
  {
   "cell_type": "code",
   "execution_count": null,
   "id": "9ccfc739-6d4c-44e8-91b4-b4c52f6680af",
   "metadata": {},
   "outputs": [],
   "source": [
    "# plot extimation curve of a trial\n",
    "print(combination_investigation_results[0],len(combination_investigation_results))\n",
    "#testing_folder=\n",
    "testing_folders =  get_investigation_training_testing_folders(combination_investigation_results[0])\n",
    "testing_folder = testing_folders['testing_folders'][10]\n",
    "[pd_labels, pd_predictions] = get_testing_results(testing_folder)\n",
    "plot_prediction(pd_labels,pd_predictions,testing_folder,verbose=1)"
   ]
  },
  {
   "cell_type": "code",
   "execution_count": null,
   "id": "12dea460-d0c1-4c14-b4e1-678b96165ab3",
   "metadata": {},
   "outputs": [],
   "source": [
    "multi_model_results"
   ]
  },
  {
   "cell_type": "markdown",
   "id": "82424427-c2c0-4ce5-a8ef-2302cc327036",
   "metadata": {
    "tags": []
   },
   "source": [
    "### baseline heatmap"
   ]
  },
  {
   "cell_type": "code",
   "execution_count": null,
   "id": "2a68ac17-c01a-41ca-9e99-55e308ea3a26",
   "metadata": {},
   "outputs": [],
   "source": [
    "# plot heatmap\n",
    "\n",
    "combination_investigation_results = [\n",
    "    os.path.join(RESULTS_PATH, \"training_testing\", \"baseline_mlnn_v11_5\",\n",
    "                str(sub_idx)+\"sub\", str(trial_idx)+\"trials\", \n",
    "                 \"testing_result_folders.txt\") for sub_idx in range(1,15,1) for trial_idx in range(5, 26,5)]\n",
    "\n",
    "combination_investigation_results =  [#combination_investigation_results +[\n",
    "    os.path.join(RESULTS_PATH, \"training_testing\", \"baseline_mlnn_v18\",str(rot_id)+'rotid', str(sub_num)+\"sub\", str(trial_num)+\"tri\",  \n",
    "                 \"testing_result_folders.txt\") for sub_num in range(1,15,1) for trial_num in range(5, 6,5) for rot_id in [0]\n",
    "]\n",
    "\n",
    "combination_investigation_results =  [#combination_investigation_results +[\n",
    "            os.path.join(RESULTS_PATH, \"training_testing\", \"baseline_mlnn_v20\",str(rot_id)+'rotid', str(sub_num)+\"sub\", str(trial_num)+\"tri\",  \n",
    "                 \"testing_result_folders.txt\") for sub_num in range(1,15,1) for trial_num in range(5, 26,5) for rot_id in [0]\n",
    "]\n",
    "\n",
    "#combination_investigation_results =  [#combination_investigation_results +[\n",
    "#            os.path.join(RESULTS_PATH, \"training_testing\", \"baseline_mlnn_kam_v20\",str(rot_id)+'rotid', str(sub_num)+\"sub\", str(trial_num)+\"tri\",  \n",
    "#                 \"testing_result_folders.txt\") for sub_num in range(1,5,1) for trial_num in range(5, 16,5) for rot_id in [0]\n",
    "#]\n",
    "\n",
    "\n",
    "\n",
    "#metrics = get_list_investigation_metrics(combination_investigation_results)\n",
    "\n",
    "\n",
    "combination_investigation_metrics = [os.path.join(os.path.dirname(folder), \"metrics.csv\") for folder in combination_investigation_results]\n",
    "metric_index='r2'\n",
    "filters={'drop_value':0.2,'sort_variable':metric_index}\n",
    "baseline_metrics = parse_list_investigation_metrics(combination_investigation_metrics,calculate_mean_subject_r2=False,**filters)\n",
    "data = baseline_metrics[['train_sub_num', 'trial_num', metric_index]].groupby(['train_sub_num','trial_num']).median().round(2).reset_index().pivot('train_sub_num','trial_num')[metric_index]\n",
    "#data = baseline_metrics[['trial_num','train_sub_num','mean_subject_r2']].groupby(['train_sub_num','trial_num']).median().round(2).reset_index().pivot('train_sub_num','trial_num')['mean_subject_r2']\n",
    "ax = sns.heatmap(data, vmin=0.5, vmax=0.95,cmap=\"RdBu_r\",center=0.8,annot=True,linewidths=0.3).invert_yaxis()\n",
    "plt.ylabel('Subject number')\n",
    "plt.xlabel('Trial number')\n",
    "save_format='svg'\n",
    "fig_path=os.path.join(RESULTS_PATH, \"visualization/P6/Fig_results_baseline_heatmap.svg\")\n",
    "#fig_path=os.path.join(\"./\",\"visualization/P6/Fig_results_baseline_heatmap.svg\")\n",
    "\n",
    "save_figure(fig_path,fig_format=save_format)\n",
    "#save_figure(os.path.dirname(combination_investigation_metrics[0]),fig_format=save_format)\n"
   ]
  },
  {
   "cell_type": "code",
   "execution_count": null,
   "id": "54698296-32c6-47a7-88e3-523df90381e5",
   "metadata": {},
   "outputs": [],
   "source": [
    "# model estimation comparison\n",
    "\n",
    "combination_investigation_results =  [#combination_investigation_results +[\n",
    "            os.path.join(RESULTS_PATH, \"training_testing\", \"baseline_mlnn_pkem_v1\",str(rot_id)+'rotid', str(sub_num)+\"sub\", str(trial_num)+\"tri\",  \n",
    "                 \"testing_result_folders.txt\") for sub_num in range(14,15,1) for trial_num in range(25, 26,5) for rot_id in [10]\n",
    "]\n",
    "\n",
    "\n",
    "#combination_investigation_results =  combination_investigation_results +[\n",
    "#            os.path.join(RESULTS_PATH, \"training_testing\", \"augmentation_pkem_v1\",str(rot_id)+'rotid', str(sub_num)+\"sub\", str(trial_num)+\"tri\",  \n",
    "#                 \"testing_result_folders.txt\") for sub_num in range(14,15,1) for trial_num in range(25, 26,5) for rot_id in [10]\n",
    "#]\n",
    "#\n",
    "#\n",
    "#combination_investigation_results =  combination_investigation_results +[\n",
    "#            os.path.join(RESULTS_PATH, \"training_testing\", \"augmentation_pkem_v1\",str(rot_id)+'rotid', str(sub_num)+\"sub\", str(trial_num)+\"tri\",  \n",
    "#                 \"testing_result_folders.txt\") for sub_num in range(14,15,1) for trial_num in range(25, 26,5) for rot_id in [5,20, 30, 40]\n",
    "#]\n",
    "#\n",
    "\n",
    "combination_investigation_results =  combination_investigation_results +[\n",
    "            os.path.join(RESULTS_PATH, \"training_testing\", \"augmentation_kem_v2\",str(rot_id)+'rotid', str(sub_num)+\"sub\", str(trial_num)+\"tri\",  \n",
    "                 \"testing_result_folders.txt\") for sub_num in range(14,15,1) for trial_num in range(25, 26,5) for rot_id in [6, 7, 8,9,10,11]\n",
    "]\n",
    "\n",
    "#metrics = get_list_investigation_metrics(combination_investigation_results)\n",
    "\n",
    "\n",
    "combination_investigation_metrics = [os.path.join(os.path.dirname(folder), \"metrics.csv\") for folder in combination_investigation_results]\n",
    "fig_path, r2 = plot_models_accuracy(combination_investigation_results,plot_params={'x':'config_name','y':'r2','hue':'model_selection'})"
   ]
  },
  {
   "cell_type": "code",
   "execution_count": null,
   "id": "decb6960-86dd-4421-af5f-cd6e088a76f1",
   "metadata": {},
   "outputs": [],
   "source": [
    "baseline_metrics.columns\n",
    "set(baseline_metrics[(baseline_metrics['train_sub_num']==5) & (baseline_metrics['trial_num']==5)].sort_values(by=['r2'])['subjects'])"
   ]
  },
  {
   "cell_type": "code",
   "execution_count": null,
   "id": "0bbcde7f-3e88-4832-a836-283418cdcb91",
   "metadata": {},
   "outputs": [],
   "source": [
    "baseline_metrics[(baseline_metrics['train_sub_num']==5) & (baseline_metrics['trial_num']==5)].sort_values(by=['r2'])#[['r2']]"
   ]
  },
  {
   "cell_type": "code",
   "execution_count": null,
   "id": "3b60bb67-b517-4def-aaef-f60d9306297d",
   "metadata": {},
   "outputs": [],
   "source": [
    "baseline_metrics[(baseline_metrics['train_sub_num']==5) & (baseline_metrics['trial_num']==5) & (baseline_metrics['subjects']=='P_08_zhangboyuan')].sort_values(by=['r2'])#[['r2']]"
   ]
  },
  {
   "cell_type": "code",
   "execution_count": null,
   "id": "0a3769c9-4665-4553-8443-c19c81f0189d",
   "metadata": {},
   "outputs": [],
   "source": [
    "baseline_metrics[(baseline_metrics['train_sub_num']>1)&(baseline_metrics['trial_num']>5)][['train_sub_num','trial_num','test_subject','r2','mean_subject_r2']].groupby(['train_sub_num','trial_num']).median()"
   ]
  },
  {
   "cell_type": "code",
   "execution_count": null,
   "id": "9c58df3c-d0d4-4c8d-9f23-982aae7a2ff2",
   "metadata": {
    "tags": []
   },
   "outputs": [],
   "source": [
    "# table\n",
    "\n",
    "filters={'drop_value':0.0,'sort_variable':'r2'}\n",
    "baseline_metrics = parase_list_investigation_metrics(combination_investigation_metrics,**filters)\n",
    "baseline_metrics[['trial_num','train_sub_num','r2']][aug_metrics['trial_num'].isin([25])].groupby(['train_sub_num','trial_num']).describe().round(2)['r2'][['min','50%', '75%','max']].T"
   ]
  },
  {
   "cell_type": "code",
   "execution_count": null,
   "id": "d43917e0-30af-41b0-a404-1f6bf3417005",
   "metadata": {},
   "outputs": [],
   "source": [
    "combination_investigation_metrics = [os.path.join(os.path.dirname(folder),\"metrics.csv\") for folder in combination_investigation_results]\n",
    "filters={'drop_value':0.0,'sort_variable':'r2'}\n",
    "baseline_metrics = parase_list_investigation_metrics(combination_investigation_metrics,**filters)\n",
    "baseline_metrics['subject_num'].replace({idx:idx-4 for idx in range(5,11)},inplace=True)\n",
    "\n",
    "baseline_metrics[['trial_num','subject_num','r2']][baseline_metrics['trial_num'].isin([25])].groupby(['subject_num','trial_num']).describe().round(2)['r2'][['min','50%', '75%','max']].T\n",
    "#baseline_metrics[['trial_num','subject_num','r2']].groupby(['subject_num','trial_num']).describe().round(2)['r2'][['min','50%', '75%','max']].T"
   ]
  },
  {
   "cell_type": "code",
   "execution_count": null,
   "id": "435c7fa1-e645-4ae6-a35b-99c94dd45634",
   "metadata": {},
   "outputs": [],
   "source": []
  },
  {
   "cell_type": "markdown",
   "id": "a6c19c57-8ffc-4773-bbbb-0e85c6135639",
   "metadata": {
    "tags": []
   },
   "source": [
    "## Augmentation"
   ]
  },
  {
   "cell_type": "markdown",
   "id": "f6b65be2-42e3-4fbd-8957-6b86f857ffe6",
   "metadata": {
    "jp-MarkdownHeadingCollapsed": true,
    "tags": []
   },
   "source": [
    "### Augmentation curves"
   ]
  },
  {
   "cell_type": "code",
   "execution_count": null,
   "id": "2404f79f-c41f-451a-8346-5b1c08ca5af0",
   "metadata": {},
   "outputs": [],
   "source": [
    "# Plot estimation results of augmentation\n",
    "\n",
    "\n",
    "combination_investigation_results = [\n",
    "    #os.path.join(RESULTS_PATH, \"training_testing\",\"augmenation_v11_5\",str(train_sub_num)+\"sub\",str(trial_num)+\"trials\",\"testing_result_folders.txt\") for train_sub_num in [1,14] for trial_num in [25]\n",
    "    os.path.join(RESULTS_PATH, \"training_testing\",\"augmenation_v15\", str(train_sub_num)+\"sub\",str(trial_num)+\"trials\",\"testing_result_folders.txt\") for train_sub_num in [1,14] for trial_num in [25]\n",
    "                                    ]\n",
    "\n",
    "\n",
    "config = {\n",
    "  'xticks':[0.0, 0.1, 0.2, 0.3, 0.4, 0.5, 0.6, 0.7, 0.8],\n",
    "  'yticks':[-1.0, -0.5, 0.0, 0.5, 1.0, 1.5, 2.0, 2.5, 3.0],\n",
    " 'ylim':[-1.0, 3.0],\n",
    "  'figsize': (8,3),\n",
    "  'ylabels': 5*['Normalized KFM'],\n",
    "   'titles': ['A subject with five trials', '14 subjects with 25 trials'],\n",
    "  'font_scale':1.0, \n",
    "   'save_fig': True,\n",
    "    'fig_path': os.path.join(RESULTS_PATH,\"training_testing/visualization/P6\",\"Fig_results_augmentation_curves.svg\"),\n",
    "    'save_format': '.svg'\n",
    "}\n",
    "\n",
    "figpath, multi_model_results = p6plot_statistic_actual_estimation_curves(combination_investigation_results, col_wrap=2, **config)"
   ]
  },
  {
   "cell_type": "markdown",
   "id": "62e09742-634c-42ce-a724-596f227f4b99",
   "metadata": {},
   "source": [
    "### Augmentation heatmap"
   ]
  },
  {
   "cell_type": "code",
   "execution_count": 8,
   "id": "a8ed76b4-d1ab-4a69-a95e-a78b5d740626",
   "metadata": {
    "tags": []
   },
   "outputs": [
    {
     "name": "stdout",
     "output_type": "stream",
     "text": [
      "/media/suntao/DATA/drop_landing_workspace/results/training_testing/augmentation_kem__1lstm_v4/6rotid/14sub/25tri/testing_result_folders.txt\n",
      "'NoneType' object has no attribute 'group' , No test folder in the path, Please check /media/suntao/DATA/drop_landing_workspace/results/training_testing/augmentation_kem__1lstm_v4/6rotid/14sub/25tri/testing_result_folders.txt, and then run evaluate_models_on_unseen_subjects() firstly\n",
      "> \u001b[0;32m/home/suntao/workspace/DataAnalysis/P6/transfer_learning_for_droplanding/assessments/scores.py\u001b[0m(435)\u001b[0;36mget_investigation_assessment\u001b[0;34m()\u001b[0m\n",
      "\u001b[0;32m    433 \u001b[0;31m\u001b[0;34m\u001b[0m\u001b[0m\n",
      "\u001b[0m\u001b[0;32m    434 \u001b[0;31m        \u001b[0;31m#1) load testing results\u001b[0m\u001b[0;34m\u001b[0m\u001b[0;34m\u001b[0m\u001b[0m\n",
      "\u001b[0m\u001b[0;32m--> 435 \u001b[0;31m        \u001b[0;32mtry\u001b[0m\u001b[0;34m:\u001b[0m\u001b[0;34m\u001b[0m\u001b[0;34m\u001b[0m\u001b[0m\n",
      "\u001b[0m\u001b[0;32m    436 \u001b[0;31m            \u001b[0;32mif\u001b[0m\u001b[0;34m(\u001b[0m\u001b[0;34m'r2'\u001b[0m \u001b[0;32mnot\u001b[0m \u001b[0;32min\u001b[0m \u001b[0mcolumns\u001b[0m\u001b[0;34m)\u001b[0m\u001b[0;34m:\u001b[0m\u001b[0;34m\u001b[0m\u001b[0;34m\u001b[0m\u001b[0m\n",
      "\u001b[0m\u001b[0;32m    437 \u001b[0;31m                \u001b[0;34m[\u001b[0m\u001b[0mpd_labels\u001b[0m\u001b[0;34m,\u001b[0m \u001b[0mpd_predictions\u001b[0m\u001b[0;34m]\u001b[0m \u001b[0;34m=\u001b[0m \u001b[0mget_testing_results\u001b[0m\u001b[0;34m(\u001b[0m\u001b[0mtesting_folder\u001b[0m\u001b[0;34m)\u001b[0m\u001b[0;34m\u001b[0m\u001b[0;34m\u001b[0m\u001b[0m\n",
      "\u001b[0m\n"
     ]
    },
    {
     "name": "stdin",
     "output_type": "stream",
     "text": [
      "ipdb>  l\n"
     ]
    },
    {
     "name": "stdout",
     "output_type": "stream",
     "text": [
      "\u001b[1;32m    430 \u001b[0m        \u001b[0;32mexcept\u001b[0m \u001b[0mException\u001b[0m \u001b[0;32mas\u001b[0m \u001b[0me\u001b[0m\u001b[0;34m:\u001b[0m\u001b[0;34m\u001b[0m\u001b[0;34m\u001b[0m\u001b[0m\n",
      "\u001b[1;32m    431 \u001b[0m            \u001b[0mprint\u001b[0m\u001b[0;34m(\u001b[0m\u001b[0me\u001b[0m\u001b[0;34m,\u001b[0m \u001b[0;34m', No test folder in the path, Please check {}, and then run evaluate_models_on_unseen_subjects() firstly'\u001b[0m\u001b[0;34m.\u001b[0m\u001b[0mformat\u001b[0m\u001b[0;34m(\u001b[0m\u001b[0mcombination_investigation_results\u001b[0m\u001b[0;34m)\u001b[0m\u001b[0;34m)\u001b[0m\u001b[0;34m\u001b[0m\u001b[0;34m\u001b[0m\u001b[0m\n",
      "\u001b[1;32m    432 \u001b[0m            \u001b[0mpdb\u001b[0m\u001b[0;34m.\u001b[0m\u001b[0mset_trace\u001b[0m\u001b[0;34m(\u001b[0m\u001b[0;34m)\u001b[0m\u001b[0;34m\u001b[0m\u001b[0;34m\u001b[0m\u001b[0m\n",
      "\u001b[1;32m    433 \u001b[0m\u001b[0;34m\u001b[0m\u001b[0m\n",
      "\u001b[1;32m    434 \u001b[0m        \u001b[0;31m#1) load testing results\u001b[0m\u001b[0;34m\u001b[0m\u001b[0;34m\u001b[0m\u001b[0m\n",
      "\u001b[0;32m--> 435 \u001b[0;31m        \u001b[0;32mtry\u001b[0m\u001b[0;34m:\u001b[0m\u001b[0;34m\u001b[0m\u001b[0;34m\u001b[0m\u001b[0m\n",
      "\u001b[0m\u001b[1;32m    436 \u001b[0m            \u001b[0;32mif\u001b[0m\u001b[0;34m(\u001b[0m\u001b[0;34m'r2'\u001b[0m \u001b[0;32mnot\u001b[0m \u001b[0;32min\u001b[0m \u001b[0mcolumns\u001b[0m\u001b[0;34m)\u001b[0m\u001b[0;34m:\u001b[0m\u001b[0;34m\u001b[0m\u001b[0;34m\u001b[0m\u001b[0m\n",
      "\u001b[1;32m    437 \u001b[0m                \u001b[0;34m[\u001b[0m\u001b[0mpd_labels\u001b[0m\u001b[0;34m,\u001b[0m \u001b[0mpd_predictions\u001b[0m\u001b[0;34m]\u001b[0m \u001b[0;34m=\u001b[0m \u001b[0mget_testing_results\u001b[0m\u001b[0;34m(\u001b[0m\u001b[0mtesting_folder\u001b[0m\u001b[0;34m)\u001b[0m\u001b[0;34m\u001b[0m\u001b[0;34m\u001b[0m\u001b[0m\n",
      "\u001b[1;32m    438 \u001b[0m                \u001b[0mmetrics\u001b[0m \u001b[0;34m=\u001b[0m \u001b[0mget_evaluation_metrics\u001b[0m\u001b[0;34m(\u001b[0m\u001b[0mpd_labels\u001b[0m\u001b[0;34m,\u001b[0m \u001b[0mpd_predictions\u001b[0m\u001b[0;34m)\u001b[0m \u001b[0;31m# get scores\u001b[0m\u001b[0;34m\u001b[0m\u001b[0;34m\u001b[0m\u001b[0m\n",
      "\u001b[1;32m    439 \u001b[0m            \u001b[0;32melse\u001b[0m\u001b[0;34m:\u001b[0m\u001b[0;34m\u001b[0m\u001b[0;34m\u001b[0m\u001b[0m\n",
      "\u001b[1;32m    440 \u001b[0m                \u001b[0mmetrics\u001b[0m\u001b[0;34m=\u001b[0m\u001b[0;34m{\u001b[0m\u001b[0;34m}\u001b[0m\u001b[0;34m\u001b[0m\u001b[0;34m\u001b[0m\u001b[0m\n",
      "\n"
     ]
    },
    {
     "name": "stdin",
     "output_type": "stream",
     "text": [
      "ipdb>  c\n"
     ]
    },
    {
     "name": "stdout",
     "output_type": "stream",
     "text": [
      "local variable 'test_id' referenced before assignment\n",
      "> \u001b[0;32m/home/suntao/workspace/DataAnalysis/P6/transfer_learning_for_droplanding/assessments/scores.py\u001b[0m(492)\u001b[0;36mget_investigation_assessment\u001b[0;34m()\u001b[0m\n",
      "\u001b[0;32m    490 \u001b[0;31m            \u001b[0mpdb\u001b[0m\u001b[0;34m.\u001b[0m\u001b[0mset_trace\u001b[0m\u001b[0;34m(\u001b[0m\u001b[0;34m)\u001b[0m\u001b[0;34m\u001b[0m\u001b[0;34m\u001b[0m\u001b[0m\n",
      "\u001b[0m\u001b[0;32m    491 \u001b[0;31m\u001b[0;34m\u001b[0m\u001b[0m\n",
      "\u001b[0m\u001b[0;32m--> 492 \u001b[0;31m        \u001b[0massessment\u001b[0m\u001b[0;34m.\u001b[0m\u001b[0mappend\u001b[0m\u001b[0;34m(\u001b[0m\u001b[0mmetrics\u001b[0m\u001b[0;34m)\u001b[0m\u001b[0;34m\u001b[0m\u001b[0;34m\u001b[0m\u001b[0m\n",
      "\u001b[0m\u001b[0;32m    493 \u001b[0;31m\u001b[0;34m\u001b[0m\u001b[0m\n",
      "\u001b[0m\u001b[0;32m    494 \u001b[0;31m    \u001b[0;31m#iii) concate to a pandas dataframe\u001b[0m\u001b[0;34m\u001b[0m\u001b[0;34m\u001b[0m\u001b[0m\n",
      "\u001b[0m\n"
     ]
    },
    {
     "name": "stdin",
     "output_type": "stream",
     "text": [
      "ipdb>  c\n"
     ]
    },
    {
     "name": "stdout",
     "output_type": "stream",
     "text": [
      "'NoneType' object has no attribute 'group' , No test folder in the path, Please check /media/suntao/DATA/drop_landing_workspace/results/training_testing/augmentation_kem__1lstm_v4/6rotid/14sub/25tri/testing_result_folders.txt, and then run evaluate_models_on_unseen_subjects() firstly\n",
      "> \u001b[0;32m/home/suntao/workspace/DataAnalysis/P6/transfer_learning_for_droplanding/assessments/scores.py\u001b[0m(432)\u001b[0;36mget_investigation_assessment\u001b[0;34m()\u001b[0m\n",
      "\u001b[0;32m    430 \u001b[0;31m        \u001b[0;32mexcept\u001b[0m \u001b[0mException\u001b[0m \u001b[0;32mas\u001b[0m \u001b[0me\u001b[0m\u001b[0;34m:\u001b[0m\u001b[0;34m\u001b[0m\u001b[0;34m\u001b[0m\u001b[0m\n",
      "\u001b[0m\u001b[0;32m    431 \u001b[0;31m            \u001b[0mprint\u001b[0m\u001b[0;34m(\u001b[0m\u001b[0me\u001b[0m\u001b[0;34m,\u001b[0m \u001b[0;34m', No test folder in the path, Please check {}, and then run evaluate_models_on_unseen_subjects() firstly'\u001b[0m\u001b[0;34m.\u001b[0m\u001b[0mformat\u001b[0m\u001b[0;34m(\u001b[0m\u001b[0mcombination_investigation_results\u001b[0m\u001b[0;34m)\u001b[0m\u001b[0;34m)\u001b[0m\u001b[0;34m\u001b[0m\u001b[0;34m\u001b[0m\u001b[0m\n",
      "\u001b[0m\u001b[0;32m--> 432 \u001b[0;31m            \u001b[0mpdb\u001b[0m\u001b[0;34m.\u001b[0m\u001b[0mset_trace\u001b[0m\u001b[0;34m(\u001b[0m\u001b[0;34m)\u001b[0m\u001b[0;34m\u001b[0m\u001b[0;34m\u001b[0m\u001b[0m\n",
      "\u001b[0m\u001b[0;32m    433 \u001b[0;31m\u001b[0;34m\u001b[0m\u001b[0m\n",
      "\u001b[0m\u001b[0;32m    434 \u001b[0;31m        \u001b[0;31m#1) load testing results\u001b[0m\u001b[0;34m\u001b[0m\u001b[0;34m\u001b[0m\u001b[0m\n",
      "\u001b[0m\n"
     ]
    },
    {
     "name": "stdin",
     "output_type": "stream",
     "text": [
      "ipdb>  c\n"
     ]
    },
    {
     "name": "stdout",
     "output_type": "stream",
     "text": [
      "local variable 'test_id' referenced before assignment\n",
      "> \u001b[0;32m/home/suntao/workspace/DataAnalysis/P6/transfer_learning_for_droplanding/assessments/scores.py\u001b[0m(492)\u001b[0;36mget_investigation_assessment\u001b[0;34m()\u001b[0m\n",
      "\u001b[0;32m    490 \u001b[0;31m            \u001b[0mpdb\u001b[0m\u001b[0;34m.\u001b[0m\u001b[0mset_trace\u001b[0m\u001b[0;34m(\u001b[0m\u001b[0;34m)\u001b[0m\u001b[0;34m\u001b[0m\u001b[0;34m\u001b[0m\u001b[0m\n",
      "\u001b[0m\u001b[0;32m    491 \u001b[0;31m\u001b[0;34m\u001b[0m\u001b[0m\n",
      "\u001b[0m\u001b[0;32m--> 492 \u001b[0;31m        \u001b[0massessment\u001b[0m\u001b[0;34m.\u001b[0m\u001b[0mappend\u001b[0m\u001b[0;34m(\u001b[0m\u001b[0mmetrics\u001b[0m\u001b[0;34m)\u001b[0m\u001b[0;34m\u001b[0m\u001b[0;34m\u001b[0m\u001b[0m\n",
      "\u001b[0m\u001b[0;32m    493 \u001b[0;31m\u001b[0;34m\u001b[0m\u001b[0m\n",
      "\u001b[0m\u001b[0;32m    494 \u001b[0;31m    \u001b[0;31m#iii) concate to a pandas dataframe\u001b[0m\u001b[0;34m\u001b[0m\u001b[0;34m\u001b[0m\u001b[0m\n",
      "\u001b[0m\n"
     ]
    },
    {
     "name": "stdin",
     "output_type": "stream",
     "text": [
      "ipdb>  c\n"
     ]
    },
    {
     "name": "stdout",
     "output_type": "stream",
     "text": [
      "'NoneType' object has no attribute 'group' , No test folder in the path, Please check /media/suntao/DATA/drop_landing_workspace/results/training_testing/augmentation_kem__1lstm_v4/6rotid/14sub/25tri/testing_result_folders.txt, and then run evaluate_models_on_unseen_subjects() firstly\n",
      "> \u001b[0;32m/home/suntao/workspace/DataAnalysis/P6/transfer_learning_for_droplanding/assessments/scores.py\u001b[0m(432)\u001b[0;36mget_investigation_assessment\u001b[0;34m()\u001b[0m\n",
      "\u001b[0;32m    430 \u001b[0;31m        \u001b[0;32mexcept\u001b[0m \u001b[0mException\u001b[0m \u001b[0;32mas\u001b[0m \u001b[0me\u001b[0m\u001b[0;34m:\u001b[0m\u001b[0;34m\u001b[0m\u001b[0;34m\u001b[0m\u001b[0m\n",
      "\u001b[0m\u001b[0;32m    431 \u001b[0;31m            \u001b[0mprint\u001b[0m\u001b[0;34m(\u001b[0m\u001b[0me\u001b[0m\u001b[0;34m,\u001b[0m \u001b[0;34m', No test folder in the path, Please check {}, and then run evaluate_models_on_unseen_subjects() firstly'\u001b[0m\u001b[0;34m.\u001b[0m\u001b[0mformat\u001b[0m\u001b[0;34m(\u001b[0m\u001b[0mcombination_investigation_results\u001b[0m\u001b[0;34m)\u001b[0m\u001b[0;34m)\u001b[0m\u001b[0;34m\u001b[0m\u001b[0;34m\u001b[0m\u001b[0m\n",
      "\u001b[0m\u001b[0;32m--> 432 \u001b[0;31m            \u001b[0mpdb\u001b[0m\u001b[0;34m.\u001b[0m\u001b[0mset_trace\u001b[0m\u001b[0;34m(\u001b[0m\u001b[0;34m)\u001b[0m\u001b[0;34m\u001b[0m\u001b[0;34m\u001b[0m\u001b[0m\n",
      "\u001b[0m\u001b[0;32m    433 \u001b[0;31m\u001b[0;34m\u001b[0m\u001b[0m\n",
      "\u001b[0m\u001b[0;32m    434 \u001b[0;31m        \u001b[0;31m#1) load testing results\u001b[0m\u001b[0;34m\u001b[0m\u001b[0;34m\u001b[0m\u001b[0m\n",
      "\u001b[0m\n"
     ]
    },
    {
     "name": "stdin",
     "output_type": "stream",
     "text": [
      "ipdb>  q\n"
     ]
    }
   ],
   "source": [
    "# imu augmentation\n",
    "combination_investigation_results = [ \n",
    "    os.path.join(RESULTS_PATH, \"training_testing\",\"augmentation_v11_5\", str(train_sub_num)+\"sub\", str(trial_num)+\"trials\",\n",
    "                 \"testing_result_folders.txt\") for train_sub_num in range(1,15,1) for trial_num in range(5,26,5)]\n",
    "\n",
    "\n",
    "combination_investigation_results =  [#combination_investigation_results +[\n",
    "            os.path.join(RESULTS_PATH, \"training_testing\", \"augmentation_kem_v3\",str(rot_id)+'rotid', str(sub_num)+\"sub\", str(trial_num)+\"tri\",  \n",
    "                 \"testing_result_folders.txt\") for sub_num in range(2,15,1) for trial_num in range(25, 26,5) for rot_id in [6]\n",
    "]\n",
    "\n",
    "combination_investigation_results =  [#combination_investigation_results +[\n",
    "            os.path.join(RESULTS_PATH, \"training_testing\", \"augmentation_dkem_v5\",str(rot_id)+'rotid', str(sub_num)+\"sub\", str(trial_num)+\"tri\",  \n",
    "                 \"testing_result_folders.txt\") for sub_num in range(14,15,1) for trial_num in range(25, 26,5) for rot_id in [6]\n",
    "]\n",
    "\n",
    "#metrics = get_list_investigation_metrics(combination_investigation_results)\n",
    "\n",
    "combination_investigation_metrics = [os.path.join(os.path.dirname(folder), \"metrics.csv\") for folder in combination_investigation_results]\n",
    "metric_index='r2'\n",
    "filters={'drop_value':0.2,'sort_variable':metric_index}\n",
    "aug_metrics = parse_list_investigation_metrics(combination_investigation_metrics,**filters)\n",
    "#aug_metrics['subject_num'].replace({idx:idx-4 for idx in range(5,11)},inplace=True)\n",
    "\n",
    "data = aug_metrics[['train_sub_num', 'trial_num', metric_index]].groupby(['train_sub_num','trial_num']).median().round(2).reset_index().pivot('train_sub_num','trial_num')[metric_index]\n",
    "ax = sns.heatmap(data, vmin=0.5, vmax=0.95,cmap=\"RdBu_r\",center=0.8,annot=True,linewidths=0.3).invert_yaxis()\n",
    "plt.ylabel('Subject number')\n",
    "plt.xlabel('Trial number')\n",
    "save_format='svg'\n",
    "fig_path = os.path.join(RESULTS_PATH, \"visualization/P6/Fig_results_augmentation_heatmap.svg\")\n",
    "save_figure(\"\",fig_path=fig_path,fig_format=save_format)\n",
    "\n"
   ]
  },
  {
   "cell_type": "code",
   "execution_count": null,
   "id": "dc592691-c8d5-4730-aa14-ece283973e4d",
   "metadata": {},
   "outputs": [],
   "source": [
    "\n",
    "combination_investigation_results = [\n",
    "    os.path.join(RESULTS_PATH, \"training_testing\",\"investigation_imu_augment_v2\",str(trial_idx)+\"trials\",str(sub_idx)+\"sub\",\"testing_result_folders.txt\") for sub_idx in range(1,15,1) for trial_idx in range(5,6,5)\n",
    "]\n",
    "\n",
    "#metrics = get_list_investigation_metrics(combination_investigation_results)\n",
    "\n",
    "combination_investigation_metrics = [os.path.join(os.path.dirname(folder),\"metrics.csv\") for folder in combination_investigation_results]\n",
    "filters={'drop_value':0.0,'sort_variable':'r2'}\n",
    "#filters={}\n",
    "\n",
    "aug_metrics = parase_list_investigation_metrics(combination_investigation_metrics,**filters)"
   ]
  },
  {
   "cell_type": "code",
   "execution_count": null,
   "id": "1bc03e2c-c9b3-456d-b843-94ce75557fa8",
   "metadata": {},
   "outputs": [],
   "source": [
    "aug_metrics[['test_subject','child_test_id','r2','subject_num']].groupby(['test_subject', 'subject_num']).mean().round(2).to_csv('ss.csv')"
   ]
  },
  {
   "cell_type": "code",
   "execution_count": null,
   "id": "8ff53c73-51e4-40f4-9799-ab784c3b602b",
   "metadata": {},
   "outputs": [],
   "source": [
    "aug_metrics.head()"
   ]
  },
  {
   "cell_type": "code",
   "execution_count": null,
   "id": "86e3c12e-06e7-447c-a0f2-dcfffcdfb3a4",
   "metadata": {},
   "outputs": [],
   "source": [
    "# table\n",
    "\n",
    "filters={'drop_value':0.0,'sort_variable':'r2'}\n",
    "aug_metrics = parase_list_investigation_metrics(combination_investigation_metrics,**filters)\n",
    "aug_metrics[['trial_num','subject_num','r2']][aug_metrics['trial_num'].isin([25])].groupby(['subject_num','trial_num']).describe().round(2)['r2'][['min','50%', '75%','max']].T"
   ]
  },
  {
   "cell_type": "markdown",
   "id": "290a2082-5152-4c24-9c85-63e9a327a42b",
   "metadata": {
    "tags": []
   },
   "source": [
    "## Comparsion"
   ]
  },
  {
   "cell_type": "code",
   "execution_count": null,
   "id": "b4e491ba-3c65-44dd-8f6f-b4ecc8fb811e",
   "metadata": {},
   "outputs": [],
   "source": [
    "# compare baseline and imu augmentation\n",
    "combination_investigation_results = [\n",
    "    os.path.join(RESULTS_PATH, \"training_testing\",\"baseline_mlnn_v11_5\",\n",
    "                 str(train_sub_num)+\"sub\",str(trial_num)+\"trials\",\n",
    "                 \"testing_result_folders.txt\") for train_sub_num in range(1,15,1) for trial_num in range(25,26,5)\n",
    "                                    ]+ [\n",
    "    os.path.join(RESULTS_PATH, \"training_testing\",\"augmentation_v11_5\",\n",
    "                 str(train_sub_num)+\"sub\",str(trial_num)+\"trials\",\n",
    "                 \"testing_result_folders.txt\") for train_sub_num in range(1,15,1) for trial_num in range(25,26,5)\n",
    "                                    ]\n",
    "\n",
    "\n",
    "combination_investigation_results =  [#combination_investigation_results +[\n",
    "            os.path.join(RESULTS_PATH, \"training_testing\", \"baseline_mlnn_v20\",str(rot_id)+'rotid', str(sub_num)+\"sub\", str(trial_num)+\"tri\",  \n",
    "                 \"testing_result_folders.txt\") for sub_num in range(1,15,1) for trial_num in range(5, 26,5) for rot_id in [0]\n",
    "                        ]+[#combination_investigation_results +[\n",
    "            os.path.join(RESULTS_PATH, \"training_testing\", \"augmentation_kem_v3\",str(rot_id)+'rotid', str(sub_num)+\"sub\", str(trial_num)+\"tri\",  \n",
    "                 \"testing_result_folders.txt\") for sub_num in range(2,15,1) for trial_num in range(25, 26,5) for rot_id in [6]\n",
    "]\n",
    "\n",
    "\n",
    "#metrics = get_list_investigation_metrics(combination_investigation_results)\n",
    "combination_investigation_metrics = [os.path.join(os.path.dirname(folder),\"metrics.csv\") for folder in combination_investigation_results]\n",
    "\n",
    "#subs = list(set(metrics['alias_name']))\n",
    "#replace_values = {sub: int(sub.split('v')[1])-1 for sub in subs}\n",
    "replace_values = {}\n",
    "replace_values.update({'baseline': 'Baseline', 'finetuning': 'Fine-tuning', 'imu_augment': 'IMU augmentation', 'Normal_DANN': 'DANN', 'DANN': 'TDANN', 'Aug_DANN': 'ADANN'})\n",
    "replace_values.update({'baseline_mlnn': 'Measured dataset', 'finetuning': 'Fine-tuning', 'augmentation': 'Augmented dataset', 'Normal_DANN': 'DANN', 'DANN': 'TDANN', 'Aug_DANN': 'ADANN'})\n",
    "print(replace_values)\n",
    "replace_columns = {'train_sub_num': 'Train subject number', 'trial_num': 'Trial number', 'model_selection':'Dataset'}\n",
    "test_pairs =(\n",
    "            [(1,'Measured dataset'), (1,'Augmented dataset')],\n",
    "            [(2,'Measured dataset'), (2,'Augmented dataset')],\n",
    "            [(3,'Measured dataset'), (3,'Augmented dataset')],\n",
    "            [(4,'Measured dataset'), (4,'Augmented dataset')],\n",
    "            [(5,'Measured dataset'), (5,'Augmented dataset')],\n",
    "            [(6,'Measured dataset'), (6,'Augmented dataset')],\n",
    "            [(7,'Measured dataset'), (7,'Augmented dataset')],\n",
    "            [(8,'Measured dataset'), (8,'Augmented dataset')],\n",
    "            [(9,'Measured dataset'), (9,'Augmented dataset')],\n",
    "            [(10,'Measured dataset'), (10,'Augmented dataset')],\n",
    "            [(11,'Measured dataset'), (11,'Augmented dataset')],\n",
    "            [(12,'Measured dataset'), (12,'Augmented dataset')],\n",
    "            [(13,'Measured dataset'), (13,'Augmented dataset')],\n",
    "            [(14,'Measured dataset'), (14,'Augmented dataset')],\n",
    "            )\n",
    "\n",
    "\n",
    "plot_config={\n",
    "        \"save_fig\": True, \"save_format\":\"jpg\", \"save_folder_index\": 0,\n",
    "         'figsize':(8, 5),\n",
    "         \"hue\": 'Dataset',\n",
    "        'replace_values': replace_values,\n",
    "        'replace_columns': replace_columns,\n",
    "        'x': 'Train subject number',\n",
    "        #'y': 'mean_subject_r2',\n",
    "        'y': 'r2',\n",
    "        'title': 'baseline',\n",
    "        'yticks': ( 0.7, 0.8, 0.9, 1.0),\n",
    "        #'plot_title': 'baseline',\n",
    "    'filters': {'drop_value':0.0,'sort_variable':'r2'},\n",
    "    'font_scale': 1.0,\n",
    "    'plot_type': 'barplot',\n",
    "    'ttest':True,\n",
    "    'fig_path': os.path.join(RESULTS_PATH, \"visualization/P6/Fig_results_comparison_v2.svg\"),\n",
    "    'test_pairs':test_pairs\n",
    "    }\n",
    "\n",
    "filters={'drop_value':0.0,'sort_variable':'r2'}\n",
    "p6plot_model_accuracy(combination_investigation_metrics, **plot_config)"
   ]
  },
  {
   "cell_type": "markdown",
   "id": "be0e0380-c824-4a8d-b74c-70c6fab397d2",
   "metadata": {
    "tags": []
   },
   "source": [
    "## Explore augmentation parameters"
   ]
  },
  {
   "cell_type": "code",
   "execution_count": null,
   "id": "d0b13814-8b14-4420-bded-ae3c9dc171b0",
   "metadata": {},
   "outputs": [],
   "source": [
    "combination_investigation_results = [\n",
    "    os.path.join(RESULTS_PATH, \"training_testing\", \"baseline_mlnn_v17\",str(rot_id)+'rotid', str(sub_num)+\"sub\", str(trial_num)+\"tri\",  \n",
    "                 \"testing_result_folders.txt\") for sub_num in range(15,16,1) for trial_num in range(25, 26,5) for rot_id in [0]\n",
    "    ]+[\n",
    "    os.path.join(RESULTS_PATH, \"training_testing\", \"augmentation_v16\",str(rot_id)+'rotid', str(sub_num)+\"sub\", str(trial_num)+\"tri\",  \n",
    "                 \"testing_result_folders.txt\") for sub_num in range(15,16,1) for trial_num in range(25, 26,5) for rot_id in [10,30]\n",
    "    ]+[\n",
    "    os.path.join(RESULTS_PATH, \"training_testing\", \"augmentation_v17\",str(rot_id)+'rotid', str(sub_num)+\"sub\", str(trial_num)+\"tri\",  \n",
    "                 \"testing_result_folders.txt\") for sub_num in range(15,16,1) for trial_num in range(25, 26,5) for rot_id in [50, 70, 90, 110, 130, 150, 170]\n",
    "    ]\n",
    "\n",
    "metrics = get_list_investigation_metrics(combination_investigation_results)"
   ]
  },
  {
   "cell_type": "code",
   "execution_count": null,
   "id": "d1b2a2e0-10a9-4a9f-a97f-bc095b2224ba",
   "metadata": {},
   "outputs": [],
   "source": [
    "#metrics['r2']=metrics['r2'].astype(float)\n",
    "#sns.barplot(data=metrics, x='config_name',y='r2')\n",
    "#plt.grid()\n",
    "\n",
    "combination_investigation_metrics = [os.path.join(os.path.dirname(folder), \"metrics.csv\") for folder in combination_investigation_results]\n",
    "\n",
    "fig_path, r2 = plot_models_accuracy(combination_investigation_results,plot_params={'x':'config_name','y':'r2', 'hue':'train_sub_num'})"
   ]
  },
  {
   "cell_type": "code",
   "execution_count": null,
   "id": "a7857f8c-b576-4bf5-8ffd-066991099cec",
   "metadata": {},
   "outputs": [],
   "source": [
    "%run visualization"
   ]
  }
 ],
 "metadata": {
  "kernelspec": {
   "display_name": "Python 3 (ipykernel)",
   "language": "python",
   "name": "python3"
  },
  "language_info": {
   "codemirror_mode": {
    "name": "ipython",
    "version": 3
   },
   "file_extension": ".py",
   "mimetype": "text/x-python",
   "name": "python",
   "nbconvert_exporter": "python",
   "pygments_lexer": "ipython3",
   "version": "3.9.16"
  }
 },
 "nbformat": 4,
 "nbformat_minor": 5
}
