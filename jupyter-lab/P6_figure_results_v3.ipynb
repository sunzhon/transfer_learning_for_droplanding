{
 "cells": [
  {
   "cell_type": "code",
   "execution_count": 7,
   "id": "e01d23a2-23f5-4b64-8b3d-13439b60286d",
   "metadata": {
    "tags": []
   },
   "outputs": [],
   "source": [
    "import os\n",
    "import sys\n",
    "sys.path.append(\"./../\")\n",
    "import numpy as np\n",
    "import matplotlib.pyplot as plt\n",
    "import pdb\n",
    "import pandas as pd\n",
    "import yaml\n",
    "import h5py\n",
    "import vicon_imu_data_process.process_landing_data as pro_rd\n",
    "\n",
    "import seaborn as sns\n",
    "import copy\n",
    "import re\n",
    "import json\n",
    "\n",
    "from vicon_imu_data_process.const import FEATURES_FIELDS, LABELS_FIELDS, DATA_PATH\n",
    "from vicon_imu_data_process.const import DROPLANDING_PERIOD, RESULTS_PATH\n",
    "from vicon_imu_data_process import const\n",
    "\n",
    "#from models.rnn_models import *\n",
    "from sklearn.preprocessing import StandardScaler\n",
    "from sklearn.model_selection import LeaveOneOut\n",
    "from sklearn.model_selection import KFold\n",
    "import time as localtimepkg\n",
    "\n",
    "#from estimation_study import *\n",
    "from assessments.visualization import *\n",
    "#import pdb\n",
    "import re\n",
    "\n",
    "import logging\n",
    "logging.basicConfig(level=logging.ERROR)\n"
   ]
  },
  {
   "cell_type": "markdown",
   "id": "da316798-ac51-479e-9b36-e4269a23be49",
   "metadata": {},
   "source": [
    "# Original dataset"
   ]
  },
  {
   "cell_type": "markdown",
   "id": "5abd1da8-dd3c-4372-80d1-cd2450670049",
   "metadata": {},
   "source": [
    "## Loadining results of original dataset"
   ]
  },
  {
   "cell_type": "code",
   "execution_count": 8,
   "id": "f3cdf857-bfa4-4b74-a442-08bc3cffe18b",
   "metadata": {
    "tags": []
   },
   "outputs": [
    {
     "name": "stdout",
     "output_type": "stream",
     "text": [
      "['rdouble_leg_v1_baseline_transformer_4_original_14_20_5_R_GRF_Z_test_model', 'rdouble_leg_v1_baseline_transformer_4_original_14_20_5_R_GRF_Z_test_model', 'rdouble_leg_v1_baseline_cnn_4_original_14_20_5_R_GRF_Z_test_model', 'rdouble_leg_v1_baseline_fc_4_original_14_20_5_R_GRF_Z_test_model', 'rdouble_leg_v1_baseline_lstm_4_original_14_20_5_R_GRF_Z_test_model']\n"
     ]
    }
   ],
   "source": [
    "# 1) load result path list\n",
    "result_folders_name = read_result_folder_file(\"test_cases_1.txt\")\n",
    "#result_folders = read_result_folder_file(\"da_e_rotation.txt\")\n",
    "print(result_folders_name)\n",
    "result_count_files = [os.path.join(RESULTS_PATH, \"training_testing\", result_folder,\"testing_result_folders.txt\")\n",
    "                                   for result_folder in result_folders_name]\n",
    "\n",
    "# 2) get testing metrics\n",
    "metrics_files = [os.path.join(os.path.dirname(folder), \"metrics.csv\") if(os.path.exists(os.path.join(os.path.dirname(folder), \"metrics.csv\"))) else folder for folder in result_count_files]\n",
    "#print(combination_investigation_results)\n",
    "\n",
    "# 3) collected or read or load metrics\n",
    "if True:\n",
    "    # load new metrics\n",
    "    raw_metrics = get_list_investigation_metrics(result_count_files)\n",
    "    # save the new metrics\n",
    "    raw_metrics.to_csv('./raw_metrics.csv')\n",
    "else:\n",
    "    # load old metrics\n",
    "    raw_metrics = pd.read_csv('./raw_metrics.csv')"
   ]
  },
  {
   "cell_type": "markdown",
   "id": "58cd9909-1416-4ffe-b99f-ff38ed38fdef",
   "metadata": {},
   "source": [
    "## Get metrics"
   ]
  },
  {
   "cell_type": "code",
   "execution_count": 9,
   "id": "532712bf-0d73-464f-8cca-28f33cba2fcd",
   "metadata": {
    "tags": []
   },
   "outputs": [
    {
     "name": "stdout",
     "output_type": "stream",
     "text": [
      "DROP r2 cases below :0.1\n",
      "DROP r2 cases below :0.1\n",
      "DROP r2 cases below :0.1\n",
      "DROP r2 cases below :0.1\n",
      "DROP r2 cases below :0.1\n"
     ]
    }
   ],
   "source": [
    "filters={'drop_value':0.1}\n",
    "metrics = parse_list_investigation_metrics(metrics_files,**filters)"
   ]
  },
  {
   "cell_type": "markdown",
   "id": "906a2a18-cce0-414f-af53-39d2096daf01",
   "metadata": {},
   "source": [
    "## Plots"
   ]
  },
  {
   "cell_type": "markdown",
   "id": "7a758734-095f-4541-bce5-5b9e1864e9e3",
   "metadata": {},
   "source": [
    "### influence of subject number"
   ]
  },
  {
   "cell_type": "code",
   "execution_count": 9,
   "id": "ef886cf8-6bf8-4062-bb53-c7766c766389",
   "metadata": {
    "tags": []
   },
   "outputs": [
    {
     "name": "stdout",
     "output_type": "stream",
     "text": [
      "DROP r2 cases below :0.2\n"
     ]
    },
    {
     "data": {
      "text/plain": [
       "<Figure size 640x480 with 0 Axes>"
      ]
     },
     "metadata": {},
     "output_type": "display_data"
    },
    {
     "data": {
      "image/png": "[encoded data removed]",
      "text/plain": [
       "<Figure size 700x1400 with 1 Axes>"
      ]
     },
     "metadata": {},
     "output_type": "display_data"
    }
   ],
   "source": [
    "'''\n",
    "Plot the points to show the influence of the subjects\n",
    "\n",
    "'''\n",
    "def p6_plot_subject_influence(data, rename_dict={},config={},filters={},figwidth=7,figheight=14):\n",
    "    # theme\n",
    "    sns.set(font_scale=1.0,style='whitegrid')\n",
    "    sns.despine()\n",
    "    states_palette = sns.color_palette()\n",
    "    \n",
    "    metrics = copy.deepcopy(data)\n",
    "    # filter metrics\n",
    "    if filters!={}:\n",
    "        metrics = filter_metrics(metrics,**filters)\n",
    "        \n",
    "    # rename column name:\n",
    "    if(rename_dict not in [{},None]):\n",
    "        metrics = metrics.rename(columns=rename_dict)\n",
    "    #metrics['LSTM layer number']= metrics['LSTM layer number'].astype(int)\n",
    "    \n",
    "    # plot\n",
    "    g = sns.catplot(data=metrics, **config)\n",
    "    axes = g.axes.reshape(g.axes.size,1)\n",
    "    for idx in range(axes.size):\n",
    "        axes[idx,0].set_yticks([0.2,0.3, 0.4, 0.5,0.6, 0.7, 0.8,0.9])\n",
    "        axes[idx,0].xaxis.grid(True)\n",
    "        axes[idx,0].yaxis.grid(True)\n",
    "        #axes[idx,0].set_title('Trial number = {}'.format((idx+1)*5))\n",
    "        axes[idx,0].legend(title=r'$L_n$',loc='lower right',ncol=3)\n",
    "        axes[idx,0].set_ylim([0.2,0.9])\n",
    "        \n",
    "        \n",
    "    # set figure size    \n",
    "    g.fig.set_figwidth(figwidth)\n",
    "    g.fig.set_figheight(figheight)\n",
    "    \n",
    "    # save figure\n",
    "    fig_path=os.path.join(RESULTS_PATH, \"visualization/P6/\")\n",
    "    #fig_path=os.path.join(\"./\",\"visualization/P6/Fig_results_baseline_heatmap.svg\")\n",
    "\n",
    "    save_figure(\"./\",fig_format='svg')\n",
    "    #save_figure(os.path.dirname(combination_investigation_metrics[0]),fig_format=save_format)\n",
    "\n",
    "    \n",
    "rename_dict = {'train_sub_num':r'$s_n$', 'tre_trial_num':r'$t_n$','feature_layer_num':r'$L_n$','r2':r\"$R^2$\"}\n",
    "plot_config={\n",
    "    'y': r'$R^2$',\n",
    "    'x': r'$s_n$',\n",
    "    'kind': 'point',\n",
    "    'height': 4,\n",
    "    'aspect': 2,\n",
    "    'sharey': True,\n",
    "    #'hue': r'$L_n$',\n",
    "    \"hue\":r\"model_name\",\n",
    "    #'row': 'train_sub_num',\n",
    "    'col': r'$t_n$',\n",
    "    'col_wrap': 1,\n",
    "    'color':'0.5', # for bar\n",
    "    \"palette\": sns.color_palette(\"husl\", 9), # for hue,\n",
    "    \"errorbar\":'sd',\n",
    "    \"markers\":['o',\"^\",\"v\",\"<\",\">\",\"s\",\"D\",\"d\"],\n",
    "    'legend':False\n",
    "}\n",
    "filters={\"drop_value\":0.2}\n",
    "p6_plot_subject_influence(raw_metrics, rename_dict, plot_config, filters=filters)"
   ]
  },
  {
   "cell_type": "markdown",
   "id": "a2b4d094-8aee-4ae3-80ff-2c6e6b32f59a",
   "metadata": {},
   "source": [
    "### Influence of trial number"
   ]
  },
  {
   "cell_type": "code",
   "execution_count": 4,
   "id": "6a1efa28-4b1d-44b9-9e4c-0401975bdaf9",
   "metadata": {
    "tags": []
   },
   "outputs": [
    {
     "name": "stdout",
     "output_type": "stream",
     "text": [
      "$DROP R^2 cases below :0.3$\n",
      "$s_n$ is not right, it should be {'14'}\n",
      "> \u001b[0;32m/home/user/workspace/transfer_learning_for_droplanding/assessments/scores.py\u001b[0m(836)\u001b[0;36mfilter_metrics\u001b[0;34m()\u001b[0m\n",
      "\u001b[0;32m    834 \u001b[0;31m                        \u001b[0mprint\u001b[0m\u001b[0;34m(\u001b[0m\u001b[0;34m'{} is not right, it should be {}'\u001b[0m\u001b[0;34m.\u001b[0m\u001b[0mformat\u001b[0m\u001b[0;34m(\u001b[0m\u001b[0mkey\u001b[0m\u001b[0;34m,\u001b[0m \u001b[0mset\u001b[0m\u001b[0;34m(\u001b[0m\u001b[0mmetrics\u001b[0m\u001b[0;34m[\u001b[0m\u001b[0mkey\u001b[0m\u001b[0;34m]\u001b[0m\u001b[0;34m)\u001b[0m\u001b[0;34m)\u001b[0m\u001b[0;34m)\u001b[0m\u001b[0;34m\u001b[0m\u001b[0;34m\u001b[0m\u001b[0m\n",
      "\u001b[0m\u001b[0;32m    835 \u001b[0;31m                        \u001b[0mpdb\u001b[0m\u001b[0;34m.\u001b[0m\u001b[0mset_trace\u001b[0m\u001b[0;34m(\u001b[0m\u001b[0;34m)\u001b[0m\u001b[0;34m\u001b[0m\u001b[0;34m\u001b[0m\u001b[0m\n",
      "\u001b[0m\u001b[0;32m--> 836 \u001b[0;31m                        \u001b[0msys\u001b[0m\u001b[0;34m.\u001b[0m\u001b[0mexit\u001b[0m\u001b[0;34m(\u001b[0m\u001b[0;34m)\u001b[0m\u001b[0;34m\u001b[0m\u001b[0;34m\u001b[0m\u001b[0m\n",
      "\u001b[0m\u001b[0;32m    837 \u001b[0;31m                \u001b[0;32mexcept\u001b[0m \u001b[0mException\u001b[0m \u001b[0;32mas\u001b[0m \u001b[0me\u001b[0m\u001b[0;34m:\u001b[0m\u001b[0;34m\u001b[0m\u001b[0;34m\u001b[0m\u001b[0m\n",
      "\u001b[0m\u001b[0;32m    838 \u001b[0;31m                    \u001b[0mprint\u001b[0m\u001b[0;34m(\u001b[0m\u001b[0me\u001b[0m\u001b[0;34m)\u001b[0m\u001b[0;34m\u001b[0m\u001b[0;34m\u001b[0m\u001b[0m\n",
      "\u001b[0m\n"
     ]
    },
    {
     "name": "stdin",
     "output_type": "stream",
     "text": [
      "ipdb>  q\n"
     ]
    },
    {
     "name": "stdout",
     "output_type": "stream",
     "text": [
      "\n",
      "> \u001b[0;32m/home/user/workspace/transfer_learning_for_droplanding/assessments/scores.py\u001b[0m(824)\u001b[0;36mfilter_metrics\u001b[0;34m()\u001b[0m\n",
      "\u001b[0;32m    822 \u001b[0;31m    \u001b[0;31m#6) other fliters\u001b[0m\u001b[0;34m\u001b[0m\u001b[0;34m\u001b[0m\u001b[0m\n",
      "\u001b[0m\u001b[0;32m    823 \u001b[0;31m    \u001b[0;32mif\u001b[0m \u001b[0mkwargs\u001b[0m\u001b[0;34m!=\u001b[0m\u001b[0;32mNone\u001b[0m\u001b[0;34m:\u001b[0m\u001b[0;34m\u001b[0m\u001b[0;34m\u001b[0m\u001b[0m\n",
      "\u001b[0m\u001b[0;32m--> 824 \u001b[0;31m        \u001b[0;32mfor\u001b[0m \u001b[0mkey\u001b[0m\u001b[0;34m,\u001b[0m \u001b[0mvalue\u001b[0m \u001b[0;32min\u001b[0m \u001b[0mkwargs\u001b[0m\u001b[0;34m.\u001b[0m\u001b[0mitems\u001b[0m\u001b[0;34m(\u001b[0m\u001b[0;34m)\u001b[0m\u001b[0;34m:\u001b[0m\u001b[0;34m\u001b[0m\u001b[0;34m\u001b[0m\u001b[0m\n",
      "\u001b[0m\u001b[0;32m    825 \u001b[0;31m            \u001b[0;32mif\u001b[0m\u001b[0;34m(\u001b[0m\u001b[0mkey\u001b[0m \u001b[0;32min\u001b[0m \u001b[0mmetrics\u001b[0m\u001b[0;34m.\u001b[0m\u001b[0mcolumns\u001b[0m\u001b[0;34m)\u001b[0m\u001b[0;34m:\u001b[0m\u001b[0;34m\u001b[0m\u001b[0;34m\u001b[0m\u001b[0m\n",
      "\u001b[0m\u001b[0;32m    826 \u001b[0;31m                \u001b[0;32mtry\u001b[0m\u001b[0;34m:\u001b[0m\u001b[0;34m\u001b[0m\u001b[0;34m\u001b[0m\u001b[0m\n",
      "\u001b[0m\n"
     ]
    },
    {
     "name": "stdin",
     "output_type": "stream",
     "text": [
      "ipdb>  q\n"
     ]
    },
    {
     "data": {
      "text/plain": [
       "<Figure size 640x480 with 0 Axes>"
      ]
     },
     "metadata": {},
     "output_type": "display_data"
    }
   ],
   "source": [
    "\n",
    "def p6_plot_points(metrics, rename_dict={}, config={}, filters={},figwidth=8,figheight=14):    \n",
    "    \n",
    "    # set theme\n",
    "    sns.set(font_scale=1.0,style='whitegrid')\n",
    "    sns.despine()\n",
    "    states_palette = sns.color_palette()\n",
    "    colors = sns.color_palette(\"husl\", 9)\n",
    "\n",
    "    # rename column name:\n",
    "    if(rename_dict not in [{},None]):\n",
    "        metrics = metrics.rename(columns=rename_dict)\n",
    "    #metrics['LSTM layer number']= metrics['LSTM layer number'].astype(int)\n",
    "    #metrics['LSTM layer number']= metrics['LSTM layer number'].astype(int)\n",
    "    \n",
    "    # filter metrics\n",
    "    if filters!={}:\n",
    "        metrics = filter_metrics(metrics,**filters)  \n",
    "    \n",
    "    g = sns.catplot(data=metrics, **config)\n",
    "    axes = g.axes.reshape(g.axes.size,1)\n",
    "    for idx in range(axes.size):\n",
    "        axes[idx,0].set_yticks([0.2,0.3, 0.4, 0.5,0.6, 0.7, 0.8,0.9])\n",
    "        axes[idx,0].xaxis.grid(True)\n",
    "        axes[idx,0].yaxis.grid(True)\n",
    "        #axes[idx,0].set_title(r'$l_n$={}| $n_1$={}'.format((idx+1)*5))\n",
    "        #axes[idx,0].legend(title='LSTM layer number',loc='lower right',ncol=2)\n",
    "        axes[idx,0].set_ylim([0.2,0.9])\n",
    "    #plt.show()\n",
    "    \n",
    "    g.fig.set_figwidth(figwidth)\n",
    "    g.fig.set_figheight(figheight)\n",
    "\n",
    "    fig_path=os.path.join(RESULTS_PATH, \"visualization/P6/\")\n",
    "    #fig_path=os.path.join(\"./\",\"visualization/P6/Fig_results_baseline_heatmap.svg\")\n",
    "\n",
    "    \n",
    "    save_figure(\"./\",fig_format='svg')\n",
    "    #save_figure(os.path.dirname(combination_investigation_metrics[0]),fig_format=save_format)\n",
    "\n",
    "    \n",
    "rename_dict = {'train_sub_num':r'$s_n$', 'tre_trial_num':r'$t_n$','feature_layer_num':r'$L_n$','r2':r\"$R^2$\"}\n",
    "plot_config={\n",
    "    'y': r\"$R^2$\",\n",
    "    'x': r'$t_n$',\n",
    "    'kind': 'bar',\n",
    "    'height': 4,\n",
    "    'aspect': 2,\n",
    "    'sharey': True,\n",
    "    #'hue': 'feature_layer_num',\n",
    "    'row': r'$L_n$',\n",
    "    'col': r'$s_n$',\n",
    "    #'col_wrap': 2,\n",
    "    'color': '0.5', # for bar\n",
    "    'dodge': False # for bar\n",
    "    #\"palette\": colors # for hue,\n",
    "    #\"errorbar\":'sd',\n",
    "    #\"markers\":['o',\"^\",\"v\",\"<\",\">\",\"s\",\"D\",\"d\"],\n",
    "    #'legend':False\n",
    "}\n",
    "\n",
    "filters= {r'$L_$':[1,2,3,4,5,6,7],r\"$s_n$\":[1,5,10,14],'drop_value':0.3}\n",
    "\n",
    "\n",
    "p6_plot_points(raw_metrics, rename_dict, plot_config, filters=filters)"
   ]
  },
  {
   "cell_type": "markdown",
   "id": "6e9636eb-54d0-45d6-a505-5139a9ad2800",
   "metadata": {},
   "source": [
    "### Influence of LSTM layers"
   ]
  },
  {
   "cell_type": "code",
   "execution_count": 5,
   "id": "04b15bb8-d50a-4e94-85c2-d74b506ece44",
   "metadata": {
    "tags": []
   },
   "outputs": [
    {
     "name": "stdout",
     "output_type": "stream",
     "text": [
      "$DROP R^2 cases below :0.2$\n",
      "$s_n$ is not right, it should be {'14'}\n",
      "> \u001b[0;32m/home/user/workspace/transfer_learning_for_droplanding/assessments/scores.py\u001b[0m(836)\u001b[0;36mfilter_metrics\u001b[0;34m()\u001b[0m\n",
      "\u001b[0;32m    834 \u001b[0;31m                        \u001b[0mprint\u001b[0m\u001b[0;34m(\u001b[0m\u001b[0;34m'{} is not right, it should be {}'\u001b[0m\u001b[0;34m.\u001b[0m\u001b[0mformat\u001b[0m\u001b[0;34m(\u001b[0m\u001b[0mkey\u001b[0m\u001b[0;34m,\u001b[0m \u001b[0mset\u001b[0m\u001b[0;34m(\u001b[0m\u001b[0mmetrics\u001b[0m\u001b[0;34m[\u001b[0m\u001b[0mkey\u001b[0m\u001b[0;34m]\u001b[0m\u001b[0;34m)\u001b[0m\u001b[0;34m)\u001b[0m\u001b[0;34m)\u001b[0m\u001b[0;34m\u001b[0m\u001b[0;34m\u001b[0m\u001b[0m\n",
      "\u001b[0m\u001b[0;32m    835 \u001b[0;31m                        \u001b[0mpdb\u001b[0m\u001b[0;34m.\u001b[0m\u001b[0mset_trace\u001b[0m\u001b[0;34m(\u001b[0m\u001b[0;34m)\u001b[0m\u001b[0;34m\u001b[0m\u001b[0;34m\u001b[0m\u001b[0m\n",
      "\u001b[0m\u001b[0;32m--> 836 \u001b[0;31m                        \u001b[0msys\u001b[0m\u001b[0;34m.\u001b[0m\u001b[0mexit\u001b[0m\u001b[0;34m(\u001b[0m\u001b[0;34m)\u001b[0m\u001b[0;34m\u001b[0m\u001b[0;34m\u001b[0m\u001b[0m\n",
      "\u001b[0m\u001b[0;32m    837 \u001b[0;31m                \u001b[0;32mexcept\u001b[0m \u001b[0mException\u001b[0m \u001b[0;32mas\u001b[0m \u001b[0me\u001b[0m\u001b[0;34m:\u001b[0m\u001b[0;34m\u001b[0m\u001b[0;34m\u001b[0m\u001b[0m\n",
      "\u001b[0m\u001b[0;32m    838 \u001b[0;31m                    \u001b[0mprint\u001b[0m\u001b[0;34m(\u001b[0m\u001b[0me\u001b[0m\u001b[0;34m)\u001b[0m\u001b[0;34m\u001b[0m\u001b[0;34m\u001b[0m\u001b[0m\n",
      "\u001b[0m\n"
     ]
    },
    {
     "name": "stdin",
     "output_type": "stream",
     "text": [
      "ipdb>  q\n"
     ]
    },
    {
     "name": "stdout",
     "output_type": "stream",
     "text": [
      "\n",
      "> \u001b[0;32m/home/user/workspace/transfer_learning_for_droplanding/assessments/scores.py\u001b[0m(824)\u001b[0;36mfilter_metrics\u001b[0;34m()\u001b[0m\n",
      "\u001b[0;32m    822 \u001b[0;31m    \u001b[0;31m#6) other fliters\u001b[0m\u001b[0;34m\u001b[0m\u001b[0;34m\u001b[0m\u001b[0m\n",
      "\u001b[0m\u001b[0;32m    823 \u001b[0;31m    \u001b[0;32mif\u001b[0m \u001b[0mkwargs\u001b[0m\u001b[0;34m!=\u001b[0m\u001b[0;32mNone\u001b[0m\u001b[0;34m:\u001b[0m\u001b[0;34m\u001b[0m\u001b[0;34m\u001b[0m\u001b[0m\n",
      "\u001b[0m\u001b[0;32m--> 824 \u001b[0;31m        \u001b[0;32mfor\u001b[0m \u001b[0mkey\u001b[0m\u001b[0;34m,\u001b[0m \u001b[0mvalue\u001b[0m \u001b[0;32min\u001b[0m \u001b[0mkwargs\u001b[0m\u001b[0;34m.\u001b[0m\u001b[0mitems\u001b[0m\u001b[0;34m(\u001b[0m\u001b[0;34m)\u001b[0m\u001b[0;34m:\u001b[0m\u001b[0;34m\u001b[0m\u001b[0;34m\u001b[0m\u001b[0m\n",
      "\u001b[0m\u001b[0;32m    825 \u001b[0;31m            \u001b[0;32mif\u001b[0m\u001b[0;34m(\u001b[0m\u001b[0mkey\u001b[0m \u001b[0;32min\u001b[0m \u001b[0mmetrics\u001b[0m\u001b[0;34m.\u001b[0m\u001b[0mcolumns\u001b[0m\u001b[0;34m)\u001b[0m\u001b[0;34m:\u001b[0m\u001b[0;34m\u001b[0m\u001b[0;34m\u001b[0m\u001b[0m\n",
      "\u001b[0m\u001b[0;32m    826 \u001b[0;31m                \u001b[0;32mtry\u001b[0m\u001b[0;34m:\u001b[0m\u001b[0;34m\u001b[0m\u001b[0;34m\u001b[0m\u001b[0m\n",
      "\u001b[0m\n"
     ]
    },
    {
     "name": "stdin",
     "output_type": "stream",
     "text": [
      "ipdb>  q\n"
     ]
    },
    {
     "data": {
      "text/plain": [
       "<Figure size 640x480 with 0 Axes>"
      ]
     },
     "metadata": {},
     "output_type": "display_data"
    }
   ],
   "source": [
    "# plot bars\n",
    "def plot_bars(metrics,rename_dict={}, config={},filters={},figwidth=8,figheight=14):\n",
    "    # set theme\n",
    "    sns.set(font_scale=1.0,style='whitegrid')\n",
    "    sns.despine()\n",
    "    states_palette = sns.color_palette()\n",
    "    colors = sns.color_palette(\"husl\", 9)\n",
    "\n",
    "    \n",
    "    # rename column name:\n",
    "    if(rename_dict not in [{},None]):\n",
    "        metrics = metrics.rename(columns=rename_dict)\n",
    "    \n",
    "    # filter metrics\n",
    "    if filters!={}:\n",
    "        metrics = filter_metrics(metrics,**filters)\n",
    "    \n",
    "    g = sns.catplot(data=metrics, **config)\n",
    "    axes = g.axes.reshape(g.axes.size,1)\n",
    "    # format figure\n",
    "    for idx in range(axes.size):\n",
    "        axes[idx,0].set_yticks([0.2,0.3, 0.4, 0.5,0.6, 0.7, 0.8,0.9])\n",
    "        axes[idx,0].xaxis.grid(True)\n",
    "        axes[idx,0].yaxis.grid(True)\n",
    "        #axes[idx,0].set_title('Trial number = {}'.format((idx+1)*5))\n",
    "        #axes[idx,0].legend(title='LSTM layer number',loc='lower right',ncol=2)\n",
    "        axes[idx,0].set_ylim([0.2,0.9])\n",
    "    \n",
    "        # statistical test\n",
    "        #test_method=\"Mann-Whitney\"\n",
    "        test_method=\"t-test_ind\"\n",
    "        pairs = [\n",
    "        (1,2),(2,3),(3,4),(4,5),(5,6),(6,7)\n",
    "        ]\n",
    "        #annotator = Annotator(axes[idx,0],pairs=pairs,data=metrics, **config)\n",
    "        #annotator.configure(test=test_method, text_format='star', loc='inside',line_height=-0.03,line_offset=0.2,line_width=0.9,line_offset_to_group=-0.04)\n",
    "        #annotator.apply_and_annotate()\n",
    "    \n",
    "    \n",
    "    \n",
    "    g.fig.set_figwidth(figwidth)\n",
    "    g.fig.set_figheight(figheight)\n",
    "    \n",
    "    save_format='svg'\n",
    "    fig_path =\"./\"\n",
    "    save_figure(\"./\",fig_format=save_format)\n",
    "    #fig_path=os.path.join(RESULTS_PATH, \"visualization/P6/\")\n",
    "    #fig_path=os.path.join(\"./\",\"visualization/P6/Fig_results_baseline_heatmap.svg\")\n",
    "    #save_figure(os.path.dirname(combination_investigation_metrics[0]),fig_format=save_format)\n",
    "    \n",
    "    \n",
    "    \n",
    "rename_dict = {'train_sub_num':r'$s_n$', 'tre_trial_num':r'$t_n$','feature_layer_num':r'$L_n$','r2':r\"$R^2$\"}\n",
    "config={\n",
    "        'y': r'$R^2$',\n",
    "        'x':r'$L_n$',\n",
    "        'kind': 'bar',\n",
    "        'height': 4,\n",
    "        'aspect': 2,\n",
    "        'sharey': True,\n",
    "        #'hue': 'train_sub_num',\n",
    "        'col': r'$s_n$',\n",
    "        'row': r'$t_n$',\n",
    "        #'col_wrap': 1,\n",
    "        'color':'0.4', # for bar\n",
    "        #\"palette\": \"0.5\", # for hue,\n",
    "        #\"errorbar\":'sd',\n",
    "        'dodge': False, # for bar\n",
    "        #\"markers\":['o',\"^\",\"v\",\"<\",\">\",\"s\",\"D\",\"d\"],\n",
    "        'legend':False\n",
    "}\n",
    "filters={r'$s_n$':[1, 5, 10, 14], r'$t_n$':[1, 5, 10, 15, 20, 25], 'drop_value':0.2}\n",
    "#filters={}\n",
    "plot_bars(raw_metrics, rename_dict,config,filters)\n",
    "\n"
   ]
  },
  {
   "cell_type": "markdown",
   "id": "48d3da73-758c-4378-9415-76f22a323ba8",
   "metadata": {},
   "source": [
    "### Plot bars of subject number"
   ]
  },
  {
   "cell_type": "markdown",
   "id": "11eea1a8-293f-4509-80d0-8fe9dfa427f4",
   "metadata": {},
   "source": [
    "Figure. The influence of the number of LSTM layer on the estimation accuracy under the diffrent number of subjects and trials. "
   ]
  },
  {
   "cell_type": "markdown",
   "id": "b3438ddf-fc67-4845-935a-d175fad7ca67",
   "metadata": {},
   "source": [
    "### Plot heatmap of the original dataset"
   ]
  },
  {
   "cell_type": "code",
   "execution_count": 216,
   "id": "4f08eb38-ca8c-4e36-a3c9-18ac01c498f5",
   "metadata": {
    "tags": []
   },
   "outputs": [
    {
     "name": "stdout",
     "output_type": "stream",
     "text": [
      "$DROP R^2 cases below :0.3$\n"
     ]
    },
    {
     "name": "stderr",
     "output_type": "stream",
     "text": [
      "/tmp/ipykernel_6229/770468231.py:16: FutureWarning: In a future version of pandas all arguments of DataFrame.pivot will be keyword-only.\n",
      "  data = metrics[[vary,varx,value]].groupby([varx,vary]).median().round(2).reset_index().pivot(varx,vary)[value]\n"
     ]
    },
    {
     "data": {
      "image/png": "[encoded data removed]",
      "text/plain": [
       "<Figure size 640x480 with 2 Axes>"
      ]
     },
     "metadata": {},
     "output_type": "display_data"
    },
    {
     "data": {
      "text/plain": [
       "<AxesSubplot: xlabel='$t_n$', ylabel='$s_n$'>"
      ]
     },
     "execution_count": 216,
     "metadata": {},
     "output_type": "execute_result"
    }
   ],
   "source": [
    "# plot the heatmap\n",
    "\n",
    "def p6_plot_heatmap(metrics,rename_dict={}, config={}, filters={}):\n",
    "        \n",
    "    # rename column name:\n",
    "    if(rename_dict not in [{},None]):\n",
    "        metrics = metrics.rename(columns=rename_dict)\n",
    "    #metrics['LSTM layer number']= metrics['LSTM layer number'].astype(int)\n",
    "        \n",
    "    # filter metrics\n",
    "    if filters!={}:\n",
    "        metrics = filter_metrics(metrics,**filters)\n",
    "        \n",
    "    varx=config['varx']; vary=config['vary']; value=config['value']\n",
    "    #metrics[varx].replace({idx:idx-4 for idx in range(5,len(combination_investigation_results)+1)},inplace=True)\n",
    "    data = metrics[[vary,varx,value]].groupby([varx,vary]).median().round(2).reset_index().pivot(varx,vary)[value]\n",
    "    g = sns.heatmap(data, vmin=0.5, vmax=0.95,cmap=\"RdBu_r\",center=0.85,annot=True,linewidths=0.3)# R^2\n",
    "    #g = sns.heatmap(data, vmin=0.04, vmax=0.2,cmap=\"RdBu\",center=0.1,annot=True,linewidths=0.3)#rRMSE\n",
    "    #g = sns.heatmap(data, vmin=0.2, vmax=0.7,cmap=\"RdBu\",center=0.4,annot=True,linewidths=0.3) # RMSE\n",
    "    g.invert_yaxis()\n",
    "    #g.set_ylabel(ylabel)\n",
    "    #g.set_xlabel(xlabel)\n",
    "    \n",
    "    \n",
    "    save_format='svg'\n",
    "    fig_path =\"./\"\n",
    "    save_figure(\"./\",fig_format=save_format)\n",
    "    return g \n",
    "\n",
    "\n",
    "\n",
    "rename_dict = {'train_sub_num':r'$s_n$', 'tre_trial_num':r'$t_n$','feature_layer_num':r'$L_n$','r2':r\"$R^2$\",'rmse':\"RMSE\",'r_rmse':\"rRMSE\"}\n",
    "filters={r'$L_n$':[4],'drop_value':0.3} # 0.0; 0.2;0.4\n",
    "\n",
    "config={\n",
    "'varx':r'$s_n$',\n",
    "    'vary':r'$t_n$',\n",
    "    #'value':r'$R^2$',\n",
    "    'value':r'RMSE',\n",
    "   #'value':'rRMSE',\n",
    "}\n",
    "\n",
    "p6_plot_heatmap(raw_metrics,rename_dict,config,filters)"
   ]
  },
  {
   "cell_type": "markdown",
   "id": "c8e4d830-17d1-4bd3-9f69-7a0ec44c6ccd",
   "metadata": {},
   "source": [
    "### Display model complexity"
   ]
  },
  {
   "cell_type": "code",
   "execution_count": 72,
   "id": "15f7bbfe-6954-4dec-bb2d-47764d551775",
   "metadata": {
    "tags": []
   },
   "outputs": [],
   "source": [
    "# get result folders\n",
    "result_folders = read_result_folder_file(\"time_complexity.txt\")\n",
    "combination_investigation_results=[os.path.join(RESULTS_PATH, \"training_testing\", result_folder,\"testing_result_folders.txt\")\n",
    "                                   for result_folder in result_folders]\n",
    "\n",
    "# 2) get testing metrics\n",
    "combination_investigation_results = [os.path.join(os.path.dirname(folder), \"metrics.csv\") if(os.path.exists(os.path.join(os.path.dirname(folder), \"metrics.csv\"))) else folder for folder in combination_investigation_results]\n",
    "#print(combination_investigation_results)\n",
    "time_complexity_metrics = get_list_investigation_metrics(combination_investigation_results)\n"
   ]
  },
  {
   "cell_type": "code",
   "execution_count": 32,
   "id": "67db2030-ea47-4883-8fc2-b03a24085d32",
   "metadata": {
    "tags": []
   },
   "outputs": [
    {
     "data": {
      "image/png": "[encoded data removed]",
      "text/plain": [
       "<Figure size 640x480 with 2 Axes>"
      ]
     },
     "metadata": {},
     "output_type": "display_data"
    }
   ],
   "source": [
    "# Model complexity visualization\n",
    "def plot_time_complexity(metrics,figpath=\"./\"):\n",
    "    metrics['FLOPs']=metrics['FLOPs'].astype(float)\n",
    "    metrics['FLOPs']=metrics['FLOPs']#/1000000.0\n",
    "    metrics['feature_layer_num'].astype(float)\n",
    "    filter_metrics = metrics[['FLOPs', 'Params','feature_layer_num','r2']]\n",
    "    #sns.scatterplot(data=filter_metrics,x='feature_layer_num',y='FLOPs')\n",
    "    #sns.scatterplot(data=filter_metrics,x='feature_layer_num',y='Params')\n",
    "    ax = filter_metrics.plot(x=\"feature_layer_num\", y=\"Params\", legend=False,marker='o')\n",
    "    ax.set_ylim(0.1e6,1.6e6)\n",
    "    ax.set_ylabel('Params', color='tab:blue')  # we already handled the x-label with ax1\n",
    "    ax.tick_params(axis='y', labelcolor='tab:blue')\n",
    "    ax2 = ax.twinx()\n",
    "    filter_metrics.plot(x=\"feature_layer_num\", y=\"FLOPs\", ax=ax2, legend=False, color=\"r\",marker='D')\n",
    "    ax2.tick_params(axis='y', labelcolor='tab:red')\n",
    "    ax2.set_ylim(0.1e8,1.6e8)\n",
    "    ax2.set_ylabel('FLOPs', color='tab:red')  # we already handled the x-label with ax1\n",
    "    ax.set_xlabel('LSTM layer number')  # we already handled the x-label with ax1\n",
    "    ax.set_xticks([1,2,3,4,5,6,7])\n",
    "    ax.set_xlim(min(filter_metrics['feature_layer_num']),max(filter_metrics['feature_layer_num']))\n",
    "    #ax.figure.legend()\n",
    "    save_format='svg'\n",
    "    if(isinstance(metrics,list)):\n",
    "        save_folder = os.path.dirname(metrics[0])\n",
    "    else:# metrics is a data array\n",
    "        save_folder = figpath\n",
    "    save_figure(save_folder,fig_format=save_format)\n",
    "    \n",
    "plot_time_complexity(time_complexity_metrics)\n",
    "#sns.scatterplot(data=filter_metrics, x='feature_layer_num',y='FLOPs')"
   ]
  },
  {
   "cell_type": "code",
   "execution_count": 91,
   "id": "74b520ce-9e35-4f4c-aed7-951f6a4ff9d4",
   "metadata": {},
   "outputs": [
    {
     "data": {
      "text/plain": [
       "7"
      ]
     },
     "execution_count": 91,
     "metadata": {},
     "output_type": "execute_result"
    }
   ],
   "source": [
    "max(time_complexity_metrics['feature_layer_num'])"
   ]
  },
  {
   "cell_type": "code",
   "execution_count": 33,
   "id": "389f3501-5cab-44c8-8a71-2640353c97e7",
   "metadata": {
    "tags": []
   },
   "outputs": [
    {
     "ename": "NameError",
     "evalue": "name 'metrics' is not defined",
     "output_type": "error",
     "traceback": [
      "\u001b[0;31m---------------------------------------------------------------------------\u001b[0m",
      "\u001b[0;31mNameError\u001b[0m                                 Traceback (most recent call last)",
      "Cell \u001b[0;32mIn [33], line 1\u001b[0m\n\u001b[0;32m----> 1\u001b[0m \u001b[38;5;28mprint\u001b[39m(\u001b[43mmetrics\u001b[49m\u001b[38;5;241m.\u001b[39mcolumns)\n\u001b[1;32m      2\u001b[0m selected_metrics\u001b[38;5;241m=\u001b[39mmetrics[[\u001b[38;5;124m'\u001b[39m\u001b[38;5;124mdataset_name\u001b[39m\u001b[38;5;124m'\u001b[39m,\u001b[38;5;124m'\u001b[39m\u001b[38;5;124mtrain_sub_num\u001b[39m\u001b[38;5;124m'\u001b[39m,\u001b[38;5;124m'\u001b[39m\u001b[38;5;124mtest_subjects\u001b[39m\u001b[38;5;124m'\u001b[39m,\u001b[38;5;124m'\u001b[39m\u001b[38;5;124mtest_trial\u001b[39m\u001b[38;5;124m'\u001b[39m,\u001b[38;5;124m'\u001b[39m\u001b[38;5;124mmodel_name\u001b[39m\u001b[38;5;124m'\u001b[39m,\u001b[38;5;124m'\u001b[39m\u001b[38;5;124mr2\u001b[39m\u001b[38;5;124m'\u001b[39m,\u001b[38;5;124m'\u001b[39m\u001b[38;5;124mrmse\u001b[39m\u001b[38;5;124m'\u001b[39m,\u001b[38;5;124m'\u001b[39m\u001b[38;5;124mr_rmse\u001b[39m\u001b[38;5;124m'\u001b[39m,\u001b[38;5;124m'\u001b[39m\u001b[38;5;124mmae\u001b[39m\u001b[38;5;124m'\u001b[39m,\u001b[38;5;124m'\u001b[39m\u001b[38;5;124mfeature_layer_num\u001b[39m\u001b[38;5;124m'\u001b[39m]]\n\u001b[1;32m      3\u001b[0m selected_metrics\u001b[38;5;241m.\u001b[39mhead(\u001b[38;5;241m30\u001b[39m)\n",
      "\u001b[0;31mNameError\u001b[0m: name 'metrics' is not defined"
     ]
    }
   ],
   "source": [
    "print(metrics.columns)\n",
    "selected_metrics=metrics[['dataset_name','train_sub_num','test_subjects','test_trial','model_name','r2','rmse','r_rmse','mae','feature_layer_num']]\n",
    "selected_metrics.head(30)\n",
    "#tmp = selected_metrics[selected_metrics['test_subjects'].isin(['P_16_zhangjinduo','P_14_hunan','P_11_liuchunyu','P_23_wangjinhong', 'P_24_liziqing'])].groupby(['test_subjects','test_trial']).median()\n",
    "#tmp = selected_metrics[selected_metrics['test_subjects'].isin([ 'P_24_liziqing'])].groupby(['test_subjects','test_trial']).median()\n",
    "tmp = selected_metrics.groupby(['test_subjects']).mean()\n",
    "tmp.head(40)\n",
    "#melt_metrics=selected_metrics.melt(id_vars=['dataset_name','train_sub_num','r2','feature_layer_num'])\n",
    "#melt_metrics.head()\n"
   ]
  },
  {
   "cell_type": "code",
   "execution_count": 115,
   "id": "a493ab92-817e-4ec4-88b3-308e73c17449",
   "metadata": {
    "tags": []
   },
   "outputs": [
    {
     "name": "stdout",
     "output_type": "stream",
     "text": [
      "['/media/sun/TFcard/drop_landing_workspace/results/training_testing/rdouble_leg_v1_baseline_1_original_7_15_25_R_KNEE_MOMENT_X_ori_v2/metrics.csv', '/media/sun/TFcard/drop_landing_workspace/results/training_testing/rdouble_leg_v1_baseline_2_original_7_15_25_R_KNEE_MOMENT_X_ori_v2/metrics.csv', '/media/sun/TFcard/drop_landing_workspace/results/training_testing/rdouble_leg_v1_baseline_3_original_7_15_25_R_KNEE_MOMENT_X_ori_v2/metrics.csv', '/media/sun/TFcard/drop_landing_workspace/results/training_testing/rdouble_leg_v1_baseline_4_original_7_15_25_R_KNEE_MOMENT_X_ori_v2/metrics.csv', '/media/sun/TFcard/drop_landing_workspace/results/training_testing/rdouble_leg_v1_baseline_5_original_7_15_25_R_KNEE_MOMENT_X_ori_v2/metrics.csv', '/media/sun/TFcard/drop_landing_workspace/results/training_testing/rdouble_leg_v1_baseline_6_original_7_15_25_R_KNEE_MOMENT_X_ori_v2/metrics.csv', '/media/sun/TFcard/drop_landing_workspace/results/training_testing/rdouble_leg_v1_baseline_7_original_7_15_25_R_KNEE_MOMENT_X_ori_v2/metrics.csv']\n"
     ]
    },
    {
     "ename": "KeyError",
     "evalue": "'training_testing_folders'",
     "output_type": "error",
     "traceback": [
      "\u001b[0;31m---------------------------------------------------------------------------\u001b[0m",
      "\u001b[0;31mKeyError\u001b[0m                                  Traceback (most recent call last)",
      "File \u001b[0;32m~/.pyenv/versions/3.9.2/envs/machinelearning/lib/python3.9/site-packages/pandas/core/indexes/base.py:3803\u001b[0m, in \u001b[0;36mIndex.get_loc\u001b[0;34m(self, key, method, tolerance)\u001b[0m\n\u001b[1;32m   3802\u001b[0m \u001b[38;5;28;01mtry\u001b[39;00m:\n\u001b[0;32m-> 3803\u001b[0m     \u001b[38;5;28;01mreturn\u001b[39;00m \u001b[38;5;28;43mself\u001b[39;49m\u001b[38;5;241;43m.\u001b[39;49m\u001b[43m_engine\u001b[49m\u001b[38;5;241;43m.\u001b[39;49m\u001b[43mget_loc\u001b[49m\u001b[43m(\u001b[49m\u001b[43mcasted_key\u001b[49m\u001b[43m)\u001b[49m\n\u001b[1;32m   3804\u001b[0m \u001b[38;5;28;01mexcept\u001b[39;00m \u001b[38;5;167;01mKeyError\u001b[39;00m \u001b[38;5;28;01mas\u001b[39;00m err:\n",
      "File \u001b[0;32m~/.pyenv/versions/3.9.2/envs/machinelearning/lib/python3.9/site-packages/pandas/_libs/index.pyx:138\u001b[0m, in \u001b[0;36mpandas._libs.index.IndexEngine.get_loc\u001b[0;34m()\u001b[0m\n",
      "File \u001b[0;32m~/.pyenv/versions/3.9.2/envs/machinelearning/lib/python3.9/site-packages/pandas/_libs/index.pyx:165\u001b[0m, in \u001b[0;36mpandas._libs.index.IndexEngine.get_loc\u001b[0;34m()\u001b[0m\n",
      "File \u001b[0;32mpandas/_libs/hashtable_class_helper.pxi:5745\u001b[0m, in \u001b[0;36mpandas._libs.hashtable.PyObjectHashTable.get_item\u001b[0;34m()\u001b[0m\n",
      "File \u001b[0;32mpandas/_libs/hashtable_class_helper.pxi:5753\u001b[0m, in \u001b[0;36mpandas._libs.hashtable.PyObjectHashTable.get_item\u001b[0;34m()\u001b[0m\n",
      "\u001b[0;31mKeyError\u001b[0m: 'training_testing_folders'",
      "\nThe above exception was the direct cause of the following exception:\n",
      "\u001b[0;31mKeyError\u001b[0m                                  Traceback (most recent call last)",
      "Cell \u001b[0;32mIn [115], line 3\u001b[0m\n\u001b[1;32m      1\u001b[0m \u001b[38;5;66;03m#1) get testing results: estimation and ground truth\u001b[39;00m\n\u001b[1;32m      2\u001b[0m \u001b[38;5;28mprint\u001b[39m(combination_investigation_results)\n\u001b[0;32m----> 3\u001b[0m results \u001b[38;5;241m=\u001b[39m \u001b[43mget_list_investigation_results\u001b[49m\u001b[43m(\u001b[49m\u001b[43mcombination_investigation_results\u001b[49m\u001b[43m)\u001b[49m\n\u001b[1;32m      4\u001b[0m \u001b[38;5;28mprint\u001b[39m(results\u001b[38;5;241m.\u001b[39mcolumns)\n\u001b[1;32m      6\u001b[0m \u001b[38;5;66;03m#6) other fliters\u001b[39;00m\n",
      "File \u001b[0;32m~/workspace/PythonProject/DataAnalysis/P6/transfer_learning_for_droplanding/assessments/scores.py:407\u001b[0m, in \u001b[0;36mget_list_investigation_results\u001b[0;34m(list_training_testing_folders, list_selection_map, **kwargs)\u001b[0m\n\u001b[1;32m    405\u001b[0m \u001b[38;5;28;01melse\u001b[39;00m:\n\u001b[1;32m    406\u001b[0m     \u001b[38;5;28;01mfor\u001b[39;00m training_testing_folders \u001b[38;5;129;01min\u001b[39;00m list_training_testing_folders:\n\u001b[0;32m--> 407\u001b[0m         list_test_results\u001b[38;5;241m.\u001b[39mappend(\u001b[43mget_a_model_test_results\u001b[49m\u001b[43m(\u001b[49m\u001b[43mtraining_testing_folders\u001b[49m\u001b[43m,\u001b[49m\u001b[43m \u001b[49m\u001b[38;5;241;43m*\u001b[39;49m\u001b[38;5;241;43m*\u001b[39;49m\u001b[43mkwargs\u001b[49m\u001b[43m)\u001b[49m)\n\u001b[1;32m    409\u001b[0m \u001b[38;5;66;03m# transform to dataframe\u001b[39;00m\n\u001b[1;32m    410\u001b[0m \u001b[38;5;28;01mfor\u001b[39;00m idx \u001b[38;5;129;01min\u001b[39;00m \u001b[38;5;28mrange\u001b[39m(\u001b[38;5;28mlen\u001b[39m(list_test_results)):\n",
      "File \u001b[0;32m~/workspace/PythonProject/DataAnalysis/P6/transfer_learning_for_droplanding/assessments/scores.py:343\u001b[0m, in \u001b[0;36mget_a_model_test_results\u001b[0;34m(training_testing_folders, selection, **kwargs)\u001b[0m\n\u001b[1;32m    340\u001b[0m \u001b[38;5;28;01mdef\u001b[39;00m \u001b[38;5;21mget_a_model_test_results\u001b[39m(training_testing_folders, selection\u001b[38;5;241m=\u001b[39m{\u001b[38;5;124m'\u001b[39m\u001b[38;5;124munused\u001b[39m\u001b[38;5;124m'\u001b[39m:\u001b[38;5;28;01mNone\u001b[39;00m}, \u001b[38;5;241m*\u001b[39m\u001b[38;5;241m*\u001b[39mkwargs):\n\u001b[1;32m    341\u001b[0m     \n\u001b[1;32m    342\u001b[0m     \u001b[38;5;66;03m# get training and testing folders into a pandas dataframe\u001b[39;00m\n\u001b[0;32m--> 343\u001b[0m     config_training_testing_folders \u001b[38;5;241m=\u001b[39m  \u001b[43mget_investigation_training_testing_folders\u001b[49m\u001b[43m(\u001b[49m\u001b[43mtraining_testing_folders\u001b[49m\u001b[43m)\u001b[49m\n\u001b[1;32m    344\u001b[0m     needed_config_training_testing_folders \u001b[38;5;241m=\u001b[39m parase_training_testing_folders(config_training_testing_folders, \u001b[38;5;241m*\u001b[39m\u001b[38;5;241m*\u001b[39mselection, \u001b[38;5;241m*\u001b[39m\u001b[38;5;241m*\u001b[39mkwargs)\n\u001b[1;32m    346\u001b[0m     \u001b[38;5;66;03m# get test results by re-test trials based this trained model in the training folder: training_***\u001b[39;00m\n",
      "File \u001b[0;32m~/workspace/PythonProject/DataAnalysis/P6/transfer_learning_for_droplanding/assessments/scores.py:640\u001b[0m, in \u001b[0;36mget_investigation_training_testing_folders\u001b[0;34m(combination_investigation_results, train_test_id)\u001b[0m\n\u001b[1;32m    637\u001b[0m investigation_config_results \u001b[38;5;241m=\u001b[39m pd\u001b[38;5;241m.\u001b[39mread_csv(combination_investigation_results,delimiter\u001b[38;5;241m=\u001b[39m\u001b[38;5;124m'\u001b[39m\u001b[38;5;130;01m\\t\u001b[39;00m\u001b[38;5;124m'\u001b[39m,header\u001b[38;5;241m=\u001b[39m\u001b[38;5;241m0\u001b[39m)\n\u001b[1;32m    639\u001b[0m \u001b[38;5;66;03m# get training and testing folders\u001b[39;00m\n\u001b[0;32m--> 640\u001b[0m \u001b[38;5;28;01mif\u001b[39;00m(re\u001b[38;5;241m.\u001b[39msearch(\u001b[38;5;124m'\u001b[39m\u001b[38;5;124mtraining_(\u001b[39m\u001b[38;5;124m\\\u001b[39m\u001b[38;5;124md)\u001b[39m\u001b[38;5;132;01m{6}\u001b[39;00m\u001b[38;5;124m'\u001b[39m, \u001b[43minvestigation_config_results\u001b[49m\u001b[43m[\u001b[49m\u001b[38;5;124;43m'\u001b[39;49m\u001b[38;5;124;43mtraining_testing_folders\u001b[39;49m\u001b[38;5;124;43m'\u001b[39;49m\u001b[43m]\u001b[49m[\u001b[38;5;241m0\u001b[39m])):\n\u001b[1;32m    641\u001b[0m     training_folders \u001b[38;5;241m=\u001b[39m investigation_config_results[\u001b[38;5;124m'\u001b[39m\u001b[38;5;124mtraining_testing_folders\u001b[39m\u001b[38;5;124m'\u001b[39m]\n\u001b[1;32m    642\u001b[0m     testing_folders \u001b[38;5;241m=\u001b[39m []\n",
      "File \u001b[0;32m~/.pyenv/versions/3.9.2/envs/machinelearning/lib/python3.9/site-packages/pandas/core/frame.py:3804\u001b[0m, in \u001b[0;36mDataFrame.__getitem__\u001b[0;34m(self, key)\u001b[0m\n\u001b[1;32m   3802\u001b[0m \u001b[38;5;28;01mif\u001b[39;00m \u001b[38;5;28mself\u001b[39m\u001b[38;5;241m.\u001b[39mcolumns\u001b[38;5;241m.\u001b[39mnlevels \u001b[38;5;241m>\u001b[39m \u001b[38;5;241m1\u001b[39m:\n\u001b[1;32m   3803\u001b[0m     \u001b[38;5;28;01mreturn\u001b[39;00m \u001b[38;5;28mself\u001b[39m\u001b[38;5;241m.\u001b[39m_getitem_multilevel(key)\n\u001b[0;32m-> 3804\u001b[0m indexer \u001b[38;5;241m=\u001b[39m \u001b[38;5;28;43mself\u001b[39;49m\u001b[38;5;241;43m.\u001b[39;49m\u001b[43mcolumns\u001b[49m\u001b[38;5;241;43m.\u001b[39;49m\u001b[43mget_loc\u001b[49m\u001b[43m(\u001b[49m\u001b[43mkey\u001b[49m\u001b[43m)\u001b[49m\n\u001b[1;32m   3805\u001b[0m \u001b[38;5;28;01mif\u001b[39;00m is_integer(indexer):\n\u001b[1;32m   3806\u001b[0m     indexer \u001b[38;5;241m=\u001b[39m [indexer]\n",
      "File \u001b[0;32m~/.pyenv/versions/3.9.2/envs/machinelearning/lib/python3.9/site-packages/pandas/core/indexes/base.py:3805\u001b[0m, in \u001b[0;36mIndex.get_loc\u001b[0;34m(self, key, method, tolerance)\u001b[0m\n\u001b[1;32m   3803\u001b[0m     \u001b[38;5;28;01mreturn\u001b[39;00m \u001b[38;5;28mself\u001b[39m\u001b[38;5;241m.\u001b[39m_engine\u001b[38;5;241m.\u001b[39mget_loc(casted_key)\n\u001b[1;32m   3804\u001b[0m \u001b[38;5;28;01mexcept\u001b[39;00m \u001b[38;5;167;01mKeyError\u001b[39;00m \u001b[38;5;28;01mas\u001b[39;00m err:\n\u001b[0;32m-> 3805\u001b[0m     \u001b[38;5;28;01mraise\u001b[39;00m \u001b[38;5;167;01mKeyError\u001b[39;00m(key) \u001b[38;5;28;01mfrom\u001b[39;00m \u001b[38;5;21;01merr\u001b[39;00m\n\u001b[1;32m   3806\u001b[0m \u001b[38;5;28;01mexcept\u001b[39;00m \u001b[38;5;167;01mTypeError\u001b[39;00m:\n\u001b[1;32m   3807\u001b[0m     \u001b[38;5;66;03m# If we have a listlike key, _check_indexing_error will raise\u001b[39;00m\n\u001b[1;32m   3808\u001b[0m     \u001b[38;5;66;03m#  InvalidIndexError. Otherwise we fall through and re-raise\u001b[39;00m\n\u001b[1;32m   3809\u001b[0m     \u001b[38;5;66;03m#  the TypeError.\u001b[39;00m\n\u001b[1;32m   3810\u001b[0m     \u001b[38;5;28mself\u001b[39m\u001b[38;5;241m.\u001b[39m_check_indexing_error(key)\n",
      "\u001b[0;31mKeyError\u001b[0m: 'training_testing_folders'"
     ]
    }
   ],
   "source": [
    "#1) get testing results: estimation and ground truth\n",
    "print(combination_investigation_results)\n",
    "results = get_list_investigation_results(combination_investigation_results)\n",
    "print(results.columns)\n",
    "\n",
    "#6) other fliters\n",
    "def parse_dataframe(results, **kwargs):\n",
    "    for key, value in kwargs.items():\n",
    "        if(key in results.columns):\n",
    "            try:\n",
    "                if(not isinstance(value,list)):\n",
    "                    value=[value]\n",
    "                if set(value) <= set(results[key]): # a value of the test id\n",
    "                    results = results.loc[results[key].isin(value)]\n",
    "                elif(value=='all'):\n",
    "                    print('All {} are used'.format(key))\n",
    "                else:\n",
    "                    print('{} is not right, it should be {}'.format(key, set(results[key])))\n",
    "            except Exception as e:\n",
    "                pdb.set_trace()\n",
    "    return results\n",
    "\n",
    "fliters = {\n",
    "    'test_subjects':['P_08_zhangboyuan'],\n",
    "    'test_folder_index':[1],\n",
    "    'trial_index': [6],\n",
    "}\n",
    "data = parse_dataframe(results,**fliters)\n",
    "\n",
    "plt.plot(data['Actual R_KNEE_MOMENT_X'],'k-.')\n",
    "plt.plot(data['Estimated R_KNEE_MOMENT_X'],'r-.')\n",
    "plt.legend(['actual', 'estimated'])\n",
    "plt.grid()\n",
    "plt.show()"
   ]
  },
  {
   "cell_type": "code",
   "execution_count": 43,
   "id": "324b182b-93bf-4701-8595-9e0eabeda347",
   "metadata": {
    "collapsed": true,
    "jupyter": {
     "outputs_hidden": true
    }
   },
   "outputs": [
    {
     "name": "stdout",
     "output_type": "stream",
     "text": [
      "(80, 5)\n"
     ]
    },
    {
     "data": {
      "text/html": [
       "<div>\n",
       "<style scoped>\n",
       "    .dataframe tbody tr th:only-of-type {\n",
       "        vertical-align: middle;\n",
       "    }\n",
       "\n",
       "    .dataframe tbody tr th {\n",
       "        vertical-align: top;\n",
       "    }\n",
       "\n",
       "    .dataframe thead th {\n",
       "        text-align: right;\n",
       "    }\n",
       "</style>\n",
       "<table border=\"1\" class=\"dataframe\">\n",
       "  <thead>\n",
       "    <tr style=\"text-align: right;\">\n",
       "      <th></th>\n",
       "      <th>Actual R_KNEE_MOMENT_X</th>\n",
       "      <th>Estimated R_KNEE_MOMENT_X</th>\n",
       "      <th>trial_index</th>\n",
       "      <th>test_subject</th>\n",
       "      <th>test_folder_index</th>\n",
       "    </tr>\n",
       "  </thead>\n",
       "  <tbody>\n",
       "    <tr>\n",
       "      <th>0.00</th>\n",
       "      <td>-0.03616</td>\n",
       "      <td>0.475870</td>\n",
       "      <td>0</td>\n",
       "      <td>None</td>\n",
       "      <td>0</td>\n",
       "    </tr>\n",
       "    <tr>\n",
       "      <th>0.01</th>\n",
       "      <td>-0.03533</td>\n",
       "      <td>0.379049</td>\n",
       "      <td>0</td>\n",
       "      <td>None</td>\n",
       "      <td>0</td>\n",
       "    </tr>\n",
       "    <tr>\n",
       "      <th>0.02</th>\n",
       "      <td>-0.03207</td>\n",
       "      <td>0.329380</td>\n",
       "      <td>0</td>\n",
       "      <td>None</td>\n",
       "      <td>0</td>\n",
       "    </tr>\n",
       "    <tr>\n",
       "      <th>0.03</th>\n",
       "      <td>-0.02958</td>\n",
       "      <td>0.307361</td>\n",
       "      <td>0</td>\n",
       "      <td>None</td>\n",
       "      <td>0</td>\n",
       "    </tr>\n",
       "    <tr>\n",
       "      <th>0.04</th>\n",
       "      <td>-0.03192</td>\n",
       "      <td>0.298069</td>\n",
       "      <td>0</td>\n",
       "      <td>None</td>\n",
       "      <td>0</td>\n",
       "    </tr>\n",
       "  </tbody>\n",
       "</table>\n",
       "</div>"
      ],
      "text/plain": [
       "      Actual R_KNEE_MOMENT_X  Estimated R_KNEE_MOMENT_X  trial_index  \\\n",
       "0.00                -0.03616                   0.475870            0   \n",
       "0.01                -0.03533                   0.379049            0   \n",
       "0.02                -0.03207                   0.329380            0   \n",
       "0.03                -0.02958                   0.307361            0   \n",
       "0.04                -0.03192                   0.298069            0   \n",
       "\n",
       "     test_subject  test_folder_index  \n",
       "0.00         None                  0  \n",
       "0.01         None                  0  \n",
       "0.02         None                  0  \n",
       "0.03         None                  0  \n",
       "0.04         None                  0  "
      ]
     },
     "execution_count": 43,
     "metadata": {},
     "output_type": "execute_result"
    }
   ],
   "source": [
    "print(data.shape)\n",
    "data.head()"
   ]
  },
  {
   "cell_type": "markdown",
   "id": "a87ad2a2-6fb3-4439-9230-6689ba236045",
   "metadata": {},
   "source": [
    "# New augmentation"
   ]
  },
  {
   "cell_type": "code",
   "execution_count": 6,
   "id": "f544a262-0938-4652-a64b-df90fb1a2c75",
   "metadata": {},
   "outputs": [],
   "source": [
    "## load results of the augmentation method"
   ]
  },
  {
   "cell_type": "code",
   "execution_count": 36,
   "id": "74771e87-3299-4a71-87c9-d7c50a9a750d",
   "metadata": {},
   "outputs": [],
   "source": [
    "# 1) load results of the augmentation method\n",
    "result_folders = read_result_folder_file(\"augmentation_test_cases.txt\")\n",
    "\n",
    "combination_investigation_results=[os.path.join(RESULTS_PATH, \"training_testing\", result_folder,\"testing_result_folders.txt\")\n",
    "                                   for result_folder in result_folders]\n",
    "# 2) get testing metrics\n",
    "combination_investigation_results = [os.path.join(os.path.dirname(folder), \"metrics.csv\") if(os.path.exists(os.path.join(os.path.dirname(folder), \"metrics.csv\"))) else folder for folder in combination_investigation_results]\n",
    "#print(combination_investigation_results)\n",
    "    \n",
    "# 3) collected or read or load metrics\n",
    "if True:\n",
    "    # load new metrics\n",
    "    augment_raw_metrics = get_list_investigation_metrics(combination_investigation_results)\n",
    "    # save the new metrics\n",
    "    augment_raw_metrics.to_csv('./augment_raw_metrics.csv')\n",
    "else:\n",
    "    # load old metrics\n",
    "    augmnet_raw_metrics = pd.read_csv('./augment_raw_metrics.csv')"
   ]
  },
  {
   "cell_type": "markdown",
   "id": "bfa830da-108a-44b4-82ae-279d75841b1e",
   "metadata": {},
   "source": [
    "### Plot the heatmap"
   ]
  },
  {
   "cell_type": "code",
   "execution_count": 231,
   "id": "1292424e-3963-4763-ac4e-dd66b30673b2",
   "metadata": {},
   "outputs": [
    {
     "name": "stdout",
     "output_type": "stream",
     "text": [
      "$DROP R^2 cases below :0.4$\n"
     ]
    },
    {
     "name": "stderr",
     "output_type": "stream",
     "text": [
      "/tmp/ipykernel_6229/3609587174.py:16: FutureWarning: In a future version of pandas all arguments of DataFrame.pivot will be keyword-only.\n",
      "  data = metrics[[vary,varx,value]].groupby([varx,vary]).median().round(2).reset_index().pivot(varx,vary)[value]\n"
     ]
    },
    {
     "data": {
      "image/png": "[encoded data removed]",
      "text/plain": [
       "<Figure size 640x480 with 2 Axes>"
      ]
     },
     "metadata": {},
     "output_type": "display_data"
    },
    {
     "data": {
      "text/plain": [
       "<AxesSubplot: xlabel='$t_n$', ylabel='$s_n$'>"
      ]
     },
     "execution_count": 231,
     "metadata": {},
     "output_type": "execute_result"
    }
   ],
   "source": [
    "# plot the heatmap\n",
    "\n",
    "def p6_plot_heatmap(metrics,rename_dict={}, config={}, filters={}):\n",
    "        \n",
    "    # rename column name:\n",
    "    if(rename_dict not in [{},None]):\n",
    "        metrics = metrics.rename(columns=rename_dict)\n",
    "    #metrics['LSTM layer number']= metrics['LSTM layer number'].astype(int)\n",
    "        \n",
    "    # filter metrics\n",
    "    if filters!={}:\n",
    "        metrics = filter_metrics(metrics,**filters)\n",
    "        \n",
    "    varx=config['varx']; vary=config['vary']; value=config['value']\n",
    "    #metrics[varx].replace({idx:idx-4 for idx in range(5,len(combination_investigation_results)+1)},inplace=True)\n",
    "    data = metrics[[vary,varx,value]].groupby([varx,vary]).median().round(2).reset_index().pivot(varx,vary)[value]\n",
    "    #g = sns.heatmap(data, vmin=0.5, vmax=0.95,cmap=\"RdBu_r\",center=0.8,annot=True,linewidths=0.3)# R^2\n",
    "    #g = sns.heatmap(data, vmin=0.2, vmax=0.7,cmap=\"RdBu\",center=0.4,annot=True,linewidths=0.3) # RMSE\n",
    "    g = sns.heatmap(data, vmin=0.04, vmax=0.2,cmap=\"RdBu\",center=0.1,annot=True,linewidths=0.3)#rRMSE\n",
    "    g.invert_yaxis()\n",
    "    #g.set_ylabel(ylabel)\n",
    "    #g.set_xlabel(xlabel)\n",
    "    \n",
    "    \n",
    "    save_format='svg'\n",
    "    fig_path =\"./\"\n",
    "    save_figure(\"./\",fig_format=save_format)\n",
    "    return g \n",
    "\n",
    "\n",
    "rename_dict = {'train_sub_num':r'$s_n$', 'tre_trial_num':r'$t_n$','feature_layer_num':r'$L_n$','r2':r\"$R^2$\",'rmse':\"RMSE\",'r_rmse':\"rRMSE\"}\n",
    "filters={r'$L_n$':[4],'drop_value':0.4,'dataset_name':'CTD'}\n",
    "\n",
    "config={\n",
    "'varx':r'$s_n$',\n",
    "    'vary':r'$t_n$',\n",
    "    #'value':r'$R^2$',\n",
    "    #'value':'RMSE',\n",
    "    'value':'rRMSE',\n",
    "}\n",
    "\n",
    "augment_raw_metrics.replace({'original':'MD','e_scale':'PTD','e_rotation':'OTD','e_rotation_e_scale':'CTD'},inplace=True)\n",
    "p6_plot_heatmap(augment_raw_metrics,rename_dict,config,filters)"
   ]
  },
  {
   "cell_type": "markdown",
   "id": "654f71ff-aa19-4f71-adde-6e4bfe9c8ead",
   "metadata": {},
   "source": [
    "## Comparison of original, e_rotation, e_scale, and e_rotation with e_scale"
   ]
  },
  {
   "cell_type": "code",
   "execution_count": 247,
   "id": "24cd834f-cb53-447f-8561-fb8ceec40eaa",
   "metadata": {
    "tags": []
   },
   "outputs": [],
   "source": [
    "# plot bars fo subjects\n",
    "def p6_plot_comparison(metrics, rename, config, filters={},test_config={},figwidth=10,figheight=14):\n",
    "\n",
    "    # rename column name:\n",
    "    if(rename_dict not in [{},None]):\n",
    "        metrics = metrics.rename(columns=rename_dict)\n",
    "    \n",
    "    # filter metrics\n",
    "    if filters!={}:\n",
    "        metrics = filter_metrics(metrics,**filters)\n",
    "        \n",
    "        \n",
    "    # set theme of plot\n",
    "    sns.set(font_scale=1.0,style='whitegrid')\n",
    "    sns.despine()\n",
    "    states_palette = sns.color_palette()\n",
    "    colors = sns.color_palette(\"husl\", 9)\n",
    "    \n",
    "    \n",
    "    # sort values\n",
    "    sort_metrics = metrics.sort_values(by=config['y'], ascending=False)\n",
    "    \n",
    "    g = sns.catplot(data=sort_metrics, **config)\n",
    "    axes = g.axes.reshape(g.axes.size,1)\n",
    "    # format figure\n",
    "    for idx in range(axes.size):\n",
    "        axes[idx,0].set_yticks([0.5,0.6, 0.7, 0.8,0.9])\n",
    "        axes[idx,0].xaxis.grid(True)\n",
    "        axes[idx,0].yaxis.grid(True)\n",
    "        #axes[idx,0].set_title('Trial number = {}'.format((idx+1)*5))\n",
    "        axes[idx,0].legend(title='Dataset',loc='lower right',ncol=2)\n",
    "        axes[idx,0].set_ylim([0.5,0.9])\n",
    "    \n",
    "        # statistical test\n",
    "        if(test_config not in [None, {}]):\n",
    "            test_method=\"Mann-Whitney\"\n",
    "            #test_method=\"t-test_ind\"\n",
    "            annotator = Annotator(axes[idx,0],pairs=test_config['test_pairs'],data=metrics, **config)\n",
    "            annotator.configure(test=test_method, text_format='star', loc='inside',line_height=-0.03,line_offset=0.1,line_width=0.9,line_offset_to_group=-0.04)\n",
    "            annotator.apply_and_annotate()\n",
    "    \n",
    "    \n",
    "    \n",
    "    g.fig.set_figwidth(figwidth)\n",
    "    g.fig.set_figheight(figheight)\n",
    "    \n",
    "    save_format='svg'\n",
    "    fig_path =\"./\"\n",
    "    save_figure(\"./\",fig_format=save_format)\n",
    "    #fig_path=os.path.join(RESULTS_PATH, \"visualization/P6/\")\n",
    "    #fig_path=os.path.join(\"./\",\"visualization/P6/Fig_results_baseline_heatmap.svg\")\n",
    "    #save_figure(os.path.dirname(combination_investigation_metrics[0]),fig_format=save_format)\n",
    "    \n",
    "    \n",
    "    \n",
    "rename_dict = {'train_sub_num':r'$s_n$', 'tre_trial_num':r'$t_n$','feature_layer_num':r'$L_n$','r2':r\"$R^2$\", 'dataset_name': \"Dataset method\"}\n",
    "config={\n",
    "        'y': r'$R^2$',\n",
    "        'x': r'$s_n$',\n",
    "        'kind': 'bar',\n",
    "        #'height': 4,\n",
    "        #'aspect': 2,\n",
    "        'sharey': True,\n",
    "        'hue': 'Dataset method',\n",
    "        #'row': r'$s_n$',\n",
    "        'col': r'$t_n$',\n",
    "        'col_wrap': 1,\n",
    "        #'color':'0.4', # for bar\n",
    "        #\"palette\": \"0.5\", # for hue,\n",
    "        #\"errorbar\":'sd',\n",
    "        #\"markers\":['o',\"^\",\"v\",\"<\",\">\",\"s\",\"D\",\"d\"],\n",
    "        #'dodge': False, # for bar\n",
    "        'hue_order': ['MD','OTD','PTD','CTD'],\n",
    "        'legend':False\n",
    "}\n",
    "\n",
    "test_config={\n",
    "\"test_pairs\": [\n",
    "        [(1,'MD'),(1,'OTD')]\n",
    "        ]\n",
    "}\n",
    "\n",
    "all_metrics=pd.concat([raw_metrics, augment_raw_metrics])\n",
    "\n",
    "\n",
    "all_metrics.replace({'original':'MD','e_scale':'PTD','e_rotation':'OTD','e_rotation_e_scale':'CTD'},inplace=True)\n",
    "#filters={r'$L_n$':[4], r'$t_n$':[10,15,20,25],r'$s_n$':[idx for idx in range(6,15)],\"drop_value\":0.4}\n",
    "filters={r'$L_n$':[4], r'$t_n$':[1,5,10,15,20,25],r'$s_n$':[idx for idx in range(1,15)],\"drop_value\":0.4}\n",
    "#p6_plot_comparison(all_metrics, rename_dict, config, filters,test_config={})"
   ]
  },
  {
   "cell_type": "markdown",
   "id": "14022b7b-2ccc-4d7d-8f62-e4de0614a47e",
   "metadata": {},
   "source": [
    "### compare a trial of different dataset "
   ]
  },
  {
   "cell_type": "code",
   "execution_count": 255,
   "id": "39139c30-d9d5-4ae1-9aba-84c227cccd11",
   "metadata": {},
   "outputs": [
    {
     "name": "stdout",
     "output_type": "stream",
     "text": [
      "$DROP R^2 cases below :0.4$\n",
      "p-value annotation legend:\n",
      "      ns: p <= 1.00e+00\n",
      "       *: 1.00e-02 < p <= 5.00e-02\n",
      "      **: 1.00e-03 < p <= 1.00e-02\n",
      "     ***: 1.00e-04 < p <= 1.00e-03\n",
      "    ****: p <= 1.00e-04\n",
      "\n",
      "MD vs. OTD: Mann-Whitney-Wilcoxon test two-sided, P_val:1.766e-02 U_stat=1.411e+06\n",
      "MD vs. PTD: Mann-Whitney-Wilcoxon test two-sided, P_val:2.383e-01 U_stat=1.451e+06\n",
      "MD vs. CTD: Mann-Whitney-Wilcoxon test two-sided, P_val:6.530e-02 U_stat=1.479e+06\n",
      "p-value annotation legend:\n",
      "      ns: p <= 1.00e+00\n",
      "       *: 1.00e-02 < p <= 5.00e-02\n",
      "      **: 1.00e-03 < p <= 1.00e-02\n",
      "     ***: 1.00e-04 < p <= 1.00e-03\n",
      "    ****: p <= 1.00e-04\n",
      "\n",
      "MD vs. OTD: Mann-Whitney-Wilcoxon test two-sided, P_val:1.766e-02 U_stat=1.411e+06\n",
      "MD vs. PTD: Mann-Whitney-Wilcoxon test two-sided, P_val:2.383e-01 U_stat=1.451e+06\n",
      "MD vs. CTD: Mann-Whitney-Wilcoxon test two-sided, P_val:6.530e-02 U_stat=1.479e+06\n",
      "p-value annotation legend:\n",
      "      ns: p <= 1.00e+00\n",
      "       *: 1.00e-02 < p <= 5.00e-02\n",
      "      **: 1.00e-03 < p <= 1.00e-02\n",
      "     ***: 1.00e-04 < p <= 1.00e-03\n",
      "    ****: p <= 1.00e-04\n",
      "\n",
      "MD vs. OTD: Mann-Whitney-Wilcoxon test two-sided, P_val:1.766e-02 U_stat=1.411e+06\n",
      "MD vs. PTD: Mann-Whitney-Wilcoxon test two-sided, P_val:2.383e-01 U_stat=1.451e+06\n",
      "MD vs. CTD: Mann-Whitney-Wilcoxon test two-sided, P_val:6.530e-02 U_stat=1.479e+06\n",
      "p-value annotation legend:\n",
      "      ns: p <= 1.00e+00\n",
      "       *: 1.00e-02 < p <= 5.00e-02\n",
      "      **: 1.00e-03 < p <= 1.00e-02\n",
      "     ***: 1.00e-04 < p <= 1.00e-03\n",
      "    ****: p <= 1.00e-04\n",
      "\n",
      "MD vs. OTD: Mann-Whitney-Wilcoxon test two-sided, P_val:1.766e-02 U_stat=1.411e+06\n",
      "MD vs. PTD: Mann-Whitney-Wilcoxon test two-sided, P_val:2.383e-01 U_stat=1.451e+06\n",
      "MD vs. CTD: Mann-Whitney-Wilcoxon test two-sided, P_val:6.530e-02 U_stat=1.479e+06\n"
     ]
    },
    {
     "data": {
      "text/plain": [
       "<Figure size 640x480 with 0 Axes>"
      ]
     },
     "metadata": {},
     "output_type": "display_data"
    },
    {
     "data": {
      "image/png": "[encoded data removed]",
      "text/plain": [
       "<Figure size 1000x1400 with 4 Axes>"
      ]
     },
     "metadata": {},
     "output_type": "display_data"
    }
   ],
   "source": [
    "\n",
    "# plot bars fo subjects\n",
    "def p6_plot_comparison(metrics, rename, config, filters={},test_config={},figwidth=10,figheight=14):\n",
    "\n",
    "    # rename column name:\n",
    "    if(rename_dict not in [{},None]):\n",
    "        metrics = metrics.rename(columns=rename_dict)\n",
    "    \n",
    "    # filter metrics\n",
    "    if filters!={}:\n",
    "        metrics = filter_metrics(metrics,**filters)\n",
    "        \n",
    "        \n",
    "    # set theme of plot\n",
    "    sns.set(font_scale=1.0,style='whitegrid')\n",
    "    sns.despine()\n",
    "    states_palette = sns.color_palette()\n",
    "    colors = sns.color_palette(\"husl\", 9)\n",
    "    \n",
    "    \n",
    "    # sort values\n",
    "    sort_metrics = metrics.sort_values(by=config['y'], ascending=False)\n",
    "    \n",
    "    g = sns.catplot(data=sort_metrics, **config)\n",
    "    axes = g.axes.reshape(g.axes.size,1)\n",
    "    # format figure\n",
    "    for idx in range(axes.size):\n",
    "        axes[idx,0].set_yticks([0.5,0.6, 0.7, 0.8,0.9])\n",
    "        axes[idx,0].xaxis.grid(True)\n",
    "        axes[idx,0].yaxis.grid(True)\n",
    "        #axes[idx,0].set_title('Trial number = {}'.format((idx+1)*5))\n",
    "        axes[idx,0].legend(title='Dataset',loc='lower right',ncol=2)\n",
    "        axes[idx,0].set_ylim([0.5,0.8])\n",
    "    \n",
    "        # statistical test\n",
    "        if(test_config not in [None, {}]):\n",
    "            test_method=\"Mann-Whitney\"\n",
    "            #test_method=\"t-test_ind\"\n",
    "            annotator = Annotator(axes[idx,0],pairs=test_config['test_pairs'],data=metrics, **config)\n",
    "            annotator.configure(test=test_method, text_format='star', loc='inside',line_height=-0.03,line_offset=0.1,line_width=0.9,line_offset_to_group=-0.04)\n",
    "            annotator.apply_and_annotate()\n",
    "    \n",
    "    \n",
    "    \n",
    "    g.fig.set_figwidth(figwidth)\n",
    "    g.fig.set_figheight(figheight)\n",
    "    \n",
    "    save_format='svg'\n",
    "    fig_path =\"./\"\n",
    "    save_figure(\"./\",fig_format=save_format)\n",
    "    #fig_path=os.path.join(RESULTS_PATH, \"visualization/P6/\")\n",
    "    #fig_path=os.path.join(\"./\",\"visualization/P6/Fig_results_baseline_heatmap.svg\")\n",
    "    #save_figure(os.path.dirname(combination_investigation_metrics[0]),fig_format=save_format)\n",
    "    \n",
    "    \n",
    "\n",
    "rename_dict = {'train_sub_num':r'$s_n$', 'tre_trial_num':r'$t_n$','feature_layer_num':r'$L_n$','r2':r\"$R^2$\", 'dataset_name': \"Dataset method\"}\n",
    "config={\n",
    "        'y': r'$R^2$',\n",
    "        'x': r'Dataset method',\n",
    "        'kind': 'bar',\n",
    "        #'height': 4,\n",
    "        #'aspect': 2,\n",
    "        'sharey': True,\n",
    "        #'hue': 'Dataset method',\n",
    "        'row': r'$s_n$',\n",
    "        #'col': r'$t_n$',\n",
    "        #'col_wrap': 1,\n",
    "        #'color':'0.4', # for bar\n",
    "        #\"palette\": \"0.5\", # for hue,\n",
    "        #\"errorbar\":'sd',\n",
    "        #\"markers\":['o',\"^\",\"v\",\"<\",\">\",\"s\",\"D\",\"d\"],\n",
    "        #'dodge': False, # for bar\n",
    "        'order': ['MD','OTD','PTD','CTD'],\n",
    "        #'legend':False\n",
    "}\n",
    "\n",
    "test_config={\n",
    "\"test_pairs\": [\n",
    "        ['MD','OTD'],['MD','PTD'],['MD','CTD']\n",
    "        ]\n",
    "}\n",
    "\n",
    "all_metrics=pd.concat([raw_metrics, augment_raw_metrics])\n",
    "\n",
    "\n",
    "all_metrics.replace({'original':'MD','e_scale':'PTD','e_rotation':'OTD','e_rotation_e_scale':'CTD'},inplace=True)\n",
    "#filters={r'$L_n$':[4], r'$t_n$':[10,15,20,25],r'$s_n$':[idx for idx in range(6,15)],\"drop_value\":0.4}\n",
    "filters={r'$L_n$':[4], r'$t_n$':[1],r'$s_n$':[1,5,10,14],\"drop_value\":0.4}\n",
    "p6_plot_comparison(all_metrics, rename_dict, config, filters,test_config) \n"
   ]
  },
  {
   "cell_type": "code",
   "execution_count": 12,
   "id": "130e7656-5518-45ab-b47f-334119103ea3",
   "metadata": {},
   "outputs": [
    {
     "ename": "NameError",
     "evalue": "name 'all_metrics' is not defined",
     "output_type": "error",
     "traceback": [
      "\u001b[0;31m---------------------------------------------------------------------------\u001b[0m",
      "\u001b[0;31mNameError\u001b[0m                                 Traceback (most recent call last)",
      "Cell \u001b[0;32mIn[12], line 4\u001b[0m\n\u001b[1;32m      2\u001b[0m rename_dict \u001b[38;5;241m=\u001b[39m {\u001b[38;5;124m'\u001b[39m\u001b[38;5;124mtrain_sub_num\u001b[39m\u001b[38;5;124m'\u001b[39m:\u001b[38;5;124mr\u001b[39m\u001b[38;5;124m'\u001b[39m\u001b[38;5;124m$s_n$\u001b[39m\u001b[38;5;124m'\u001b[39m, \u001b[38;5;124m'\u001b[39m\u001b[38;5;124mtre_trial_num\u001b[39m\u001b[38;5;124m'\u001b[39m:\u001b[38;5;124mr\u001b[39m\u001b[38;5;124m'\u001b[39m\u001b[38;5;124m$t_n$\u001b[39m\u001b[38;5;124m'\u001b[39m,\u001b[38;5;124m'\u001b[39m\u001b[38;5;124mfeature_layer_num\u001b[39m\u001b[38;5;124m'\u001b[39m:\u001b[38;5;124mr\u001b[39m\u001b[38;5;124m'\u001b[39m\u001b[38;5;124m$L_n$\u001b[39m\u001b[38;5;124m'\u001b[39m,\u001b[38;5;124m'\u001b[39m\u001b[38;5;124mr2\u001b[39m\u001b[38;5;124m'\u001b[39m:\u001b[38;5;124mr\u001b[39m\u001b[38;5;124m\"\u001b[39m\u001b[38;5;124m$R^2$\u001b[39m\u001b[38;5;124m\"\u001b[39m, \u001b[38;5;124m'\u001b[39m\u001b[38;5;124mdataset_name\u001b[39m\u001b[38;5;124m'\u001b[39m: \u001b[38;5;124m\"\u001b[39m\u001b[38;5;124mDataset method\u001b[39m\u001b[38;5;124m\"\u001b[39m}\n\u001b[1;32m      3\u001b[0m \u001b[38;5;28;01mif\u001b[39;00m(rename_dict \u001b[38;5;129;01mnot\u001b[39;00m \u001b[38;5;129;01min\u001b[39;00m [{},\u001b[38;5;28;01mNone\u001b[39;00m]):\n\u001b[0;32m----> 4\u001b[0m     tmp_metrics \u001b[38;5;241m=\u001b[39m \u001b[43mall_metrics\u001b[49m\u001b[38;5;241m.\u001b[39mrename(columns\u001b[38;5;241m=\u001b[39mrename_dict)\n\u001b[1;32m      6\u001b[0m filter1\u001b[38;5;241m=\u001b[39m{\u001b[38;5;124mr\u001b[39m\u001b[38;5;124m'\u001b[39m\u001b[38;5;124m$L_n$\u001b[39m\u001b[38;5;124m'\u001b[39m:[\u001b[38;5;241m4\u001b[39m], \u001b[38;5;124mr\u001b[39m\u001b[38;5;124m'\u001b[39m\u001b[38;5;124m$t_n$\u001b[39m\u001b[38;5;124m'\u001b[39m:[\u001b[38;5;241m1\u001b[39m],\u001b[38;5;124m\"\u001b[39m\u001b[38;5;124mDataset method\u001b[39m\u001b[38;5;124m\"\u001b[39m:[\u001b[38;5;124m'\u001b[39m\u001b[38;5;124mMD\u001b[39m\u001b[38;5;124m'\u001b[39m],\u001b[38;5;124m\"\u001b[39m\u001b[38;5;124mdrop_value\u001b[39m\u001b[38;5;124m\"\u001b[39m:\u001b[38;5;241m0.1\u001b[39m}\n\u001b[1;32m      7\u001b[0m tmp_metrics \u001b[38;5;241m=\u001b[39m filter_metrics(tmp_metrics,\u001b[38;5;241m*\u001b[39m\u001b[38;5;241m*\u001b[39mfilter1)\n",
      "\u001b[0;31mNameError\u001b[0m: name 'all_metrics' is not defined"
     ]
    }
   ],
   "source": [
    "# rename column name:\n",
    "rename_dict = {'train_sub_num':r'$s_n$', 'tre_trial_num':r'$t_n$','feature_layer_num':r'$L_n$','r2':r\"$R^2$\", 'dataset_name': \"Dataset method\"}\n",
    "if(rename_dict not in [{},None]):\n",
    "    tmp_metrics = all_metrics.rename(columns=rename_dict)\n",
    "    \n",
    "filter1={r'$L_n$':[4], r'$t_n$':[1],\"Dataset method\":['MD'],\"drop_value\":0.1}\n",
    "tmp_metrics = filter_metrics(tmp_metrics,**filter1)\n",
    "sns.barplot(tmp_metrics,x=r'$s_n$',y=r\"$R^2$\")\n"
   ]
  },
  {
   "cell_type": "code",
   "execution_count": 165,
   "id": "ca7179ce-c37d-4196-8912-8523d3aa8ada",
   "metadata": {},
   "outputs": [
    {
     "data": {
      "text/plain": [
       "1339456    0.891\n",
       "1339457    0.881\n",
       "1339458    0.763\n",
       "1339459    0.569\n",
       "1339460    0.703\n",
       "           ...  \n",
       "1347325    0.643\n",
       "1347326    0.608\n",
       "1347327    0.413\n",
       "1347328    0.567\n",
       "1347329    0.616\n",
       "Name: $R^2$, Length: 7381, dtype: float64"
      ]
     },
     "execution_count": 165,
     "metadata": {},
     "output_type": "execute_result"
    }
   ],
   "source": [
    "tmp_metrics[r'$R^2$']"
   ]
  },
  {
   "cell_type": "code",
   "execution_count": null,
   "id": "8b5eba03-a071-438b-b3a9-6be8d604c0c3",
   "metadata": {},
   "outputs": [],
   "source": []
  },
  {
   "cell_type": "code",
   "execution_count": null,
   "id": "47b4565d-c8ab-4c8e-8b78-2c4ba2e6a0fe",
   "metadata": {},
   "outputs": [],
   "source": []
  },
  {
   "cell_type": "markdown",
   "id": "7dd6af3c-a9f0-4787-b37b-959f0c87be0d",
   "metadata": {
    "jp-MarkdownHeadingCollapsed": true
   },
   "source": [
    "# Others"
   ]
  },
  {
   "cell_type": "code",
   "execution_count": 44,
   "id": "06f68a62-dcda-444b-b2e6-4a83bb245f00",
   "metadata": {},
   "outputs": [
    {
     "data": {
      "text/plain": [
       "Index(['Unnamed: 0', 'landing_manner', 'model_name', 'feature_layer_num',\n",
       "       'dataset_name', 'alias_name', 'config_name', 'subject_num',\n",
       "       'tre_trial_num', 'tst_trial_num', 'train_sub_num', 'features_name',\n",
       "       'labels_name', 'r2', 'rmse', 'r_rmse', 'mae', 'FLOPs', 'Params',\n",
       "       'test_subjects', 'test_trial', 'parent_test_id', 'child_test_id',\n",
       "       'result_folder', 'Test ID', 'Metrics ID', 'IMUs', 'execution_time',\n",
       "       'additional_imus'],\n",
       "      dtype='object')"
      ]
     },
     "execution_count": 44,
     "metadata": {},
     "output_type": "execute_result"
    }
   ],
   "source": [
    "raw_metrics.columns"
   ]
  },
  {
   "cell_type": "markdown",
   "id": "e799658f-b208-4fc4-8cbe-1c6d85a73d98",
   "metadata": {
    "tags": []
   },
   "source": [
    "## Baseline"
   ]
  },
  {
   "cell_type": "markdown",
   "id": "36f15c5c-300f-40ae-bf69-f84e7f6e0314",
   "metadata": {
    "tags": []
   },
   "source": [
    "### Baseline curves"
   ]
  },
  {
   "cell_type": "code",
   "execution_count": 17,
   "id": "8ea88f87-e6f1-45c1-abf8-6bec79bec643",
   "metadata": {
    "tags": []
   },
   "outputs": [
    {
     "name": "stdout",
     "output_type": "stream",
     "text": [
      "/media/sun/TFcard/drop_landing_workspace/results/training_testing/augmentation_v9/testing_result_folders.txt\n"
     ]
    },
    {
     "ename": "FileNotFoundError",
     "evalue": "[Errno 2] No such file or directory: '/media/sun/TFcard/drop_landing_workspace/results/training_testing/augmentation_v9/testing_result_folders.txt'",
     "output_type": "error",
     "traceback": [
      "\u001b[0;31m---------------------------------------------------------------------------\u001b[0m",
      "\u001b[0;31mFileNotFoundError\u001b[0m                         Traceback (most recent call last)",
      "Cell \u001b[0;32mIn [17], line 41\u001b[0m\n\u001b[1;32m     27\u001b[0m combination_investigation_results \u001b[38;5;241m=\u001b[39m  [\u001b[38;5;66;03m#combination_investigation_results +[\u001b[39;00m\n\u001b[1;32m     28\u001b[0m             os\u001b[38;5;241m.\u001b[39mpath\u001b[38;5;241m.\u001b[39mjoin(RESULTS_PATH, \u001b[38;5;124m\"\u001b[39m\u001b[38;5;124mtraining_testing\u001b[39m\u001b[38;5;124m\"\u001b[39m, \u001b[38;5;124m\"\u001b[39m\u001b[38;5;124maugmentation_skem_v8\u001b[39m\u001b[38;5;124m\"\u001b[39m,\u001b[38;5;28mstr\u001b[39m(rot_id)\u001b[38;5;241m+\u001b[39m\u001b[38;5;124m'\u001b[39m\u001b[38;5;124mrotid\u001b[39m\u001b[38;5;124m'\u001b[39m, \u001b[38;5;28mstr\u001b[39m(sub_num)\u001b[38;5;241m+\u001b[39m\u001b[38;5;124m\"\u001b[39m\u001b[38;5;124msub\u001b[39m\u001b[38;5;124m\"\u001b[39m, \u001b[38;5;28mstr\u001b[39m(trial_num)\u001b[38;5;241m+\u001b[39m\u001b[38;5;124m\"\u001b[39m\u001b[38;5;124mtri\u001b[39m\u001b[38;5;124m\"\u001b[39m,  \n\u001b[1;32m     29\u001b[0m                  \u001b[38;5;124m\"\u001b[39m\u001b[38;5;124mtesting_result_folders.txt\u001b[39m\u001b[38;5;124m\"\u001b[39m) \u001b[38;5;28;01mfor\u001b[39;00m sub_num \u001b[38;5;129;01min\u001b[39;00m \u001b[38;5;28mrange\u001b[39m(\u001b[38;5;241m9\u001b[39m,\u001b[38;5;241m10\u001b[39m,\u001b[38;5;241m1\u001b[39m) \u001b[38;5;28;01mfor\u001b[39;00m trial_num \u001b[38;5;129;01min\u001b[39;00m \u001b[38;5;28mrange\u001b[39m(\u001b[38;5;241m10\u001b[39m,\u001b[38;5;241m11\u001b[39m,\u001b[38;5;241m5\u001b[39m) \u001b[38;5;28;01mfor\u001b[39;00m rot_id \u001b[38;5;129;01min\u001b[39;00m [\u001b[38;5;241m6\u001b[39m]\n\u001b[1;32m     30\u001b[0m ]\n\u001b[1;32m     35\u001b[0m combination_investigation_results \u001b[38;5;241m=\u001b[39m [\n\u001b[1;32m     36\u001b[0m     os\u001b[38;5;241m.\u001b[39mpath\u001b[38;5;241m.\u001b[39mjoin(RESULTS_PATH, \u001b[38;5;124m\"\u001b[39m\u001b[38;5;124mtraining_testing\u001b[39m\u001b[38;5;124m\"\u001b[39m, \u001b[38;5;124m\"\u001b[39m\u001b[38;5;124maugmentation_v9\u001b[39m\u001b[38;5;124m\"\u001b[39m,\u001b[38;5;124m\"\u001b[39m\u001b[38;5;124mtesting_result_folders.txt\u001b[39m\u001b[38;5;124m\"\u001b[39m),\n\u001b[1;32m     37\u001b[0m     os\u001b[38;5;241m.\u001b[39mpath\u001b[38;5;241m.\u001b[39mjoin(RESULTS_PATH, \u001b[38;5;124m\"\u001b[39m\u001b[38;5;124mtraining_testing\u001b[39m\u001b[38;5;124m\"\u001b[39m, \u001b[38;5;124m\"\u001b[39m\u001b[38;5;124mbaseline_mlnn_v9\u001b[39m\u001b[38;5;124m\"\u001b[39m,\u001b[38;5;124m\"\u001b[39m\u001b[38;5;124mtesting_result_folders.txt\u001b[39m\u001b[38;5;124m\"\u001b[39m)\n\u001b[1;32m     38\u001b[0m ]\n\u001b[0;32m---> 41\u001b[0m metrics \u001b[38;5;241m=\u001b[39m \u001b[43mget_list_investigation_metrics\u001b[49m\u001b[43m(\u001b[49m\u001b[43mcombination_investigation_results\u001b[49m\u001b[43m)\u001b[49m\n\u001b[1;32m     42\u001b[0m combination_investigation_metrics \u001b[38;5;241m=\u001b[39m [os\u001b[38;5;241m.\u001b[39mpath\u001b[38;5;241m.\u001b[39mjoin(os\u001b[38;5;241m.\u001b[39mpath\u001b[38;5;241m.\u001b[39mdirname(folder), \u001b[38;5;124m\"\u001b[39m\u001b[38;5;124mmetrics.csv\u001b[39m\u001b[38;5;124m\"\u001b[39m) \u001b[38;5;28;01mfor\u001b[39;00m folder \u001b[38;5;129;01min\u001b[39;00m combination_investigation_results]\n\u001b[1;32m     43\u001b[0m fig_path, r2 \u001b[38;5;241m=\u001b[39m plot_models_accuracy(combination_investigation_results,plot_params\u001b[38;5;241m=\u001b[39m{\u001b[38;5;124m'\u001b[39m\u001b[38;5;124mx\u001b[39m\u001b[38;5;124m'\u001b[39m:\u001b[38;5;124m'\u001b[39m\u001b[38;5;124mconfig_name\u001b[39m\u001b[38;5;124m'\u001b[39m,\u001b[38;5;124m'\u001b[39m\u001b[38;5;124my\u001b[39m\u001b[38;5;124m'\u001b[39m:\u001b[38;5;124m'\u001b[39m\u001b[38;5;124mr2\u001b[39m\u001b[38;5;124m'\u001b[39m,\u001b[38;5;124m'\u001b[39m\u001b[38;5;124mhue\u001b[39m\u001b[38;5;124m'\u001b[39m:\u001b[38;5;124m'\u001b[39m\u001b[38;5;124mlabels_name\u001b[39m\u001b[38;5;124m'\u001b[39m})\n",
      "File \u001b[0;32m~/workspace/PythonProject/DataAnalysis/P6/transfer_learning_for_droplanding/assessments/scores.py:614\u001b[0m, in \u001b[0;36mget_list_investigation_metrics\u001b[0;34m(list_combination_investigation_results, metric_fields)\u001b[0m\n\u001b[1;32m    612\u001b[0m \u001b[38;5;28;01mfor\u001b[39;00m combination_investigation_result \u001b[38;5;129;01min\u001b[39;00m list_combination_investigation_results:\n\u001b[1;32m    613\u001b[0m     \u001b[38;5;28mprint\u001b[39m(combination_investigation_result)\n\u001b[0;32m--> 614\u001b[0m     list_metrics\u001b[38;5;241m.\u001b[39mappend(\u001b[43mget_investigation_metrics\u001b[49m\u001b[43m(\u001b[49m\u001b[43mcombination_investigation_result\u001b[49m\u001b[43m,\u001b[49m\u001b[43mmetric_fields\u001b[49m\u001b[43m)\u001b[49m)\n\u001b[1;32m    615\u001b[0m     metrics\u001b[38;5;241m=\u001b[39mpd\u001b[38;5;241m.\u001b[39mconcat(list_metrics,axis\u001b[38;5;241m=\u001b[39m\u001b[38;5;241m0\u001b[39m)\n\u001b[1;32m    617\u001b[0m \u001b[38;5;28;01mreturn\u001b[39;00m metrics\n",
      "File \u001b[0;32m~/workspace/PythonProject/DataAnalysis/P6/transfer_learning_for_droplanding/assessments/scores.py:561\u001b[0m, in \u001b[0;36mget_investigation_metrics\u001b[0;34m(combination_investigation_results, metric_fields)\u001b[0m\n\u001b[1;32m    559\u001b[0m     pd_assessment \u001b[38;5;241m=\u001b[39m pd\u001b[38;5;241m.\u001b[39mread_csv(combination_investigation_results, header\u001b[38;5;241m=\u001b[39m\u001b[38;5;241m0\u001b[39m)\n\u001b[1;32m    560\u001b[0m \u001b[38;5;28;01melse\u001b[39;00m: \u001b[38;5;66;03m#0-iii) survey metrics from testing folders\u001b[39;00m\n\u001b[0;32m--> 561\u001b[0m     pd_assessment \u001b[38;5;241m=\u001b[39m \u001b[43msurvey_investigation_assessment\u001b[49m\u001b[43m(\u001b[49m\u001b[43mcombination_investigation_results\u001b[49m\u001b[43m)\u001b[49m\n\u001b[1;32m    563\u001b[0m \u001b[38;5;66;03m#1) get metrics\u001b[39;00m\n\u001b[1;32m    564\u001b[0m \u001b[38;5;28;01mif\u001b[39;00m(\u001b[38;5;124m'\u001b[39m\u001b[38;5;124mmetrics\u001b[39m\u001b[38;5;124m'\u001b[39m \u001b[38;5;129;01min\u001b[39;00m pd_assessment\u001b[38;5;241m.\u001b[39mcolumns):\n",
      "File \u001b[0;32m~/workspace/PythonProject/DataAnalysis/P6/transfer_learning_for_droplanding/assessments/scores.py:432\u001b[0m, in \u001b[0;36msurvey_investigation_assessment\u001b[0;34m(combination_investigation_results)\u001b[0m\n\u001b[1;32m    430\u001b[0m assessment\u001b[38;5;241m=\u001b[39m[]\n\u001b[1;32m    431\u001b[0m line_num\u001b[38;5;241m=\u001b[39m\u001b[38;5;241m0\u001b[39m\n\u001b[0;32m--> 432\u001b[0m \u001b[38;5;28;01mfor\u001b[39;00m line \u001b[38;5;129;01min\u001b[39;00m \u001b[38;5;28;43mopen\u001b[39;49m\u001b[43m(\u001b[49m\u001b[43mcombination_investigation_results\u001b[49m\u001b[43m,\u001b[49m\u001b[38;5;124;43m'\u001b[39;49m\u001b[38;5;124;43mr\u001b[39;49m\u001b[38;5;124;43m'\u001b[39;49m\u001b[43m)\u001b[49m:\n\u001b[1;32m    433\u001b[0m     \u001b[38;5;66;03m#0) tesing results folder\u001b[39;00m\n\u001b[1;32m    434\u001b[0m     \u001b[38;5;28;01mif\u001b[39;00m line \u001b[38;5;241m==\u001b[39m\u001b[38;5;124m'\u001b[39m\u001b[38;5;130;01m\\n\u001b[39;00m\u001b[38;5;124m'\u001b[39m:\n\u001b[1;32m    435\u001b[0m         \u001b[38;5;28;01mcontinue\u001b[39;00m; \u001b[38;5;66;03m# pass space line\u001b[39;00m\n",
      "\u001b[0;31mFileNotFoundError\u001b[0m: [Errno 2] No such file or directory: '/media/sun/TFcard/drop_landing_workspace/results/training_testing/augmentation_v9/testing_result_folders.txt'"
     ]
    }
   ],
   "source": [
    "## Plot estimation curves\n",
    "\n",
    "\n",
    "combination_investigation_results = [\n",
    "    os.path.join(RESULTS_PATH, \"training_testing\",\"baseline_mlnn_v11_5\",str(train_sub_num)+\"sub\",str(trial_num)+\"trials\",\"testing_result_folders.txt\") for train_sub_num in [1] for trial_num in [5]\n",
    "]+[\n",
    "    os.path.join(RESULTS_PATH, \"training_testing\",\"baseline_mlnn_v11_5\",str(train_sub_num)+\"sub\",str(trial_num)+\"trials\",\"testing_result_folders.txt\") for train_sub_num in [14] for trial_num in [25]]\n",
    "\n",
    "combination_investigation_results = [\n",
    "    os.path.join(RESULTS_PATH, \"training_testing\", \"baseline_mlnn_v18\",str(rot_id)+'rotid', str(sub_num)+\"sub\", str(trial_num)+\"tri\",  \n",
    "                 \"testing_result_folders.txt\") for sub_num in range(15,16,1) for trial_num in range(5, 6,5) for rot_id in [0]\n",
    "]\n",
    "\n",
    "\n",
    "combination_investigation_results =  [#combination_investigation_results +[\n",
    "            os.path.join(RESULTS_PATH, \"training_testing\", \"baseline_mlnn_kam_v20\",str(rot_id)+'rotid', str(sub_num)+\"sub\", str(trial_num)+\"tri\",  \n",
    "                 \"testing_result_folders.txt\") for sub_num in range(4,5,1) for trial_num in range(5, 16,5) for rot_id in [0]\n",
    "]\n",
    "\n",
    "\n",
    "combination_investigation_results =  [#combination_investigation_results +[\n",
    "            os.path.join(RESULTS_PATH, \"training_testing\", \"augmentation_dkem_v8\",str(rot_id)+'rotid', str(sub_num)+\"sub\", str(trial_num)+\"tri\",  \n",
    "                 \"testing_result_folders.txt\") for sub_num in range(14,15,1) for trial_num in range(25, 26,5) for rot_id in [6]\n",
    "]\n",
    "\n",
    "\n",
    "combination_investigation_results =  [#combination_investigation_results +[\n",
    "            os.path.join(RESULTS_PATH, \"training_testing\", \"augmentation_skem_v8\",str(rot_id)+'rotid', str(sub_num)+\"sub\", str(trial_num)+\"tri\",  \n",
    "                 \"testing_result_folders.txt\") for sub_num in range(9,10,1) for trial_num in range(10,11,5) for rot_id in [6]\n",
    "]\n",
    "\n",
    "\n",
    "\n",
    "\n",
    "combination_investigation_results = [\n",
    "    os.path.join(RESULTS_PATH, \"training_testing\", \"augmentation_v9\",\"testing_result_folders.txt\"),\n",
    "    os.path.join(RESULTS_PATH, \"training_testing\", \"baseline_mlnn_v9\",\"testing_result_folders.txt\")\n",
    "]\n",
    "\n",
    "\n",
    "metrics = get_list_investigation_metrics(combination_investigation_results)\n",
    "combination_investigation_metrics = [os.path.join(os.path.dirname(folder), \"metrics.csv\") for folder in combination_investigation_results]\n",
    "fig_path, r2 = plot_models_accuracy(combination_investigation_results,plot_params={'x':'config_name','y':'r2','hue':'labels_name'})\n",
    "\n",
    "\n",
    "multi_test_results = get_multi_models_test_results(combination_investigation_results)\n",
    "\n",
    "config = {\n",
    "    'xticks':[0.0, 0.1, 0.2, 0.3, 0.4, 0.5, 0.6, 0.7, 0.8],\n",
    "    'yticks':[-1.0, -0.5, 0.0, 0.5, 1.0, 1.5, 2.0, 2.5, 3.0],\n",
    "    'ylim':[-1.0, 3.0],\n",
    "    'figsize': (8,3),\n",
    "    'ylabels': 5*['Normalized KFM'],\n",
    "    'titles': ['A subject with five trials', '14 subjects with 25 trials'],\n",
    "    'font_scale':1.0, \n",
    "    'save_fig': True,\n",
    "    #'fig_path': os.path.join(RESULTS_PATH,\"training_testing/visualization/P6\",\"Fig_results_baseline_curves.svg\"),\n",
    "    'save_format': '.svg'\n",
    "}\n",
    "\n",
    "figpath, multi_model_results = p6plot_statistic_actual_estimation_curves(combination_investigation_results, col_wrap=2, **config)"
   ]
  },
  {
   "cell_type": "code",
   "execution_count": 46,
   "id": "9a49fceb-04b7-4ae3-8359-257db23166b5",
   "metadata": {
    "collapsed": true,
    "jupyter": {
     "outputs_hidden": true
    }
   },
   "outputs": [
    {
     "name": "stderr",
     "output_type": "stream",
     "text": [
      "/home/sun/workspace/PythonProject/DataAnalysis/P6/transfer_learning_for_droplanding/assessments/./../../../CRCF/plot_utilities.py:45: UserWarning: There are no gridspecs with layoutgrids. Possibly did not call parent GridSpec with the \"figure\" keyword\n",
      "  plt.savefig(figPath)\n",
      "/home/sun/.pyenv/versions/3.9.2/envs/machinelearning/lib/python3.9/site-packages/IPython/core/pylabtools.py:152: UserWarning: There are no gridspecs with layoutgrids. Possibly did not call parent GridSpec with the \"figure\" keyword\n",
      "  fig.canvas.print_figure(bytes_io, **kw)\n"
     ]
    },
    {
     "data": {
      "image/png": "[encoded data removed]",
      "text/plain": [
       "<Figure size 500x400 with 1 Axes>"
      ]
     },
     "metadata": {},
     "output_type": "display_data"
    }
   ],
   "source": [
    "\n",
    "fig_path, r2 = plot_models_accuracy(combination_investigation_results,plot_params={'x':'config_name','y':'r2','hue':'labels_name'})"
   ]
  },
  {
   "cell_type": "code",
   "execution_count": 47,
   "id": "2e8f6fb5-1354-4b7a-9ce6-ec68e848bba4",
   "metadata": {
    "collapsed": true,
    "jupyter": {
     "outputs_hidden": true
    }
   },
   "outputs": [],
   "source": [
    "metrics.head()\n",
    "metrics['r2']=metrics['r2'].astype(float)"
   ]
  },
  {
   "cell_type": "code",
   "execution_count": 48,
   "id": "754afae9-8e94-4bc6-8f75-61b5c6a1e5a9",
   "metadata": {
    "collapsed": true,
    "jupyter": {
     "outputs_hidden": true
    }
   },
   "outputs": [
    {
     "name": "stderr",
     "output_type": "stream",
     "text": [
      "/tmp/ipykernel_30398/1811341978.py:1: FutureWarning: The default value of numeric_only in DataFrameGroupBy.mean is deprecated. In a future version, numeric_only will default to False. Either specify numeric_only or select only columns which should be valid for the function.\n",
      "  metrics.groupby(['labels_name','model_selection','train_sub_num','trial_num','landing_manner']).mean()\n"
     ]
    },
    {
     "data": {
      "text/html": [
       "<div>\n",
       "<style scoped>\n",
       "    .dataframe tbody tr th:only-of-type {\n",
       "        vertical-align: middle;\n",
       "    }\n",
       "\n",
       "    .dataframe tbody tr th {\n",
       "        vertical-align: top;\n",
       "    }\n",
       "\n",
       "    .dataframe thead th {\n",
       "        text-align: right;\n",
       "    }\n",
       "</style>\n",
       "<table border=\"1\" class=\"dataframe\">\n",
       "  <thead>\n",
       "    <tr style=\"text-align: right;\">\n",
       "      <th></th>\n",
       "      <th></th>\n",
       "      <th></th>\n",
       "      <th></th>\n",
       "      <th></th>\n",
       "      <th>r2</th>\n",
       "      <th>trials</th>\n",
       "      <th>execution_time</th>\n",
       "    </tr>\n",
       "    <tr>\n",
       "      <th>labels_name</th>\n",
       "      <th>model_selection</th>\n",
       "      <th>train_sub_num</th>\n",
       "      <th>trial_num</th>\n",
       "      <th>landing_manner</th>\n",
       "      <th></th>\n",
       "      <th></th>\n",
       "      <th></th>\n",
       "    </tr>\n",
       "  </thead>\n",
       "  <tbody>\n",
       "    <tr>\n",
       "      <th rowspan=\"9\" valign=\"top\">R_KNEE_ANGLE_X</th>\n",
       "      <th rowspan=\"3\" valign=\"top\">augmentation</th>\n",
       "      <th>3</th>\n",
       "      <th>10</th>\n",
       "      <th>single_leg</th>\n",
       "      <td>0.40287</td>\n",
       "      <td>0.0</td>\n",
       "      <td>-100.0</td>\n",
       "    </tr>\n",
       "    <tr>\n",
       "      <th>6</th>\n",
       "      <th>10</th>\n",
       "      <th>single_leg</th>\n",
       "      <td>0.62331</td>\n",
       "      <td>0.0</td>\n",
       "      <td>-100.0</td>\n",
       "    </tr>\n",
       "    <tr>\n",
       "      <th>9</th>\n",
       "      <th>10</th>\n",
       "      <th>single_leg</th>\n",
       "      <td>0.49845</td>\n",
       "      <td>0.0</td>\n",
       "      <td>-100.0</td>\n",
       "    </tr>\n",
       "    <tr>\n",
       "      <th rowspan=\"6\" valign=\"top\">baseline_mlnn</th>\n",
       "      <th rowspan=\"2\" valign=\"top\">3</th>\n",
       "      <th rowspan=\"2\" valign=\"top\">10</th>\n",
       "      <th>double_leg</th>\n",
       "      <td>0.56100</td>\n",
       "      <td>0.0</td>\n",
       "      <td>-100.0</td>\n",
       "    </tr>\n",
       "    <tr>\n",
       "      <th>single_leg</th>\n",
       "      <td>0.39692</td>\n",
       "      <td>0.0</td>\n",
       "      <td>-100.0</td>\n",
       "    </tr>\n",
       "    <tr>\n",
       "      <th rowspan=\"2\" valign=\"top\">6</th>\n",
       "      <th rowspan=\"2\" valign=\"top\">10</th>\n",
       "      <th>double_leg</th>\n",
       "      <td>0.82088</td>\n",
       "      <td>0.0</td>\n",
       "      <td>-100.0</td>\n",
       "    </tr>\n",
       "    <tr>\n",
       "      <th>single_leg</th>\n",
       "      <td>0.65805</td>\n",
       "      <td>0.0</td>\n",
       "      <td>-100.0</td>\n",
       "    </tr>\n",
       "    <tr>\n",
       "      <th rowspan=\"2\" valign=\"top\">9</th>\n",
       "      <th rowspan=\"2\" valign=\"top\">10</th>\n",
       "      <th>double_leg</th>\n",
       "      <td>0.67274</td>\n",
       "      <td>0.0</td>\n",
       "      <td>-100.0</td>\n",
       "    </tr>\n",
       "    <tr>\n",
       "      <th>single_leg</th>\n",
       "      <td>0.58999</td>\n",
       "      <td>0.0</td>\n",
       "      <td>-100.0</td>\n",
       "    </tr>\n",
       "    <tr>\n",
       "      <th rowspan=\"6\" valign=\"top\">R_KNEE_ANGLE_Y</th>\n",
       "      <th rowspan=\"3\" valign=\"top\">augmentation</th>\n",
       "      <th>3</th>\n",
       "      <th>10</th>\n",
       "      <th>single_leg</th>\n",
       "      <td>-2.67495</td>\n",
       "      <td>0.0</td>\n",
       "      <td>-100.0</td>\n",
       "    </tr>\n",
       "    <tr>\n",
       "      <th>6</th>\n",
       "      <th>10</th>\n",
       "      <th>single_leg</th>\n",
       "      <td>-3.71990</td>\n",
       "      <td>0.0</td>\n",
       "      <td>-100.0</td>\n",
       "    </tr>\n",
       "    <tr>\n",
       "      <th>9</th>\n",
       "      <th>10</th>\n",
       "      <th>single_leg</th>\n",
       "      <td>-3.80314</td>\n",
       "      <td>0.0</td>\n",
       "      <td>-100.0</td>\n",
       "    </tr>\n",
       "    <tr>\n",
       "      <th rowspan=\"3\" valign=\"top\">baseline_mlnn</th>\n",
       "      <th>3</th>\n",
       "      <th>10</th>\n",
       "      <th>single_leg</th>\n",
       "      <td>-2.68407</td>\n",
       "      <td>0.0</td>\n",
       "      <td>-100.0</td>\n",
       "    </tr>\n",
       "    <tr>\n",
       "      <th>6</th>\n",
       "      <th>10</th>\n",
       "      <th>single_leg</th>\n",
       "      <td>-2.89696</td>\n",
       "      <td>0.0</td>\n",
       "      <td>-100.0</td>\n",
       "    </tr>\n",
       "    <tr>\n",
       "      <th>9</th>\n",
       "      <th>10</th>\n",
       "      <th>single_leg</th>\n",
       "      <td>-3.47725</td>\n",
       "      <td>0.0</td>\n",
       "      <td>-100.0</td>\n",
       "    </tr>\n",
       "    <tr>\n",
       "      <th rowspan=\"9\" valign=\"top\">R_KNEE_MOMENT_X</th>\n",
       "      <th rowspan=\"3\" valign=\"top\">augmentation</th>\n",
       "      <th>3</th>\n",
       "      <th>10</th>\n",
       "      <th>single_leg</th>\n",
       "      <td>0.74936</td>\n",
       "      <td>0.0</td>\n",
       "      <td>-100.0</td>\n",
       "    </tr>\n",
       "    <tr>\n",
       "      <th>6</th>\n",
       "      <th>10</th>\n",
       "      <th>single_leg</th>\n",
       "      <td>0.87066</td>\n",
       "      <td>0.0</td>\n",
       "      <td>-100.0</td>\n",
       "    </tr>\n",
       "    <tr>\n",
       "      <th>9</th>\n",
       "      <th>10</th>\n",
       "      <th>single_leg</th>\n",
       "      <td>0.74952</td>\n",
       "      <td>0.0</td>\n",
       "      <td>-100.0</td>\n",
       "    </tr>\n",
       "    <tr>\n",
       "      <th rowspan=\"6\" valign=\"top\">baseline_mlnn</th>\n",
       "      <th rowspan=\"2\" valign=\"top\">3</th>\n",
       "      <th rowspan=\"2\" valign=\"top\">10</th>\n",
       "      <th>double_leg</th>\n",
       "      <td>0.77814</td>\n",
       "      <td>0.0</td>\n",
       "      <td>-100.0</td>\n",
       "    </tr>\n",
       "    <tr>\n",
       "      <th>single_leg</th>\n",
       "      <td>0.73130</td>\n",
       "      <td>0.0</td>\n",
       "      <td>-100.0</td>\n",
       "    </tr>\n",
       "    <tr>\n",
       "      <th rowspan=\"2\" valign=\"top\">6</th>\n",
       "      <th rowspan=\"2\" valign=\"top\">10</th>\n",
       "      <th>double_leg</th>\n",
       "      <td>0.84098</td>\n",
       "      <td>0.0</td>\n",
       "      <td>-100.0</td>\n",
       "    </tr>\n",
       "    <tr>\n",
       "      <th>single_leg</th>\n",
       "      <td>0.89010</td>\n",
       "      <td>0.0</td>\n",
       "      <td>-100.0</td>\n",
       "    </tr>\n",
       "    <tr>\n",
       "      <th rowspan=\"2\" valign=\"top\">9</th>\n",
       "      <th rowspan=\"2\" valign=\"top\">10</th>\n",
       "      <th>double_leg</th>\n",
       "      <td>0.82307</td>\n",
       "      <td>0.0</td>\n",
       "      <td>-100.0</td>\n",
       "    </tr>\n",
       "    <tr>\n",
       "      <th>single_leg</th>\n",
       "      <td>0.79016</td>\n",
       "      <td>0.0</td>\n",
       "      <td>-100.0</td>\n",
       "    </tr>\n",
       "  </tbody>\n",
       "</table>\n",
       "</div>"
      ],
      "text/plain": [
       "                                                                             r2  \\\n",
       "labels_name     model_selection train_sub_num trial_num landing_manner            \n",
       "R_KNEE_ANGLE_X  augmentation    3             10         single_leg     0.40287   \n",
       "                                6             10         single_leg     0.62331   \n",
       "                                9             10         single_leg     0.49845   \n",
       "                baseline_mlnn   3             10         double_leg     0.56100   \n",
       "                                                         single_leg     0.39692   \n",
       "                                6             10         double_leg     0.82088   \n",
       "                                                         single_leg     0.65805   \n",
       "                                9             10         double_leg     0.67274   \n",
       "                                                         single_leg     0.58999   \n",
       "R_KNEE_ANGLE_Y  augmentation    3             10         single_leg    -2.67495   \n",
       "                                6             10         single_leg    -3.71990   \n",
       "                                9             10         single_leg    -3.80314   \n",
       "                baseline_mlnn   3             10         single_leg    -2.68407   \n",
       "                                6             10         single_leg    -2.89696   \n",
       "                                9             10         single_leg    -3.47725   \n",
       "R_KNEE_MOMENT_X augmentation    3             10         single_leg     0.74936   \n",
       "                                6             10         single_leg     0.87066   \n",
       "                                9             10         single_leg     0.74952   \n",
       "                baseline_mlnn   3             10         double_leg     0.77814   \n",
       "                                                         single_leg     0.73130   \n",
       "                                6             10         double_leg     0.84098   \n",
       "                                                         single_leg     0.89010   \n",
       "                                9             10         double_leg     0.82307   \n",
       "                                                         single_leg     0.79016   \n",
       "\n",
       "                                                                        trials  \\\n",
       "labels_name     model_selection train_sub_num trial_num landing_manner           \n",
       "R_KNEE_ANGLE_X  augmentation    3             10         single_leg        0.0   \n",
       "                                6             10         single_leg        0.0   \n",
       "                                9             10         single_leg        0.0   \n",
       "                baseline_mlnn   3             10         double_leg        0.0   \n",
       "                                                         single_leg        0.0   \n",
       "                                6             10         double_leg        0.0   \n",
       "                                                         single_leg        0.0   \n",
       "                                9             10         double_leg        0.0   \n",
       "                                                         single_leg        0.0   \n",
       "R_KNEE_ANGLE_Y  augmentation    3             10         single_leg        0.0   \n",
       "                                6             10         single_leg        0.0   \n",
       "                                9             10         single_leg        0.0   \n",
       "                baseline_mlnn   3             10         single_leg        0.0   \n",
       "                                6             10         single_leg        0.0   \n",
       "                                9             10         single_leg        0.0   \n",
       "R_KNEE_MOMENT_X augmentation    3             10         single_leg        0.0   \n",
       "                                6             10         single_leg        0.0   \n",
       "                                9             10         single_leg        0.0   \n",
       "                baseline_mlnn   3             10         double_leg        0.0   \n",
       "                                                         single_leg        0.0   \n",
       "                                6             10         double_leg        0.0   \n",
       "                                                         single_leg        0.0   \n",
       "                                9             10         double_leg        0.0   \n",
       "                                                         single_leg        0.0   \n",
       "\n",
       "                                                                        execution_time  \n",
       "labels_name     model_selection train_sub_num trial_num landing_manner                  \n",
       "R_KNEE_ANGLE_X  augmentation    3             10         single_leg             -100.0  \n",
       "                                6             10         single_leg             -100.0  \n",
       "                                9             10         single_leg             -100.0  \n",
       "                baseline_mlnn   3             10         double_leg             -100.0  \n",
       "                                                         single_leg             -100.0  \n",
       "                                6             10         double_leg             -100.0  \n",
       "                                                         single_leg             -100.0  \n",
       "                                9             10         double_leg             -100.0  \n",
       "                                                         single_leg             -100.0  \n",
       "R_KNEE_ANGLE_Y  augmentation    3             10         single_leg             -100.0  \n",
       "                                6             10         single_leg             -100.0  \n",
       "                                9             10         single_leg             -100.0  \n",
       "                baseline_mlnn   3             10         single_leg             -100.0  \n",
       "                                6             10         single_leg             -100.0  \n",
       "                                9             10         single_leg             -100.0  \n",
       "R_KNEE_MOMENT_X augmentation    3             10         single_leg             -100.0  \n",
       "                                6             10         single_leg             -100.0  \n",
       "                                9             10         single_leg             -100.0  \n",
       "                baseline_mlnn   3             10         double_leg             -100.0  \n",
       "                                                         single_leg             -100.0  \n",
       "                                6             10         double_leg             -100.0  \n",
       "                                                         single_leg             -100.0  \n",
       "                                9             10         double_leg             -100.0  \n",
       "                                                         single_leg             -100.0  "
      ]
     },
     "execution_count": 48,
     "metadata": {},
     "output_type": "execute_result"
    }
   ],
   "source": [
    "metrics.groupby(['labels_name','model_selection','train_sub_num','trial_num','landing_manner']).mean()"
   ]
  },
  {
   "cell_type": "code",
   "execution_count": null,
   "id": "de0f9551-64c5-4ca6-baff-3b9fbaff3112",
   "metadata": {
    "collapsed": true,
    "jupyter": {
     "outputs_hidden": true
    },
    "tags": []
   },
   "outputs": [
    {
     "data": {
      "text/plain": [
       "[<matplotlib.lines.Line2D at 0x7f22b62cbb50>]"
      ]
     },
     "execution_count": 8,
     "metadata": {},
     "output_type": "execute_result"
    },
    {
     "data": {
      "image/png": "[encoded data removed]",
      "text/plain": [
       "<Figure size 640x480 with 1 Axes>"
      ]
     },
     "metadata": {},
     "output_type": "display_data"
    }
   ],
   "source": [
    "pd_data = multi_test_results[0]\n",
    "data =pd_data[pd_data['trial_index']==10]\n",
    "data= data[data['test_subject']=='P_22_zhangning']\n",
    "plt.plot(data['Actual R_KNEE_MOMENT_X'],'r')\n",
    "plt.plot(data['Estimated R_KNEE_MOMENT_X'],'g')"
   ]
  },
  {
   "cell_type": "code",
   "execution_count": 11,
   "id": "2ace386f-dd99-4dfd-bc71-79fbfeeed933",
   "metadata": {
    "collapsed": true,
    "jupyter": {
     "outputs_hidden": true
    },
    "tags": []
   },
   "outputs": [
    {
     "data": {
      "text/plain": [
       "{'P_11_liuchunyu', 'P_15_liuzhaoyu', 'P_22_zhangning', 'P_23_wangjinhong'}"
      ]
     },
     "execution_count": 11,
     "metadata": {},
     "output_type": "execute_result"
    }
   ],
   "source": [
    "set(multi_test_results[0]['test_subject'])"
   ]
  },
  {
   "cell_type": "code",
   "execution_count": 102,
   "id": "9ccfc739-6d4c-44e8-91b4-b4c52f6680af",
   "metadata": {
    "tags": []
   },
   "outputs": [
    {
     "name": "stdout",
     "output_type": "stream",
     "text": [
      "/media/sun/TFcard/drop_landing_workspace/results/training_testing/baseline_mlnn_v20/0rotid/1sub/5tri/testing_result_folders.txt 70\n"
     ]
    },
    {
     "ename": "FileNotFoundError",
     "evalue": "[Errno 2] No such file or directory: '/media/sun/TFcard/drop_landing_workspace/results/training_testing/baseline_mlnn_v20/0rotid/1sub/5tri/testing_result_folders.txt'",
     "output_type": "error",
     "traceback": [
      "\u001b[0;31m---------------------------------------------------------------------------\u001b[0m",
      "\u001b[0;31mFileNotFoundError\u001b[0m                         Traceback (most recent call last)",
      "Cell \u001b[0;32mIn [102], line 4\u001b[0m\n\u001b[1;32m      2\u001b[0m \u001b[38;5;28mprint\u001b[39m(combination_investigation_results[\u001b[38;5;241m0\u001b[39m],\u001b[38;5;28mlen\u001b[39m(combination_investigation_results))\n\u001b[1;32m      3\u001b[0m \u001b[38;5;66;03m#testing_folder=\u001b[39;00m\n\u001b[0;32m----> 4\u001b[0m testing_folders \u001b[38;5;241m=\u001b[39m  \u001b[43mget_investigation_training_testing_folders\u001b[49m\u001b[43m(\u001b[49m\u001b[43mcombination_investigation_results\u001b[49m\u001b[43m[\u001b[49m\u001b[38;5;241;43m0\u001b[39;49m\u001b[43m]\u001b[49m\u001b[43m)\u001b[49m\n\u001b[1;32m      5\u001b[0m testing_folder \u001b[38;5;241m=\u001b[39m testing_folders[\u001b[38;5;124m'\u001b[39m\u001b[38;5;124mtesting_folders\u001b[39m\u001b[38;5;124m'\u001b[39m][\u001b[38;5;241m10\u001b[39m]\n\u001b[1;32m      6\u001b[0m [pd_labels, pd_predictions] \u001b[38;5;241m=\u001b[39m get_testing_results(testing_folder)\n",
      "File \u001b[0;32m~/workspace/PythonProject/DataAnalysis/P6/transfer_learning_for_droplanding/assessments/scores.py:637\u001b[0m, in \u001b[0;36mget_investigation_training_testing_folders\u001b[0;34m(combination_investigation_results, train_test_id)\u001b[0m\n\u001b[1;32m    634\u001b[0m \u001b[38;5;28;01mdef\u001b[39;00m \u001b[38;5;21mget_investigation_training_testing_folders\u001b[39m(combination_investigation_results, train_test_id\u001b[38;5;241m=\u001b[39m\u001b[38;5;28;01mNone\u001b[39;00m):\n\u001b[1;32m    635\u001b[0m \n\u001b[1;32m    636\u001b[0m     \u001b[38;5;66;03m# load training and testing results\u001b[39;00m\n\u001b[0;32m--> 637\u001b[0m     investigation_config_results \u001b[38;5;241m=\u001b[39m \u001b[43mpd\u001b[49m\u001b[38;5;241;43m.\u001b[39;49m\u001b[43mread_csv\u001b[49m\u001b[43m(\u001b[49m\u001b[43mcombination_investigation_results\u001b[49m\u001b[43m,\u001b[49m\u001b[43mdelimiter\u001b[49m\u001b[38;5;241;43m=\u001b[39;49m\u001b[38;5;124;43m'\u001b[39;49m\u001b[38;5;130;43;01m\\t\u001b[39;49;00m\u001b[38;5;124;43m'\u001b[39;49m\u001b[43m,\u001b[49m\u001b[43mheader\u001b[49m\u001b[38;5;241;43m=\u001b[39;49m\u001b[38;5;241;43m0\u001b[39;49m\u001b[43m)\u001b[49m\n\u001b[1;32m    639\u001b[0m     \u001b[38;5;66;03m# get training and testing folders\u001b[39;00m\n\u001b[1;32m    640\u001b[0m     \u001b[38;5;28;01mif\u001b[39;00m(re\u001b[38;5;241m.\u001b[39msearch(\u001b[38;5;124m'\u001b[39m\u001b[38;5;124mtraining_(\u001b[39m\u001b[38;5;124m\\\u001b[39m\u001b[38;5;124md)\u001b[39m\u001b[38;5;132;01m{6}\u001b[39;00m\u001b[38;5;124m'\u001b[39m, investigation_config_results[\u001b[38;5;124m'\u001b[39m\u001b[38;5;124mtraining_testing_folders\u001b[39m\u001b[38;5;124m'\u001b[39m][\u001b[38;5;241m0\u001b[39m])):\n",
      "File \u001b[0;32m~/.pyenv/versions/3.9.2/envs/machinelearning/lib/python3.9/site-packages/pandas/util/_decorators.py:211\u001b[0m, in \u001b[0;36mdeprecate_kwarg.<locals>._deprecate_kwarg.<locals>.wrapper\u001b[0;34m(*args, **kwargs)\u001b[0m\n\u001b[1;32m    209\u001b[0m     \u001b[38;5;28;01melse\u001b[39;00m:\n\u001b[1;32m    210\u001b[0m         kwargs[new_arg_name] \u001b[38;5;241m=\u001b[39m new_arg_value\n\u001b[0;32m--> 211\u001b[0m \u001b[38;5;28;01mreturn\u001b[39;00m \u001b[43mfunc\u001b[49m\u001b[43m(\u001b[49m\u001b[38;5;241;43m*\u001b[39;49m\u001b[43margs\u001b[49m\u001b[43m,\u001b[49m\u001b[43m \u001b[49m\u001b[38;5;241;43m*\u001b[39;49m\u001b[38;5;241;43m*\u001b[39;49m\u001b[43mkwargs\u001b[49m\u001b[43m)\u001b[49m\n",
      "File \u001b[0;32m~/.pyenv/versions/3.9.2/envs/machinelearning/lib/python3.9/site-packages/pandas/util/_decorators.py:331\u001b[0m, in \u001b[0;36mdeprecate_nonkeyword_arguments.<locals>.decorate.<locals>.wrapper\u001b[0;34m(*args, **kwargs)\u001b[0m\n\u001b[1;32m    325\u001b[0m \u001b[38;5;28;01mif\u001b[39;00m \u001b[38;5;28mlen\u001b[39m(args) \u001b[38;5;241m>\u001b[39m num_allow_args:\n\u001b[1;32m    326\u001b[0m     warnings\u001b[38;5;241m.\u001b[39mwarn(\n\u001b[1;32m    327\u001b[0m         msg\u001b[38;5;241m.\u001b[39mformat(arguments\u001b[38;5;241m=\u001b[39m_format_argument_list(allow_args)),\n\u001b[1;32m    328\u001b[0m         \u001b[38;5;167;01mFutureWarning\u001b[39;00m,\n\u001b[1;32m    329\u001b[0m         stacklevel\u001b[38;5;241m=\u001b[39mfind_stack_level(),\n\u001b[1;32m    330\u001b[0m     )\n\u001b[0;32m--> 331\u001b[0m \u001b[38;5;28;01mreturn\u001b[39;00m \u001b[43mfunc\u001b[49m\u001b[43m(\u001b[49m\u001b[38;5;241;43m*\u001b[39;49m\u001b[43margs\u001b[49m\u001b[43m,\u001b[49m\u001b[43m \u001b[49m\u001b[38;5;241;43m*\u001b[39;49m\u001b[38;5;241;43m*\u001b[39;49m\u001b[43mkwargs\u001b[49m\u001b[43m)\u001b[49m\n",
      "File \u001b[0;32m~/.pyenv/versions/3.9.2/envs/machinelearning/lib/python3.9/site-packages/pandas/io/parsers/readers.py:950\u001b[0m, in \u001b[0;36mread_csv\u001b[0;34m(filepath_or_buffer, sep, delimiter, header, names, index_col, usecols, squeeze, prefix, mangle_dupe_cols, dtype, engine, converters, true_values, false_values, skipinitialspace, skiprows, skipfooter, nrows, na_values, keep_default_na, na_filter, verbose, skip_blank_lines, parse_dates, infer_datetime_format, keep_date_col, date_parser, dayfirst, cache_dates, iterator, chunksize, compression, thousands, decimal, lineterminator, quotechar, quoting, doublequote, escapechar, comment, encoding, encoding_errors, dialect, error_bad_lines, warn_bad_lines, on_bad_lines, delim_whitespace, low_memory, memory_map, float_precision, storage_options)\u001b[0m\n\u001b[1;32m    935\u001b[0m kwds_defaults \u001b[38;5;241m=\u001b[39m _refine_defaults_read(\n\u001b[1;32m    936\u001b[0m     dialect,\n\u001b[1;32m    937\u001b[0m     delimiter,\n\u001b[0;32m   (...)\u001b[0m\n\u001b[1;32m    946\u001b[0m     defaults\u001b[38;5;241m=\u001b[39m{\u001b[38;5;124m\"\u001b[39m\u001b[38;5;124mdelimiter\u001b[39m\u001b[38;5;124m\"\u001b[39m: \u001b[38;5;124m\"\u001b[39m\u001b[38;5;124m,\u001b[39m\u001b[38;5;124m\"\u001b[39m},\n\u001b[1;32m    947\u001b[0m )\n\u001b[1;32m    948\u001b[0m kwds\u001b[38;5;241m.\u001b[39mupdate(kwds_defaults)\n\u001b[0;32m--> 950\u001b[0m \u001b[38;5;28;01mreturn\u001b[39;00m \u001b[43m_read\u001b[49m\u001b[43m(\u001b[49m\u001b[43mfilepath_or_buffer\u001b[49m\u001b[43m,\u001b[49m\u001b[43m \u001b[49m\u001b[43mkwds\u001b[49m\u001b[43m)\u001b[49m\n",
      "File \u001b[0;32m~/.pyenv/versions/3.9.2/envs/machinelearning/lib/python3.9/site-packages/pandas/io/parsers/readers.py:605\u001b[0m, in \u001b[0;36m_read\u001b[0;34m(filepath_or_buffer, kwds)\u001b[0m\n\u001b[1;32m    602\u001b[0m _validate_names(kwds\u001b[38;5;241m.\u001b[39mget(\u001b[38;5;124m\"\u001b[39m\u001b[38;5;124mnames\u001b[39m\u001b[38;5;124m\"\u001b[39m, \u001b[38;5;28;01mNone\u001b[39;00m))\n\u001b[1;32m    604\u001b[0m \u001b[38;5;66;03m# Create the parser.\u001b[39;00m\n\u001b[0;32m--> 605\u001b[0m parser \u001b[38;5;241m=\u001b[39m \u001b[43mTextFileReader\u001b[49m\u001b[43m(\u001b[49m\u001b[43mfilepath_or_buffer\u001b[49m\u001b[43m,\u001b[49m\u001b[43m \u001b[49m\u001b[38;5;241;43m*\u001b[39;49m\u001b[38;5;241;43m*\u001b[39;49m\u001b[43mkwds\u001b[49m\u001b[43m)\u001b[49m\n\u001b[1;32m    607\u001b[0m \u001b[38;5;28;01mif\u001b[39;00m chunksize \u001b[38;5;129;01mor\u001b[39;00m iterator:\n\u001b[1;32m    608\u001b[0m     \u001b[38;5;28;01mreturn\u001b[39;00m parser\n",
      "File \u001b[0;32m~/.pyenv/versions/3.9.2/envs/machinelearning/lib/python3.9/site-packages/pandas/io/parsers/readers.py:1442\u001b[0m, in \u001b[0;36mTextFileReader.__init__\u001b[0;34m(self, f, engine, **kwds)\u001b[0m\n\u001b[1;32m   1439\u001b[0m     \u001b[38;5;28mself\u001b[39m\u001b[38;5;241m.\u001b[39moptions[\u001b[38;5;124m\"\u001b[39m\u001b[38;5;124mhas_index_names\u001b[39m\u001b[38;5;124m\"\u001b[39m] \u001b[38;5;241m=\u001b[39m kwds[\u001b[38;5;124m\"\u001b[39m\u001b[38;5;124mhas_index_names\u001b[39m\u001b[38;5;124m\"\u001b[39m]\n\u001b[1;32m   1441\u001b[0m \u001b[38;5;28mself\u001b[39m\u001b[38;5;241m.\u001b[39mhandles: IOHandles \u001b[38;5;241m|\u001b[39m \u001b[38;5;28;01mNone\u001b[39;00m \u001b[38;5;241m=\u001b[39m \u001b[38;5;28;01mNone\u001b[39;00m\n\u001b[0;32m-> 1442\u001b[0m \u001b[38;5;28mself\u001b[39m\u001b[38;5;241m.\u001b[39m_engine \u001b[38;5;241m=\u001b[39m \u001b[38;5;28;43mself\u001b[39;49m\u001b[38;5;241;43m.\u001b[39;49m\u001b[43m_make_engine\u001b[49m\u001b[43m(\u001b[49m\u001b[43mf\u001b[49m\u001b[43m,\u001b[49m\u001b[43m \u001b[49m\u001b[38;5;28;43mself\u001b[39;49m\u001b[38;5;241;43m.\u001b[39;49m\u001b[43mengine\u001b[49m\u001b[43m)\u001b[49m\n",
      "File \u001b[0;32m~/.pyenv/versions/3.9.2/envs/machinelearning/lib/python3.9/site-packages/pandas/io/parsers/readers.py:1735\u001b[0m, in \u001b[0;36mTextFileReader._make_engine\u001b[0;34m(self, f, engine)\u001b[0m\n\u001b[1;32m   1733\u001b[0m     \u001b[38;5;28;01mif\u001b[39;00m \u001b[38;5;124m\"\u001b[39m\u001b[38;5;124mb\u001b[39m\u001b[38;5;124m\"\u001b[39m \u001b[38;5;129;01mnot\u001b[39;00m \u001b[38;5;129;01min\u001b[39;00m mode:\n\u001b[1;32m   1734\u001b[0m         mode \u001b[38;5;241m+\u001b[39m\u001b[38;5;241m=\u001b[39m \u001b[38;5;124m\"\u001b[39m\u001b[38;5;124mb\u001b[39m\u001b[38;5;124m\"\u001b[39m\n\u001b[0;32m-> 1735\u001b[0m \u001b[38;5;28mself\u001b[39m\u001b[38;5;241m.\u001b[39mhandles \u001b[38;5;241m=\u001b[39m \u001b[43mget_handle\u001b[49m\u001b[43m(\u001b[49m\n\u001b[1;32m   1736\u001b[0m \u001b[43m    \u001b[49m\u001b[43mf\u001b[49m\u001b[43m,\u001b[49m\n\u001b[1;32m   1737\u001b[0m \u001b[43m    \u001b[49m\u001b[43mmode\u001b[49m\u001b[43m,\u001b[49m\n\u001b[1;32m   1738\u001b[0m \u001b[43m    \u001b[49m\u001b[43mencoding\u001b[49m\u001b[38;5;241;43m=\u001b[39;49m\u001b[38;5;28;43mself\u001b[39;49m\u001b[38;5;241;43m.\u001b[39;49m\u001b[43moptions\u001b[49m\u001b[38;5;241;43m.\u001b[39;49m\u001b[43mget\u001b[49m\u001b[43m(\u001b[49m\u001b[38;5;124;43m\"\u001b[39;49m\u001b[38;5;124;43mencoding\u001b[39;49m\u001b[38;5;124;43m\"\u001b[39;49m\u001b[43m,\u001b[49m\u001b[43m \u001b[49m\u001b[38;5;28;43;01mNone\u001b[39;49;00m\u001b[43m)\u001b[49m\u001b[43m,\u001b[49m\n\u001b[1;32m   1739\u001b[0m \u001b[43m    \u001b[49m\u001b[43mcompression\u001b[49m\u001b[38;5;241;43m=\u001b[39;49m\u001b[38;5;28;43mself\u001b[39;49m\u001b[38;5;241;43m.\u001b[39;49m\u001b[43moptions\u001b[49m\u001b[38;5;241;43m.\u001b[39;49m\u001b[43mget\u001b[49m\u001b[43m(\u001b[49m\u001b[38;5;124;43m\"\u001b[39;49m\u001b[38;5;124;43mcompression\u001b[39;49m\u001b[38;5;124;43m\"\u001b[39;49m\u001b[43m,\u001b[49m\u001b[43m \u001b[49m\u001b[38;5;28;43;01mNone\u001b[39;49;00m\u001b[43m)\u001b[49m\u001b[43m,\u001b[49m\n\u001b[1;32m   1740\u001b[0m \u001b[43m    \u001b[49m\u001b[43mmemory_map\u001b[49m\u001b[38;5;241;43m=\u001b[39;49m\u001b[38;5;28;43mself\u001b[39;49m\u001b[38;5;241;43m.\u001b[39;49m\u001b[43moptions\u001b[49m\u001b[38;5;241;43m.\u001b[39;49m\u001b[43mget\u001b[49m\u001b[43m(\u001b[49m\u001b[38;5;124;43m\"\u001b[39;49m\u001b[38;5;124;43mmemory_map\u001b[39;49m\u001b[38;5;124;43m\"\u001b[39;49m\u001b[43m,\u001b[49m\u001b[43m \u001b[49m\u001b[38;5;28;43;01mFalse\u001b[39;49;00m\u001b[43m)\u001b[49m\u001b[43m,\u001b[49m\n\u001b[1;32m   1741\u001b[0m \u001b[43m    \u001b[49m\u001b[43mis_text\u001b[49m\u001b[38;5;241;43m=\u001b[39;49m\u001b[43mis_text\u001b[49m\u001b[43m,\u001b[49m\n\u001b[1;32m   1742\u001b[0m \u001b[43m    \u001b[49m\u001b[43merrors\u001b[49m\u001b[38;5;241;43m=\u001b[39;49m\u001b[38;5;28;43mself\u001b[39;49m\u001b[38;5;241;43m.\u001b[39;49m\u001b[43moptions\u001b[49m\u001b[38;5;241;43m.\u001b[39;49m\u001b[43mget\u001b[49m\u001b[43m(\u001b[49m\u001b[38;5;124;43m\"\u001b[39;49m\u001b[38;5;124;43mencoding_errors\u001b[39;49m\u001b[38;5;124;43m\"\u001b[39;49m\u001b[43m,\u001b[49m\u001b[43m \u001b[49m\u001b[38;5;124;43m\"\u001b[39;49m\u001b[38;5;124;43mstrict\u001b[39;49m\u001b[38;5;124;43m\"\u001b[39;49m\u001b[43m)\u001b[49m\u001b[43m,\u001b[49m\n\u001b[1;32m   1743\u001b[0m \u001b[43m    \u001b[49m\u001b[43mstorage_options\u001b[49m\u001b[38;5;241;43m=\u001b[39;49m\u001b[38;5;28;43mself\u001b[39;49m\u001b[38;5;241;43m.\u001b[39;49m\u001b[43moptions\u001b[49m\u001b[38;5;241;43m.\u001b[39;49m\u001b[43mget\u001b[49m\u001b[43m(\u001b[49m\u001b[38;5;124;43m\"\u001b[39;49m\u001b[38;5;124;43mstorage_options\u001b[39;49m\u001b[38;5;124;43m\"\u001b[39;49m\u001b[43m,\u001b[49m\u001b[43m \u001b[49m\u001b[38;5;28;43;01mNone\u001b[39;49;00m\u001b[43m)\u001b[49m\u001b[43m,\u001b[49m\n\u001b[1;32m   1744\u001b[0m \u001b[43m\u001b[49m\u001b[43m)\u001b[49m\n\u001b[1;32m   1745\u001b[0m \u001b[38;5;28;01massert\u001b[39;00m \u001b[38;5;28mself\u001b[39m\u001b[38;5;241m.\u001b[39mhandles \u001b[38;5;129;01mis\u001b[39;00m \u001b[38;5;129;01mnot\u001b[39;00m \u001b[38;5;28;01mNone\u001b[39;00m\n\u001b[1;32m   1746\u001b[0m f \u001b[38;5;241m=\u001b[39m \u001b[38;5;28mself\u001b[39m\u001b[38;5;241m.\u001b[39mhandles\u001b[38;5;241m.\u001b[39mhandle\n",
      "File \u001b[0;32m~/.pyenv/versions/3.9.2/envs/machinelearning/lib/python3.9/site-packages/pandas/io/common.py:856\u001b[0m, in \u001b[0;36mget_handle\u001b[0;34m(path_or_buf, mode, encoding, compression, memory_map, is_text, errors, storage_options)\u001b[0m\n\u001b[1;32m    851\u001b[0m \u001b[38;5;28;01melif\u001b[39;00m \u001b[38;5;28misinstance\u001b[39m(handle, \u001b[38;5;28mstr\u001b[39m):\n\u001b[1;32m    852\u001b[0m     \u001b[38;5;66;03m# Check whether the filename is to be opened in binary mode.\u001b[39;00m\n\u001b[1;32m    853\u001b[0m     \u001b[38;5;66;03m# Binary mode does not support 'encoding' and 'newline'.\u001b[39;00m\n\u001b[1;32m    854\u001b[0m     \u001b[38;5;28;01mif\u001b[39;00m ioargs\u001b[38;5;241m.\u001b[39mencoding \u001b[38;5;129;01mand\u001b[39;00m \u001b[38;5;124m\"\u001b[39m\u001b[38;5;124mb\u001b[39m\u001b[38;5;124m\"\u001b[39m \u001b[38;5;129;01mnot\u001b[39;00m \u001b[38;5;129;01min\u001b[39;00m ioargs\u001b[38;5;241m.\u001b[39mmode:\n\u001b[1;32m    855\u001b[0m         \u001b[38;5;66;03m# Encoding\u001b[39;00m\n\u001b[0;32m--> 856\u001b[0m         handle \u001b[38;5;241m=\u001b[39m \u001b[38;5;28;43mopen\u001b[39;49m\u001b[43m(\u001b[49m\n\u001b[1;32m    857\u001b[0m \u001b[43m            \u001b[49m\u001b[43mhandle\u001b[49m\u001b[43m,\u001b[49m\n\u001b[1;32m    858\u001b[0m \u001b[43m            \u001b[49m\u001b[43mioargs\u001b[49m\u001b[38;5;241;43m.\u001b[39;49m\u001b[43mmode\u001b[49m\u001b[43m,\u001b[49m\n\u001b[1;32m    859\u001b[0m \u001b[43m            \u001b[49m\u001b[43mencoding\u001b[49m\u001b[38;5;241;43m=\u001b[39;49m\u001b[43mioargs\u001b[49m\u001b[38;5;241;43m.\u001b[39;49m\u001b[43mencoding\u001b[49m\u001b[43m,\u001b[49m\n\u001b[1;32m    860\u001b[0m \u001b[43m            \u001b[49m\u001b[43merrors\u001b[49m\u001b[38;5;241;43m=\u001b[39;49m\u001b[43merrors\u001b[49m\u001b[43m,\u001b[49m\n\u001b[1;32m    861\u001b[0m \u001b[43m            \u001b[49m\u001b[43mnewline\u001b[49m\u001b[38;5;241;43m=\u001b[39;49m\u001b[38;5;124;43m\"\u001b[39;49m\u001b[38;5;124;43m\"\u001b[39;49m\u001b[43m,\u001b[49m\n\u001b[1;32m    862\u001b[0m \u001b[43m        \u001b[49m\u001b[43m)\u001b[49m\n\u001b[1;32m    863\u001b[0m     \u001b[38;5;28;01melse\u001b[39;00m:\n\u001b[1;32m    864\u001b[0m         \u001b[38;5;66;03m# Binary mode\u001b[39;00m\n\u001b[1;32m    865\u001b[0m         handle \u001b[38;5;241m=\u001b[39m \u001b[38;5;28mopen\u001b[39m(handle, ioargs\u001b[38;5;241m.\u001b[39mmode)\n",
      "\u001b[0;31mFileNotFoundError\u001b[0m: [Errno 2] No such file or directory: '/media/sun/TFcard/drop_landing_workspace/results/training_testing/baseline_mlnn_v20/0rotid/1sub/5tri/testing_result_folders.txt'"
     ]
    }
   ],
   "source": [
    "# plot extimation curve of a trial\n",
    "print(combination_investigation_results[0],len(combination_investigation_results))\n",
    "#testing_folder=\n",
    "testing_folders =  get_investigation_training_testing_folders(combination_investigation_results[0])\n",
    "testing_folder = testing_folders['testing_folders'][10]\n",
    "[pd_labels, pd_predictions] = get_testing_results(testing_folder)\n",
    "plot_prediction(pd_labels,pd_predictions,testing_folder,verbose=1)"
   ]
  },
  {
   "cell_type": "code",
   "execution_count": null,
   "id": "12dea460-d0c1-4c14-b4e1-678b96165ab3",
   "metadata": {
    "collapsed": true,
    "jupyter": {
     "outputs_hidden": true
    }
   },
   "outputs": [],
   "source": [
    "multi_model_results"
   ]
  },
  {
   "cell_type": "markdown",
   "id": "82424427-c2c0-4ce5-a8ef-2302cc327036",
   "metadata": {
    "tags": []
   },
   "source": [
    "### baseline heatmap"
   ]
  },
  {
   "cell_type": "code",
   "execution_count": 101,
   "id": "2a68ac17-c01a-41ca-9e99-55e308ea3a26",
   "metadata": {
    "tags": []
   },
   "outputs": [
    {
     "ename": "FileNotFoundError",
     "evalue": "[Errno 2] No such file or directory: '/media/sun/TFcard/drop_landing_workspace/results/training_testing/baseline_mlnn_v20/0rotid/1sub/5tri/metrics.csv'",
     "output_type": "error",
     "traceback": [
      "\u001b[0;31m---------------------------------------------------------------------------\u001b[0m",
      "\u001b[0;31mFileNotFoundError\u001b[0m                         Traceback (most recent call last)",
      "Cell \u001b[0;32mIn [101], line 31\u001b[0m\n\u001b[1;32m     29\u001b[0m metric_index\u001b[38;5;241m=\u001b[39m\u001b[38;5;124m'\u001b[39m\u001b[38;5;124mr2\u001b[39m\u001b[38;5;124m'\u001b[39m\n\u001b[1;32m     30\u001b[0m filters\u001b[38;5;241m=\u001b[39m{\u001b[38;5;124m'\u001b[39m\u001b[38;5;124mdrop_value\u001b[39m\u001b[38;5;124m'\u001b[39m:\u001b[38;5;241m0.2\u001b[39m,\u001b[38;5;124m'\u001b[39m\u001b[38;5;124msort_variable\u001b[39m\u001b[38;5;124m'\u001b[39m:metric_index}\n\u001b[0;32m---> 31\u001b[0m baseline_metrics \u001b[38;5;241m=\u001b[39m \u001b[43mparse_list_investigation_metrics\u001b[49m\u001b[43m(\u001b[49m\u001b[43mcombination_investigation_metrics\u001b[49m\u001b[43m,\u001b[49m\u001b[43mcalculate_mean_subject_r2\u001b[49m\u001b[38;5;241;43m=\u001b[39;49m\u001b[38;5;28;43;01mFalse\u001b[39;49;00m\u001b[43m,\u001b[49m\u001b[38;5;241;43m*\u001b[39;49m\u001b[38;5;241;43m*\u001b[39;49m\u001b[43mfilters\u001b[49m\u001b[43m)\u001b[49m\n\u001b[1;32m     32\u001b[0m data \u001b[38;5;241m=\u001b[39m baseline_metrics[[\u001b[38;5;124m'\u001b[39m\u001b[38;5;124mtrain_sub_num\u001b[39m\u001b[38;5;124m'\u001b[39m, \u001b[38;5;124m'\u001b[39m\u001b[38;5;124mtrial_num\u001b[39m\u001b[38;5;124m'\u001b[39m, metric_index]]\u001b[38;5;241m.\u001b[39mgroupby([\u001b[38;5;124m'\u001b[39m\u001b[38;5;124mtrain_sub_num\u001b[39m\u001b[38;5;124m'\u001b[39m,\u001b[38;5;124m'\u001b[39m\u001b[38;5;124mtrial_num\u001b[39m\u001b[38;5;124m'\u001b[39m])\u001b[38;5;241m.\u001b[39mmedian()\u001b[38;5;241m.\u001b[39mround(\u001b[38;5;241m2\u001b[39m)\u001b[38;5;241m.\u001b[39mreset_index()\u001b[38;5;241m.\u001b[39mpivot(\u001b[38;5;124m'\u001b[39m\u001b[38;5;124mtrain_sub_num\u001b[39m\u001b[38;5;124m'\u001b[39m,\u001b[38;5;124m'\u001b[39m\u001b[38;5;124mtrial_num\u001b[39m\u001b[38;5;124m'\u001b[39m)[metric_index]\n\u001b[1;32m     33\u001b[0m \u001b[38;5;66;03m#data = baseline_metrics[['trial_num','train_sub_num','mean_subject_r2']].groupby(['train_sub_num','trial_num']).median().round(2).reset_index().pivot('train_sub_num','trial_num')['mean_subject_r2']\u001b[39;00m\n",
      "File \u001b[0;32m~/workspace/PythonProject/DataAnalysis/P6/transfer_learning_for_droplanding/assessments/scores.py:676\u001b[0m, in \u001b[0;36mparse_list_investigation_metrics\u001b[0;34m(list_combination_investigation_results, metric_fields, calculate_mean_subject_r2, **filters)\u001b[0m\n\u001b[1;32m    674\u001b[0m list_metrics\u001b[38;5;241m=\u001b[39m[]\n\u001b[1;32m    675\u001b[0m \u001b[38;5;28;01mfor\u001b[39;00m combination_investigation_result \u001b[38;5;129;01min\u001b[39;00m list_combination_investigation_results:\n\u001b[0;32m--> 676\u001b[0m     list_metrics\u001b[38;5;241m.\u001b[39mappend(\u001b[43mparse_investigation_metrics\u001b[49m\u001b[43m(\u001b[49m\u001b[43mcombination_investigation_result\u001b[49m\u001b[43m,\u001b[49m\u001b[43m \u001b[49m\u001b[43mmetric_fields\u001b[49m\u001b[43m,\u001b[49m\n\u001b[1;32m    677\u001b[0m \u001b[43m                                         \u001b[49m\u001b[38;5;241;43m*\u001b[39;49m\u001b[38;5;241;43m*\u001b[39;49m\u001b[43mfilters\u001b[49m\n\u001b[1;32m    678\u001b[0m \u001b[43m                                        \u001b[49m\u001b[43m)\u001b[49m)\n\u001b[1;32m    679\u001b[0m     \u001b[38;5;28;01mtry\u001b[39;00m:\n\u001b[1;32m    680\u001b[0m         metrics\u001b[38;5;241m=\u001b[39mpd\u001b[38;5;241m.\u001b[39mconcat(list_metrics,axis\u001b[38;5;241m=\u001b[39m\u001b[38;5;241m0\u001b[39m)\n",
      "File \u001b[0;32m~/workspace/PythonProject/DataAnalysis/P6/transfer_learning_for_droplanding/assessments/scores.py:711\u001b[0m, in \u001b[0;36mparse_investigation_metrics\u001b[0;34m(combination_investigation_results, metric_fields, **kwargs)\u001b[0m\n\u001b[1;32m    708\u001b[0m \u001b[38;5;28;01mdef\u001b[39;00m \u001b[38;5;21mparse_investigation_metrics\u001b[39m(combination_investigation_results, metric_fields\u001b[38;5;241m=\u001b[39m[\u001b[38;5;124m'\u001b[39m\u001b[38;5;124mr2\u001b[39m\u001b[38;5;124m'\u001b[39m], \u001b[38;5;241m*\u001b[39m\u001b[38;5;241m*\u001b[39mkwargs):\n\u001b[1;32m    709\u001b[0m \n\u001b[1;32m    710\u001b[0m     \u001b[38;5;66;03m#1) load assessment metrics\u001b[39;00m\n\u001b[0;32m--> 711\u001b[0m     metrics \u001b[38;5;241m=\u001b[39m \u001b[43mget_investigation_metrics\u001b[49m\u001b[43m(\u001b[49m\u001b[43mcombination_investigation_results\u001b[49m\u001b[43m,\u001b[49m\u001b[43mmetric_fields\u001b[49m\u001b[38;5;241;43m=\u001b[39;49m\u001b[43mmetric_fields\u001b[49m\u001b[43m)\u001b[49m\n\u001b[1;32m    712\u001b[0m     \u001b[38;5;28;01mreturn\u001b[39;00m filter_metrics(metrics, \u001b[38;5;241m*\u001b[39m\u001b[38;5;241m*\u001b[39mkwargs)\n",
      "File \u001b[0;32m~/workspace/PythonProject/DataAnalysis/P6/transfer_learning_for_droplanding/assessments/scores.py:560\u001b[0m, in \u001b[0;36mget_investigation_metrics\u001b[0;34m(combination_investigation_results, metric_fields)\u001b[0m\n\u001b[1;32m    558\u001b[0m     pd_assessment \u001b[38;5;241m=\u001b[39m pd\u001b[38;5;241m.\u001b[39mread_csv(combination_investigation_results, header\u001b[38;5;241m=\u001b[39m\u001b[38;5;241m0\u001b[39m)\n\u001b[1;32m    559\u001b[0m \u001b[38;5;28;01melif\u001b[39;00m(re\u001b[38;5;241m.\u001b[39msearch(\u001b[38;5;124m'\u001b[39m\u001b[38;5;124mmetrics\u001b[39m\u001b[38;5;124m'\u001b[39m, os\u001b[38;5;241m.\u001b[39mpath\u001b[38;5;241m.\u001b[39mbasename(combination_investigation_results))):\n\u001b[0;32m--> 560\u001b[0m     pd_assessment \u001b[38;5;241m=\u001b[39m \u001b[43mpd\u001b[49m\u001b[38;5;241;43m.\u001b[39;49m\u001b[43mread_csv\u001b[49m\u001b[43m(\u001b[49m\u001b[43mcombination_investigation_results\u001b[49m\u001b[43m,\u001b[49m\u001b[43m \u001b[49m\u001b[43mheader\u001b[49m\u001b[38;5;241;43m=\u001b[39;49m\u001b[38;5;241;43m0\u001b[39;49m\u001b[43m)\u001b[49m\n\u001b[1;32m    561\u001b[0m \u001b[38;5;28;01melse\u001b[39;00m: \u001b[38;5;66;03m#0-iii) survey metrics from testing folders\u001b[39;00m\n\u001b[1;32m    562\u001b[0m     pd_assessment \u001b[38;5;241m=\u001b[39m survey_investigation_assessment(combination_investigation_results)\n",
      "File \u001b[0;32m~/.pyenv/versions/3.9.2/envs/machinelearning/lib/python3.9/site-packages/pandas/util/_decorators.py:211\u001b[0m, in \u001b[0;36mdeprecate_kwarg.<locals>._deprecate_kwarg.<locals>.wrapper\u001b[0;34m(*args, **kwargs)\u001b[0m\n\u001b[1;32m    209\u001b[0m     \u001b[38;5;28;01melse\u001b[39;00m:\n\u001b[1;32m    210\u001b[0m         kwargs[new_arg_name] \u001b[38;5;241m=\u001b[39m new_arg_value\n\u001b[0;32m--> 211\u001b[0m \u001b[38;5;28;01mreturn\u001b[39;00m \u001b[43mfunc\u001b[49m\u001b[43m(\u001b[49m\u001b[38;5;241;43m*\u001b[39;49m\u001b[43margs\u001b[49m\u001b[43m,\u001b[49m\u001b[43m \u001b[49m\u001b[38;5;241;43m*\u001b[39;49m\u001b[38;5;241;43m*\u001b[39;49m\u001b[43mkwargs\u001b[49m\u001b[43m)\u001b[49m\n",
      "File \u001b[0;32m~/.pyenv/versions/3.9.2/envs/machinelearning/lib/python3.9/site-packages/pandas/util/_decorators.py:331\u001b[0m, in \u001b[0;36mdeprecate_nonkeyword_arguments.<locals>.decorate.<locals>.wrapper\u001b[0;34m(*args, **kwargs)\u001b[0m\n\u001b[1;32m    325\u001b[0m \u001b[38;5;28;01mif\u001b[39;00m \u001b[38;5;28mlen\u001b[39m(args) \u001b[38;5;241m>\u001b[39m num_allow_args:\n\u001b[1;32m    326\u001b[0m     warnings\u001b[38;5;241m.\u001b[39mwarn(\n\u001b[1;32m    327\u001b[0m         msg\u001b[38;5;241m.\u001b[39mformat(arguments\u001b[38;5;241m=\u001b[39m_format_argument_list(allow_args)),\n\u001b[1;32m    328\u001b[0m         \u001b[38;5;167;01mFutureWarning\u001b[39;00m,\n\u001b[1;32m    329\u001b[0m         stacklevel\u001b[38;5;241m=\u001b[39mfind_stack_level(),\n\u001b[1;32m    330\u001b[0m     )\n\u001b[0;32m--> 331\u001b[0m \u001b[38;5;28;01mreturn\u001b[39;00m \u001b[43mfunc\u001b[49m\u001b[43m(\u001b[49m\u001b[38;5;241;43m*\u001b[39;49m\u001b[43margs\u001b[49m\u001b[43m,\u001b[49m\u001b[43m \u001b[49m\u001b[38;5;241;43m*\u001b[39;49m\u001b[38;5;241;43m*\u001b[39;49m\u001b[43mkwargs\u001b[49m\u001b[43m)\u001b[49m\n",
      "File \u001b[0;32m~/.pyenv/versions/3.9.2/envs/machinelearning/lib/python3.9/site-packages/pandas/io/parsers/readers.py:950\u001b[0m, in \u001b[0;36mread_csv\u001b[0;34m(filepath_or_buffer, sep, delimiter, header, names, index_col, usecols, squeeze, prefix, mangle_dupe_cols, dtype, engine, converters, true_values, false_values, skipinitialspace, skiprows, skipfooter, nrows, na_values, keep_default_na, na_filter, verbose, skip_blank_lines, parse_dates, infer_datetime_format, keep_date_col, date_parser, dayfirst, cache_dates, iterator, chunksize, compression, thousands, decimal, lineterminator, quotechar, quoting, doublequote, escapechar, comment, encoding, encoding_errors, dialect, error_bad_lines, warn_bad_lines, on_bad_lines, delim_whitespace, low_memory, memory_map, float_precision, storage_options)\u001b[0m\n\u001b[1;32m    935\u001b[0m kwds_defaults \u001b[38;5;241m=\u001b[39m _refine_defaults_read(\n\u001b[1;32m    936\u001b[0m     dialect,\n\u001b[1;32m    937\u001b[0m     delimiter,\n\u001b[0;32m   (...)\u001b[0m\n\u001b[1;32m    946\u001b[0m     defaults\u001b[38;5;241m=\u001b[39m{\u001b[38;5;124m\"\u001b[39m\u001b[38;5;124mdelimiter\u001b[39m\u001b[38;5;124m\"\u001b[39m: \u001b[38;5;124m\"\u001b[39m\u001b[38;5;124m,\u001b[39m\u001b[38;5;124m\"\u001b[39m},\n\u001b[1;32m    947\u001b[0m )\n\u001b[1;32m    948\u001b[0m kwds\u001b[38;5;241m.\u001b[39mupdate(kwds_defaults)\n\u001b[0;32m--> 950\u001b[0m \u001b[38;5;28;01mreturn\u001b[39;00m \u001b[43m_read\u001b[49m\u001b[43m(\u001b[49m\u001b[43mfilepath_or_buffer\u001b[49m\u001b[43m,\u001b[49m\u001b[43m \u001b[49m\u001b[43mkwds\u001b[49m\u001b[43m)\u001b[49m\n",
      "File \u001b[0;32m~/.pyenv/versions/3.9.2/envs/machinelearning/lib/python3.9/site-packages/pandas/io/parsers/readers.py:605\u001b[0m, in \u001b[0;36m_read\u001b[0;34m(filepath_or_buffer, kwds)\u001b[0m\n\u001b[1;32m    602\u001b[0m _validate_names(kwds\u001b[38;5;241m.\u001b[39mget(\u001b[38;5;124m\"\u001b[39m\u001b[38;5;124mnames\u001b[39m\u001b[38;5;124m\"\u001b[39m, \u001b[38;5;28;01mNone\u001b[39;00m))\n\u001b[1;32m    604\u001b[0m \u001b[38;5;66;03m# Create the parser.\u001b[39;00m\n\u001b[0;32m--> 605\u001b[0m parser \u001b[38;5;241m=\u001b[39m \u001b[43mTextFileReader\u001b[49m\u001b[43m(\u001b[49m\u001b[43mfilepath_or_buffer\u001b[49m\u001b[43m,\u001b[49m\u001b[43m \u001b[49m\u001b[38;5;241;43m*\u001b[39;49m\u001b[38;5;241;43m*\u001b[39;49m\u001b[43mkwds\u001b[49m\u001b[43m)\u001b[49m\n\u001b[1;32m    607\u001b[0m \u001b[38;5;28;01mif\u001b[39;00m chunksize \u001b[38;5;129;01mor\u001b[39;00m iterator:\n\u001b[1;32m    608\u001b[0m     \u001b[38;5;28;01mreturn\u001b[39;00m parser\n",
      "File \u001b[0;32m~/.pyenv/versions/3.9.2/envs/machinelearning/lib/python3.9/site-packages/pandas/io/parsers/readers.py:1442\u001b[0m, in \u001b[0;36mTextFileReader.__init__\u001b[0;34m(self, f, engine, **kwds)\u001b[0m\n\u001b[1;32m   1439\u001b[0m     \u001b[38;5;28mself\u001b[39m\u001b[38;5;241m.\u001b[39moptions[\u001b[38;5;124m\"\u001b[39m\u001b[38;5;124mhas_index_names\u001b[39m\u001b[38;5;124m\"\u001b[39m] \u001b[38;5;241m=\u001b[39m kwds[\u001b[38;5;124m\"\u001b[39m\u001b[38;5;124mhas_index_names\u001b[39m\u001b[38;5;124m\"\u001b[39m]\n\u001b[1;32m   1441\u001b[0m \u001b[38;5;28mself\u001b[39m\u001b[38;5;241m.\u001b[39mhandles: IOHandles \u001b[38;5;241m|\u001b[39m \u001b[38;5;28;01mNone\u001b[39;00m \u001b[38;5;241m=\u001b[39m \u001b[38;5;28;01mNone\u001b[39;00m\n\u001b[0;32m-> 1442\u001b[0m \u001b[38;5;28mself\u001b[39m\u001b[38;5;241m.\u001b[39m_engine \u001b[38;5;241m=\u001b[39m \u001b[38;5;28;43mself\u001b[39;49m\u001b[38;5;241;43m.\u001b[39;49m\u001b[43m_make_engine\u001b[49m\u001b[43m(\u001b[49m\u001b[43mf\u001b[49m\u001b[43m,\u001b[49m\u001b[43m \u001b[49m\u001b[38;5;28;43mself\u001b[39;49m\u001b[38;5;241;43m.\u001b[39;49m\u001b[43mengine\u001b[49m\u001b[43m)\u001b[49m\n",
      "File \u001b[0;32m~/.pyenv/versions/3.9.2/envs/machinelearning/lib/python3.9/site-packages/pandas/io/parsers/readers.py:1735\u001b[0m, in \u001b[0;36mTextFileReader._make_engine\u001b[0;34m(self, f, engine)\u001b[0m\n\u001b[1;32m   1733\u001b[0m     \u001b[38;5;28;01mif\u001b[39;00m \u001b[38;5;124m\"\u001b[39m\u001b[38;5;124mb\u001b[39m\u001b[38;5;124m\"\u001b[39m \u001b[38;5;129;01mnot\u001b[39;00m \u001b[38;5;129;01min\u001b[39;00m mode:\n\u001b[1;32m   1734\u001b[0m         mode \u001b[38;5;241m+\u001b[39m\u001b[38;5;241m=\u001b[39m \u001b[38;5;124m\"\u001b[39m\u001b[38;5;124mb\u001b[39m\u001b[38;5;124m\"\u001b[39m\n\u001b[0;32m-> 1735\u001b[0m \u001b[38;5;28mself\u001b[39m\u001b[38;5;241m.\u001b[39mhandles \u001b[38;5;241m=\u001b[39m \u001b[43mget_handle\u001b[49m\u001b[43m(\u001b[49m\n\u001b[1;32m   1736\u001b[0m \u001b[43m    \u001b[49m\u001b[43mf\u001b[49m\u001b[43m,\u001b[49m\n\u001b[1;32m   1737\u001b[0m \u001b[43m    \u001b[49m\u001b[43mmode\u001b[49m\u001b[43m,\u001b[49m\n\u001b[1;32m   1738\u001b[0m \u001b[43m    \u001b[49m\u001b[43mencoding\u001b[49m\u001b[38;5;241;43m=\u001b[39;49m\u001b[38;5;28;43mself\u001b[39;49m\u001b[38;5;241;43m.\u001b[39;49m\u001b[43moptions\u001b[49m\u001b[38;5;241;43m.\u001b[39;49m\u001b[43mget\u001b[49m\u001b[43m(\u001b[49m\u001b[38;5;124;43m\"\u001b[39;49m\u001b[38;5;124;43mencoding\u001b[39;49m\u001b[38;5;124;43m\"\u001b[39;49m\u001b[43m,\u001b[49m\u001b[43m \u001b[49m\u001b[38;5;28;43;01mNone\u001b[39;49;00m\u001b[43m)\u001b[49m\u001b[43m,\u001b[49m\n\u001b[1;32m   1739\u001b[0m \u001b[43m    \u001b[49m\u001b[43mcompression\u001b[49m\u001b[38;5;241;43m=\u001b[39;49m\u001b[38;5;28;43mself\u001b[39;49m\u001b[38;5;241;43m.\u001b[39;49m\u001b[43moptions\u001b[49m\u001b[38;5;241;43m.\u001b[39;49m\u001b[43mget\u001b[49m\u001b[43m(\u001b[49m\u001b[38;5;124;43m\"\u001b[39;49m\u001b[38;5;124;43mcompression\u001b[39;49m\u001b[38;5;124;43m\"\u001b[39;49m\u001b[43m,\u001b[49m\u001b[43m \u001b[49m\u001b[38;5;28;43;01mNone\u001b[39;49;00m\u001b[43m)\u001b[49m\u001b[43m,\u001b[49m\n\u001b[1;32m   1740\u001b[0m \u001b[43m    \u001b[49m\u001b[43mmemory_map\u001b[49m\u001b[38;5;241;43m=\u001b[39;49m\u001b[38;5;28;43mself\u001b[39;49m\u001b[38;5;241;43m.\u001b[39;49m\u001b[43moptions\u001b[49m\u001b[38;5;241;43m.\u001b[39;49m\u001b[43mget\u001b[49m\u001b[43m(\u001b[49m\u001b[38;5;124;43m\"\u001b[39;49m\u001b[38;5;124;43mmemory_map\u001b[39;49m\u001b[38;5;124;43m\"\u001b[39;49m\u001b[43m,\u001b[49m\u001b[43m \u001b[49m\u001b[38;5;28;43;01mFalse\u001b[39;49;00m\u001b[43m)\u001b[49m\u001b[43m,\u001b[49m\n\u001b[1;32m   1741\u001b[0m \u001b[43m    \u001b[49m\u001b[43mis_text\u001b[49m\u001b[38;5;241;43m=\u001b[39;49m\u001b[43mis_text\u001b[49m\u001b[43m,\u001b[49m\n\u001b[1;32m   1742\u001b[0m \u001b[43m    \u001b[49m\u001b[43merrors\u001b[49m\u001b[38;5;241;43m=\u001b[39;49m\u001b[38;5;28;43mself\u001b[39;49m\u001b[38;5;241;43m.\u001b[39;49m\u001b[43moptions\u001b[49m\u001b[38;5;241;43m.\u001b[39;49m\u001b[43mget\u001b[49m\u001b[43m(\u001b[49m\u001b[38;5;124;43m\"\u001b[39;49m\u001b[38;5;124;43mencoding_errors\u001b[39;49m\u001b[38;5;124;43m\"\u001b[39;49m\u001b[43m,\u001b[49m\u001b[43m \u001b[49m\u001b[38;5;124;43m\"\u001b[39;49m\u001b[38;5;124;43mstrict\u001b[39;49m\u001b[38;5;124;43m\"\u001b[39;49m\u001b[43m)\u001b[49m\u001b[43m,\u001b[49m\n\u001b[1;32m   1743\u001b[0m \u001b[43m    \u001b[49m\u001b[43mstorage_options\u001b[49m\u001b[38;5;241;43m=\u001b[39;49m\u001b[38;5;28;43mself\u001b[39;49m\u001b[38;5;241;43m.\u001b[39;49m\u001b[43moptions\u001b[49m\u001b[38;5;241;43m.\u001b[39;49m\u001b[43mget\u001b[49m\u001b[43m(\u001b[49m\u001b[38;5;124;43m\"\u001b[39;49m\u001b[38;5;124;43mstorage_options\u001b[39;49m\u001b[38;5;124;43m\"\u001b[39;49m\u001b[43m,\u001b[49m\u001b[43m \u001b[49m\u001b[38;5;28;43;01mNone\u001b[39;49;00m\u001b[43m)\u001b[49m\u001b[43m,\u001b[49m\n\u001b[1;32m   1744\u001b[0m \u001b[43m\u001b[49m\u001b[43m)\u001b[49m\n\u001b[1;32m   1745\u001b[0m \u001b[38;5;28;01massert\u001b[39;00m \u001b[38;5;28mself\u001b[39m\u001b[38;5;241m.\u001b[39mhandles \u001b[38;5;129;01mis\u001b[39;00m \u001b[38;5;129;01mnot\u001b[39;00m \u001b[38;5;28;01mNone\u001b[39;00m\n\u001b[1;32m   1746\u001b[0m f \u001b[38;5;241m=\u001b[39m \u001b[38;5;28mself\u001b[39m\u001b[38;5;241m.\u001b[39mhandles\u001b[38;5;241m.\u001b[39mhandle\n",
      "File \u001b[0;32m~/.pyenv/versions/3.9.2/envs/machinelearning/lib/python3.9/site-packages/pandas/io/common.py:856\u001b[0m, in \u001b[0;36mget_handle\u001b[0;34m(path_or_buf, mode, encoding, compression, memory_map, is_text, errors, storage_options)\u001b[0m\n\u001b[1;32m    851\u001b[0m \u001b[38;5;28;01melif\u001b[39;00m \u001b[38;5;28misinstance\u001b[39m(handle, \u001b[38;5;28mstr\u001b[39m):\n\u001b[1;32m    852\u001b[0m     \u001b[38;5;66;03m# Check whether the filename is to be opened in binary mode.\u001b[39;00m\n\u001b[1;32m    853\u001b[0m     \u001b[38;5;66;03m# Binary mode does not support 'encoding' and 'newline'.\u001b[39;00m\n\u001b[1;32m    854\u001b[0m     \u001b[38;5;28;01mif\u001b[39;00m ioargs\u001b[38;5;241m.\u001b[39mencoding \u001b[38;5;129;01mand\u001b[39;00m \u001b[38;5;124m\"\u001b[39m\u001b[38;5;124mb\u001b[39m\u001b[38;5;124m\"\u001b[39m \u001b[38;5;129;01mnot\u001b[39;00m \u001b[38;5;129;01min\u001b[39;00m ioargs\u001b[38;5;241m.\u001b[39mmode:\n\u001b[1;32m    855\u001b[0m         \u001b[38;5;66;03m# Encoding\u001b[39;00m\n\u001b[0;32m--> 856\u001b[0m         handle \u001b[38;5;241m=\u001b[39m \u001b[38;5;28;43mopen\u001b[39;49m\u001b[43m(\u001b[49m\n\u001b[1;32m    857\u001b[0m \u001b[43m            \u001b[49m\u001b[43mhandle\u001b[49m\u001b[43m,\u001b[49m\n\u001b[1;32m    858\u001b[0m \u001b[43m            \u001b[49m\u001b[43mioargs\u001b[49m\u001b[38;5;241;43m.\u001b[39;49m\u001b[43mmode\u001b[49m\u001b[43m,\u001b[49m\n\u001b[1;32m    859\u001b[0m \u001b[43m            \u001b[49m\u001b[43mencoding\u001b[49m\u001b[38;5;241;43m=\u001b[39;49m\u001b[43mioargs\u001b[49m\u001b[38;5;241;43m.\u001b[39;49m\u001b[43mencoding\u001b[49m\u001b[43m,\u001b[49m\n\u001b[1;32m    860\u001b[0m \u001b[43m            \u001b[49m\u001b[43merrors\u001b[49m\u001b[38;5;241;43m=\u001b[39;49m\u001b[43merrors\u001b[49m\u001b[43m,\u001b[49m\n\u001b[1;32m    861\u001b[0m \u001b[43m            \u001b[49m\u001b[43mnewline\u001b[49m\u001b[38;5;241;43m=\u001b[39;49m\u001b[38;5;124;43m\"\u001b[39;49m\u001b[38;5;124;43m\"\u001b[39;49m\u001b[43m,\u001b[49m\n\u001b[1;32m    862\u001b[0m \u001b[43m        \u001b[49m\u001b[43m)\u001b[49m\n\u001b[1;32m    863\u001b[0m     \u001b[38;5;28;01melse\u001b[39;00m:\n\u001b[1;32m    864\u001b[0m         \u001b[38;5;66;03m# Binary mode\u001b[39;00m\n\u001b[1;32m    865\u001b[0m         handle \u001b[38;5;241m=\u001b[39m \u001b[38;5;28mopen\u001b[39m(handle, ioargs\u001b[38;5;241m.\u001b[39mmode)\n",
      "\u001b[0;31mFileNotFoundError\u001b[0m: [Errno 2] No such file or directory: '/media/sun/TFcard/drop_landing_workspace/results/training_testing/baseline_mlnn_v20/0rotid/1sub/5tri/metrics.csv'"
     ]
    }
   ],
   "source": [
    "# plot heatmap\n",
    "\n",
    "combination_investigation_results = [\n",
    "    os.path.join(RESULTS_PATH, \"training_testing\", \"baseline_mlnn_v11_5\",\n",
    "                str(sub_idx)+\"sub\", str(trial_idx)+\"trials\", \n",
    "                 \"testing_result_folders.txt\") for sub_idx in range(1,15,1) for trial_idx in range(5, 26,5)]\n",
    "\n",
    "combination_investigation_results =  [#combination_investigation_results +[\n",
    "    os.path.join(RESULTS_PATH, \"training_testing\", \"baseline_mlnn_v18\",str(rot_id)+'rotid', str(sub_num)+\"sub\", str(trial_num)+\"tri\",  \n",
    "                 \"testing_result_folders.txt\") for sub_num in range(1,15,1) for trial_num in range(5, 6,5) for rot_id in [0]\n",
    "]\n",
    "\n",
    "combination_investigation_results =  [#combination_investigation_results +[\n",
    "            os.path.join(RESULTS_PATH, \"training_testing\", \"baseline_mlnn_v20\",str(rot_id)+'rotid', str(sub_num)+\"sub\", str(trial_num)+\"tri\",  \n",
    "                 \"testing_result_folders.txt\") for sub_num in range(1,15,1) for trial_num in range(5, 26,5) for rot_id in [0]\n",
    "]\n",
    "\n",
    "#combination_investigation_results =  [#combination_investigation_results +[\n",
    "#            os.path.join(RESULTS_PATH, \"training_testing\", \"baseline_mlnn_kam_v20\",str(rot_id)+'rotid', str(sub_num)+\"sub\", str(trial_num)+\"tri\",  \n",
    "#                 \"testing_result_folders.txt\") for sub_num in range(1,5,1) for trial_num in range(5, 16,5) for rot_id in [0]\n",
    "#]\n",
    "\n",
    "\n",
    "\n",
    "#metrics = get_list_investigation_metrics(combination_investigation_results)\n",
    "\n",
    "\n",
    "combination_investigation_metrics = [os.path.join(os.path.dirname(folder), \"metrics.csv\") for folder in combination_investigation_results]\n",
    "metric_index='r2'\n",
    "filters={'drop_value':0.2,'sort_variable':metric_index}\n",
    "baseline_metrics = parse_list_investigation_metrics(combination_investigation_metrics,calculate_mean_subject_r2=False,**filters)\n",
    "data = baseline_metrics[['train_sub_num', 'trial_num', metric_index]].groupby(['train_sub_num','trial_num']).median().round(2).reset_index().pivot('train_sub_num','trial_num')[metric_index]\n",
    "#data = baseline_metrics[['trial_num','train_sub_num','mean_subject_r2']].groupby(['train_sub_num','trial_num']).median().round(2).reset_index().pivot('train_sub_num','trial_num')['mean_subject_r2']\n",
    "ax = sns.heatmap(data, vmin=0.5, vmax=0.95,cmap=\"RdBu_r\",center=0.8,annot=True,linewidths=0.3).invert_yaxis()\n",
    "plt.ylabel('Subject number')\n",
    "plt.xlabel('Trial number')\n",
    "save_format='svg'\n",
    "fig_path=os.path.join(RESULTS_PATH, \"visualization/P6/Fig_results_baseline_heatmap.svg\")\n",
    "#fig_path=os.path.join(\"./\",\"visualization/P6/Fig_results_baseline_heatmap.svg\")\n",
    "\n",
    "save_figure(fig_path,fig_format=save_format)\n",
    "#save_figure(os.path.dirname(combination_investigation_metrics[0]),fig_format=save_format)\n"
   ]
  },
  {
   "cell_type": "code",
   "execution_count": null,
   "id": "54698296-32c6-47a7-88e3-523df90381e5",
   "metadata": {
    "collapsed": true,
    "jupyter": {
     "outputs_hidden": true
    }
   },
   "outputs": [],
   "source": [
    "# model estimation comparison\n",
    "\n",
    "combination_investigation_results =  [#combination_investigation_results +[\n",
    "            os.path.join(RESULTS_PATH, \"training_testing\", \"baseline_mlnn_pkem_v1\",str(rot_id)+'rotid', str(sub_num)+\"sub\", str(trial_num)+\"tri\",  \n",
    "                 \"testing_result_folders.txt\") for sub_num in range(14,15,1) for trial_num in range(25, 26,5) for rot_id in [10]\n",
    "]\n",
    "\n",
    "\n",
    "#combination_investigation_results =  combination_investigation_results +[\n",
    "#            os.path.join(RESULTS_PATH, \"training_testing\", \"augmentation_pkem_v1\",str(rot_id)+'rotid', str(sub_num)+\"sub\", str(trial_num)+\"tri\",  \n",
    "#                 \"testing_result_folders.txt\") for sub_num in range(14,15,1) for trial_num in range(25, 26,5) for rot_id in [10]\n",
    "#]\n",
    "#\n",
    "#\n",
    "#combination_investigation_results =  combination_investigation_results +[\n",
    "#            os.path.join(RESULTS_PATH, \"training_testing\", \"augmentation_pkem_v1\",str(rot_id)+'rotid', str(sub_num)+\"sub\", str(trial_num)+\"tri\",  \n",
    "#                 \"testing_result_folders.txt\") for sub_num in range(14,15,1) for trial_num in range(25, 26,5) for rot_id in [5,20, 30, 40]\n",
    "#]\n",
    "#\n",
    "\n",
    "combination_investigation_results =  combination_investigation_results +[\n",
    "            os.path.join(RESULTS_PATH, \"training_testing\", \"augmentation_kem_v2\",str(rot_id)+'rotid', str(sub_num)+\"sub\", str(trial_num)+\"tri\",  \n",
    "                 \"testing_result_folders.txt\") for sub_num in range(14,15,1) for trial_num in range(25, 26,5) for rot_id in [6, 7, 8,9,10,11]\n",
    "]\n",
    "\n",
    "#metrics = get_list_investigation_metrics(combination_investigation_results)\n",
    "\n",
    "\n",
    "combination_investigation_metrics = [os.path.join(os.path.dirname(folder), \"metrics.csv\") for folder in combination_investigation_results]\n",
    "fig_path, r2 = plot_models_accuracy(combination_investigation_results,plot_params={'x':'config_name','y':'r2','hue':'model_selection'})"
   ]
  },
  {
   "cell_type": "code",
   "execution_count": null,
   "id": "decb6960-86dd-4421-af5f-cd6e088a76f1",
   "metadata": {
    "collapsed": true,
    "jupyter": {
     "outputs_hidden": true
    }
   },
   "outputs": [],
   "source": [
    "baseline_metrics.columns\n",
    "set(baseline_metrics[(baseline_metrics['train_sub_num']==5) & (baseline_metrics['trial_num']==5)].sort_values(by=['r2'])['subjects'])"
   ]
  },
  {
   "cell_type": "code",
   "execution_count": null,
   "id": "0bbcde7f-3e88-4832-a836-283418cdcb91",
   "metadata": {
    "collapsed": true,
    "jupyter": {
     "outputs_hidden": true
    }
   },
   "outputs": [],
   "source": [
    "baseline_metrics[(baseline_metrics['train_sub_num']==5) & (baseline_metrics['trial_num']==5)].sort_values(by=['r2'])#[['r2']]"
   ]
  },
  {
   "cell_type": "code",
   "execution_count": null,
   "id": "3b60bb67-b517-4def-aaef-f60d9306297d",
   "metadata": {
    "collapsed": true,
    "jupyter": {
     "outputs_hidden": true
    }
   },
   "outputs": [],
   "source": [
    "baseline_metrics[(baseline_metrics['train_sub_num']==5) & (baseline_metrics['trial_num']==5) & (baseline_metrics['subjects']=='P_08_zhangboyuan')].sort_values(by=['r2'])#[['r2']]"
   ]
  },
  {
   "cell_type": "code",
   "execution_count": null,
   "id": "0a3769c9-4665-4553-8443-c19c81f0189d",
   "metadata": {
    "collapsed": true,
    "jupyter": {
     "outputs_hidden": true
    }
   },
   "outputs": [],
   "source": [
    "baseline_metrics[(baseline_metrics['train_sub_num']>1)&(baseline_metrics['trial_num']>5)][['train_sub_num','trial_num','test_subject','r2','mean_subject_r2']].groupby(['train_sub_num','trial_num']).median()"
   ]
  },
  {
   "cell_type": "code",
   "execution_count": null,
   "id": "9c58df3c-d0d4-4c8d-9f23-982aae7a2ff2",
   "metadata": {
    "collapsed": true,
    "jupyter": {
     "outputs_hidden": true
    },
    "tags": []
   },
   "outputs": [],
   "source": [
    "# table\n",
    "\n",
    "filters={'drop_value':0.0,'sort_variable':'r2'}\n",
    "baseline_metrics = parase_list_investigation_metrics(combination_investigation_metrics,**filters)\n",
    "baseline_metrics[['trial_num','train_sub_num','r2']][aug_metrics['trial_num'].isin([25])].groupby(['train_sub_num','trial_num']).describe().round(2)['r2'][['min','50%', '75%','max']].T"
   ]
  },
  {
   "cell_type": "code",
   "execution_count": null,
   "id": "d43917e0-30af-41b0-a404-1f6bf3417005",
   "metadata": {
    "collapsed": true,
    "jupyter": {
     "outputs_hidden": true
    }
   },
   "outputs": [],
   "source": [
    "combination_investigation_metrics = [os.path.join(os.path.dirname(folder),\"metrics.csv\") for folder in combination_investigation_results]\n",
    "filters={'drop_value':0.0,'sort_variable':'r2'}\n",
    "baseline_metrics = parase_list_investigation_metrics(combination_investigation_metrics,**filters)\n",
    "baseline_metrics['subject_num'].replace({idx:idx-4 for idx in range(5,11)},inplace=True)\n",
    "\n",
    "baseline_metrics[['trial_num','subject_num','r2']][baseline_metrics['trial_num'].isin([25])].groupby(['subject_num','trial_num']).describe().round(2)['r2'][['min','50%', '75%','max']].T\n",
    "#baseline_metrics[['trial_num','subject_num','r2']].groupby(['subject_num','trial_num']).describe().round(2)['r2'][['min','50%', '75%','max']].T"
   ]
  },
  {
   "cell_type": "code",
   "execution_count": null,
   "id": "435c7fa1-e645-4ae6-a35b-99c94dd45634",
   "metadata": {
    "collapsed": true,
    "jupyter": {
     "outputs_hidden": true
    }
   },
   "outputs": [],
   "source": []
  },
  {
   "cell_type": "markdown",
   "id": "a6c19c57-8ffc-4773-bbbb-0e85c6135639",
   "metadata": {
    "tags": []
   },
   "source": [
    "## Augmentation"
   ]
  },
  {
   "cell_type": "markdown",
   "id": "f6b65be2-42e3-4fbd-8957-6b86f857ffe6",
   "metadata": {
    "tags": [],
    "toc-hr-collapsed": true
   },
   "source": [
    "### Augmentation curves"
   ]
  },
  {
   "cell_type": "code",
   "execution_count": 8,
   "id": "2404f79f-c41f-451a-8346-5b1c08ca5af0",
   "metadata": {
    "collapsed": true,
    "jupyter": {
     "outputs_hidden": true
    }
   },
   "outputs": [
    {
     "name": "stdout",
     "output_type": "stream",
     "text": [
      "provided fig_path is wrong, please give a complete path\n"
     ]
    },
    {
     "ename": "UnboundLocalError",
     "evalue": "local variable 'figPath' referenced before assignment",
     "output_type": "error",
     "traceback": [
      "\u001b[0;31m---------------------------------------------------------------------------\u001b[0m",
      "\u001b[0;31mUnboundLocalError\u001b[0m                         Traceback (most recent call last)",
      "Cell \u001b[0;32mIn[8], line 27\u001b[0m\n\u001b[1;32m      9\u001b[0m combination_investigation_results \u001b[38;5;241m=\u001b[39m  [\u001b[38;5;66;03m#combination_investigation_results +[\u001b[39;00m\n\u001b[1;32m     10\u001b[0m             os\u001b[38;5;241m.\u001b[39mpath\u001b[38;5;241m.\u001b[39mjoin(RESULTS_PATH, \u001b[38;5;124m\"\u001b[39m\u001b[38;5;124mtraining_testing\u001b[39m\u001b[38;5;124m\"\u001b[39m, \u001b[38;5;124m\"\u001b[39m\u001b[38;5;124maugmentation_dkem_v6\u001b[39m\u001b[38;5;124m\"\u001b[39m,\u001b[38;5;28mstr\u001b[39m(rot_id)\u001b[38;5;241m+\u001b[39m\u001b[38;5;124m'\u001b[39m\u001b[38;5;124mrotid\u001b[39m\u001b[38;5;124m'\u001b[39m, \u001b[38;5;28mstr\u001b[39m(sub_num)\u001b[38;5;241m+\u001b[39m\u001b[38;5;124m\"\u001b[39m\u001b[38;5;124msub\u001b[39m\u001b[38;5;124m\"\u001b[39m, \u001b[38;5;28mstr\u001b[39m(trial_num)\u001b[38;5;241m+\u001b[39m\u001b[38;5;124m\"\u001b[39m\u001b[38;5;124mtri\u001b[39m\u001b[38;5;124m\"\u001b[39m,  \n\u001b[1;32m     11\u001b[0m                  \u001b[38;5;124m\"\u001b[39m\u001b[38;5;124mtesting_result_folders.txt\u001b[39m\u001b[38;5;124m\"\u001b[39m) \u001b[38;5;28;01mfor\u001b[39;00m sub_num \u001b[38;5;129;01min\u001b[39;00m \u001b[38;5;28mrange\u001b[39m(\u001b[38;5;241m14\u001b[39m,\u001b[38;5;241m15\u001b[39m,\u001b[38;5;241m1\u001b[39m) \u001b[38;5;28;01mfor\u001b[39;00m trial_num \u001b[38;5;129;01min\u001b[39;00m \u001b[38;5;28mrange\u001b[39m(\u001b[38;5;241m25\u001b[39m, \u001b[38;5;241m26\u001b[39m,\u001b[38;5;241m5\u001b[39m) \u001b[38;5;28;01mfor\u001b[39;00m rot_id \u001b[38;5;129;01min\u001b[39;00m [\u001b[38;5;241m180\u001b[39m]\n\u001b[1;32m     12\u001b[0m ]\n\u001b[1;32m     14\u001b[0m config \u001b[38;5;241m=\u001b[39m {\n\u001b[1;32m     15\u001b[0m   \u001b[38;5;124m'\u001b[39m\u001b[38;5;124mxticks\u001b[39m\u001b[38;5;124m'\u001b[39m:[\u001b[38;5;241m0.0\u001b[39m, \u001b[38;5;241m0.1\u001b[39m, \u001b[38;5;241m0.2\u001b[39m, \u001b[38;5;241m0.3\u001b[39m, \u001b[38;5;241m0.4\u001b[39m, \u001b[38;5;241m0.5\u001b[39m, \u001b[38;5;241m0.6\u001b[39m, \u001b[38;5;241m0.7\u001b[39m, \u001b[38;5;241m0.8\u001b[39m],\n\u001b[1;32m     16\u001b[0m   \u001b[38;5;124m'\u001b[39m\u001b[38;5;124myticks\u001b[39m\u001b[38;5;124m'\u001b[39m:[\u001b[38;5;241m-\u001b[39m\u001b[38;5;241m1.0\u001b[39m, \u001b[38;5;241m-\u001b[39m\u001b[38;5;241m0.5\u001b[39m, \u001b[38;5;241m0.0\u001b[39m, \u001b[38;5;241m0.5\u001b[39m, \u001b[38;5;241m1.0\u001b[39m, \u001b[38;5;241m1.5\u001b[39m, \u001b[38;5;241m2.0\u001b[39m, \u001b[38;5;241m2.5\u001b[39m, \u001b[38;5;241m3.0\u001b[39m],\n\u001b[0;32m   (...)\u001b[0m\n\u001b[1;32m     24\u001b[0m     \u001b[38;5;124m'\u001b[39m\u001b[38;5;124msave_format\u001b[39m\u001b[38;5;124m'\u001b[39m: \u001b[38;5;124m'\u001b[39m\u001b[38;5;124m.svg\u001b[39m\u001b[38;5;124m'\u001b[39m\n\u001b[1;32m     25\u001b[0m }\n\u001b[0;32m---> 27\u001b[0m figpath, multi_model_results \u001b[38;5;241m=\u001b[39m \u001b[43mp6plot_statistic_actual_estimation_curves\u001b[49m\u001b[43m(\u001b[49m\u001b[43mcombination_investigation_results\u001b[49m\u001b[43m,\u001b[49m\u001b[43m \u001b[49m\u001b[43mcol_wrap\u001b[49m\u001b[38;5;241;43m=\u001b[39;49m\u001b[38;5;241;43m2\u001b[39;49m\u001b[43m,\u001b[49m\u001b[43m \u001b[49m\u001b[38;5;241;43m*\u001b[39;49m\u001b[38;5;241;43m*\u001b[39;49m\u001b[43mconfig\u001b[49m\u001b[43m)\u001b[49m\n",
      "File \u001b[0;32m~/workspace/DataAnalysis/P6/transfer_learning_for_droplanding/jupyter-lab/./../assessments/visualization.py:1132\u001b[0m, in \u001b[0;36mp6plot_statistic_actual_estimation_curves\u001b[0;34m(list_training_testing_folders, list_selections, figsize, col_wrap, save_fig, save_folder_index, save_format, title, font_scale, **kwargs)\u001b[0m\n\u001b[1;32m   1130\u001b[0m \u001b[38;5;28;01mif\u001b[39;00m(save_fig):\n\u001b[1;32m   1131\u001b[0m     \u001b[38;5;28;01mif\u001b[39;00m(\u001b[38;5;124m'\u001b[39m\u001b[38;5;124mfig_path\u001b[39m\u001b[38;5;124m'\u001b[39m \u001b[38;5;129;01min\u001b[39;00m kwargs\u001b[38;5;241m.\u001b[39mkeys()):\n\u001b[0;32m-> 1132\u001b[0m         fig_results \u001b[38;5;241m=\u001b[39m \u001b[43msave_figure\u001b[49m\u001b[43m(\u001b[49m\u001b[43mos\u001b[49m\u001b[38;5;241;43m.\u001b[39;49m\u001b[43mpath\u001b[49m\u001b[38;5;241;43m.\u001b[39;49m\u001b[43mdirname\u001b[49m\u001b[43m(\u001b[49m\u001b[43mlist_training_testing_folders\u001b[49m\u001b[43m[\u001b[49m\u001b[43msave_folder_index\u001b[49m\u001b[43m]\u001b[49m\u001b[43m)\u001b[49m\u001b[43m,\u001b[49m\u001b[43mfig_path\u001b[49m\u001b[38;5;241;43m=\u001b[39;49m\u001b[43mkwargs\u001b[49m\u001b[43m[\u001b[49m\u001b[38;5;124;43m'\u001b[39;49m\u001b[38;5;124;43mfig_path\u001b[39;49m\u001b[38;5;124;43m'\u001b[39;49m\u001b[43m]\u001b[49m\u001b[43m,\u001b[49m\u001b[43mfig_name\u001b[49m\u001b[38;5;241;43m=\u001b[39;49m\u001b[43mtitle\u001b[49m\u001b[43m,\u001b[49m\u001b[43mfig_format\u001b[49m\u001b[38;5;241;43m=\u001b[39;49m\u001b[43msave_format\u001b[49m\u001b[43m)\u001b[49m\n\u001b[1;32m   1133\u001b[0m     \u001b[38;5;28;01melse\u001b[39;00m:\n\u001b[1;32m   1134\u001b[0m         fig_results \u001b[38;5;241m=\u001b[39m save_figure(os\u001b[38;5;241m.\u001b[39mpath\u001b[38;5;241m.\u001b[39mdirname(list_training_testing_folders[save_folder_index]),fig_name\u001b[38;5;241m=\u001b[39mtitle,fig_format\u001b[38;5;241m=\u001b[39msave_format)\n",
      "File \u001b[0;32m~/workspace/DataAnalysis/P6/transfer_learning_for_droplanding/assessments/./../../../CRCF/plot_utilities.py:44\u001b[0m, in \u001b[0;36msave_figure\u001b[0;34m(fig_data_folder, fig_name, fig_path, fig_format)\u001b[0m\n\u001b[1;32m     42\u001b[0m     \u001b[38;5;28;01melse\u001b[39;00m:\n\u001b[1;32m     43\u001b[0m         \u001b[38;5;28mprint\u001b[39m(\u001b[38;5;124m'\u001b[39m\u001b[38;5;124mprovided fig_path is wrong, please give a complete path\u001b[39m\u001b[38;5;124m'\u001b[39m)\n\u001b[0;32m---> 44\u001b[0m plt\u001b[38;5;241m.\u001b[39msavefig(\u001b[43mfigPath\u001b[49m)\n\u001b[1;32m     45\u001b[0m plt\u001b[38;5;241m.\u001b[39mshow()\n\u001b[1;32m     47\u001b[0m \u001b[38;5;28;01mreturn\u001b[39;00m figPath\n",
      "\u001b[0;31mUnboundLocalError\u001b[0m: local variable 'figPath' referenced before assignment"
     ]
    },
    {
     "data": {
      "image/png": "[encoded data removed]",
      "text/plain": [
       "<Figure size 800x300 with 2 Axes>"
      ]
     },
     "metadata": {},
     "output_type": "display_data"
    }
   ],
   "source": [
    "# Plot estimation results of augmentation\n",
    "\n",
    "\n",
    "combination_investigation_results = [\n",
    "    #os.path.join(RESULTS_PATH, \"training_testing\",\"augmenation_v11_5\",str(train_sub_num)+\"sub\",str(trial_num)+\"trials\",\"testing_result_folders.txt\") for train_sub_num in [1,14] for trial_num in [25]\n",
    "    os.path.join(RESULTS_PATH, \"training_testing\",\"augmenation_v15\", str(train_sub_num)+\"sub\",str(trial_num)+\"trials\",\"testing_result_folders.txt\") for train_sub_num in [1,14] for trial_num in [25]\n",
    "                                    ]\n",
    "\n",
    "combination_investigation_results =  [#combination_investigation_results +[\n",
    "            os.path.join(RESULTS_PATH, \"training_testing\", \"augmentation_dkem_v6\",str(rot_id)+'rotid', str(sub_num)+\"sub\", str(trial_num)+\"tri\",  \n",
    "                 \"testing_result_folders.txt\") for sub_num in range(14,15,1) for trial_num in range(25, 26,5) for rot_id in [180]\n",
    "]\n",
    "\n",
    "config = {\n",
    "  'xticks':[0.0, 0.1, 0.2, 0.3, 0.4, 0.5, 0.6, 0.7, 0.8],\n",
    "  'yticks':[-1.0, -0.5, 0.0, 0.5, 1.0, 1.5, 2.0, 2.5, 3.0],\n",
    " 'ylim':[-1.0, 3.0],\n",
    "  'figsize': (8,3),\n",
    "  'ylabels': 5*['Normalized KFM'],\n",
    "   'titles': ['A subject with five trials', '14 subjects with 25 trials'],\n",
    "  'font_scale':1.0, \n",
    "   'save_fig': True,\n",
    "    'fig_path': os.path.join(RESULTS_PATH,\"training_testing/visualization/P6\",\"Fig_results_augmentation_curves.svg\"),\n",
    "    'save_format': '.svg'\n",
    "}\n",
    "\n",
    "figpath, multi_model_results = p6plot_statistic_actual_estimation_curves(combination_investigation_results, col_wrap=2, **config)"
   ]
  },
  {
   "cell_type": "markdown",
   "id": "62e09742-634c-42ce-a724-596f227f4b99",
   "metadata": {},
   "source": [
    "### Augmentation heatmap"
   ]
  },
  {
   "cell_type": "code",
   "execution_count": 5,
   "id": "a8ed76b4-d1ab-4a69-a95e-a78b5d740626",
   "metadata": {
    "collapsed": true,
    "jupyter": {
     "outputs_hidden": true
    },
    "tags": []
   },
   "outputs": [
    {
     "name": "stdout",
     "output_type": "stream",
     "text": [
      "/media/suntao/DATA/drop_landing_workspace/results/training_testing/augmentation_dkem_v6/180rotid/14sub/25tri/testing_result_folders.txt\n",
      "/media/suntao/DATA/drop_landing_workspace/results/training_testing/augmentation_dkem_v6/180rotid/14sub/25tri/metrics.csv\n",
      "DROP R2 cases below :0.2\n",
      "provided fig_path is wrong, please give a complete path\n"
     ]
    },
    {
     "name": "stderr",
     "output_type": "stream",
     "text": [
      "/tmp/ipykernel_44116/3652970570.py:25: FutureWarning: In a future version of pandas all arguments of DataFrame.pivot will be keyword-only.\n",
      "  data = aug_metrics[['train_sub_num', 'trial_num', metric_index]].groupby(['train_sub_num','trial_num']).median().round(2).reset_index().pivot('train_sub_num','trial_num')[metric_index]\n"
     ]
    },
    {
     "ename": "UnboundLocalError",
     "evalue": "local variable 'figPath' referenced before assignment",
     "output_type": "error",
     "traceback": [
      "\u001b[0;31m---------------------------------------------------------------------------\u001b[0m",
      "\u001b[0;31mUnboundLocalError\u001b[0m                         Traceback (most recent call last)",
      "Cell \u001b[0;32mIn[5], line 31\u001b[0m\n\u001b[1;32m     29\u001b[0m save_format\u001b[38;5;241m=\u001b[39m\u001b[38;5;124m'\u001b[39m\u001b[38;5;124msvg\u001b[39m\u001b[38;5;124m'\u001b[39m\n\u001b[1;32m     30\u001b[0m fig_path \u001b[38;5;241m=\u001b[39m os\u001b[38;5;241m.\u001b[39mpath\u001b[38;5;241m.\u001b[39mjoin(RESULTS_PATH, \u001b[38;5;124m\"\u001b[39m\u001b[38;5;124mvisualization/P6/Fig_results_augmentation_heatmap.svg\u001b[39m\u001b[38;5;124m\"\u001b[39m)\n\u001b[0;32m---> 31\u001b[0m \u001b[43msave_figure\u001b[49m\u001b[43m(\u001b[49m\u001b[38;5;124;43m\"\u001b[39;49m\u001b[38;5;124;43m\"\u001b[39;49m\u001b[43m,\u001b[49m\u001b[43mfig_path\u001b[49m\u001b[38;5;241;43m=\u001b[39;49m\u001b[43mfig_path\u001b[49m\u001b[43m,\u001b[49m\u001b[43mfig_format\u001b[49m\u001b[38;5;241;43m=\u001b[39;49m\u001b[43msave_format\u001b[49m\u001b[43m)\u001b[49m\n",
      "File \u001b[0;32m~/workspace/DataAnalysis/P6/transfer_learning_for_droplanding/assessments/./../../../CRCF/plot_utilities.py:44\u001b[0m, in \u001b[0;36msave_figure\u001b[0;34m(fig_data_folder, fig_name, fig_path, fig_format)\u001b[0m\n\u001b[1;32m     42\u001b[0m     \u001b[38;5;28;01melse\u001b[39;00m:\n\u001b[1;32m     43\u001b[0m         \u001b[38;5;28mprint\u001b[39m(\u001b[38;5;124m'\u001b[39m\u001b[38;5;124mprovided fig_path is wrong, please give a complete path\u001b[39m\u001b[38;5;124m'\u001b[39m)\n\u001b[0;32m---> 44\u001b[0m plt\u001b[38;5;241m.\u001b[39msavefig(\u001b[43mfigPath\u001b[49m)\n\u001b[1;32m     45\u001b[0m plt\u001b[38;5;241m.\u001b[39mshow()\n\u001b[1;32m     47\u001b[0m \u001b[38;5;28;01mreturn\u001b[39;00m figPath\n",
      "\u001b[0;31mUnboundLocalError\u001b[0m: local variable 'figPath' referenced before assignment"
     ]
    },
    {
     "data": {
      "image/png": "[encoded data removed]",
      "text/plain": [
       "<Figure size 640x480 with 2 Axes>"
      ]
     },
     "metadata": {},
     "output_type": "display_data"
    }
   ],
   "source": [
    "# imu augmentation\n",
    "combination_investigation_results = [ \n",
    "    os.path.join(RESULTS_PATH, \"training_testing\",\"augmentation_v11_5\", str(train_sub_num)+\"sub\", str(trial_num)+\"trials\",\n",
    "                 \"testing_result_folders.txt\") for train_sub_num in range(1,15,1) for trial_num in range(5,26,5)]\n",
    "\n",
    "\n",
    "combination_investigation_results =  [#combination_investigation_results +[\n",
    "            os.path.join(RESULTS_PATH, \"training_testing\", \"augmentation_kem_v3\",str(rot_id)+'rotid', str(sub_num)+\"sub\", str(trial_num)+\"tri\",  \n",
    "                 \"testing_result_folders.txt\") for sub_num in range(2,15,1) for trial_num in range(25, 26,5) for rot_id in [6]\n",
    "]\n",
    "\n",
    "combination_investigation_results =  [#combination_investigation_results +[\n",
    "            os.path.join(RESULTS_PATH, \"training_testing\", \"augmentation_dkem_v6\",str(rot_id)+'rotid', str(sub_num)+\"sub\", str(trial_num)+\"tri\",  \n",
    "                 \"testing_result_folders.txt\") for sub_num in range(14,15,1) for trial_num in range(25, 26,5) for rot_id in [180]\n",
    "]\n",
    "\n",
    "metrics = get_list_investigation_metrics(combination_investigation_results)\n",
    "\n",
    "combination_investigation_metrics = [os.path.join(os.path.dirname(folder), \"metrics.csv\") for folder in combination_investigation_results]\n",
    "metric_index='r2'\n",
    "filters={'drop_value':0.2,'sort_variable':metric_index}\n",
    "aug_metrics = parse_list_investigation_metrics(combination_investigation_metrics,**filters)\n",
    "#aug_metrics['subject_num'].replace({idx:idx-4 for idx in range(5,11)},inplace=True)\n",
    "\n",
    "data = aug_metrics[['train_sub_num', 'trial_num', metric_index]].groupby(['train_sub_num','trial_num']).median().round(2).reset_index().pivot('train_sub_num','trial_num')[metric_index]\n",
    "ax = sns.heatmap(data, vmin=0.5, vmax=0.95,cmap=\"RdBu_r\",center=0.8,annot=True,linewidths=0.3).invert_yaxis()\n",
    "plt.ylabel('Subject number')\n",
    "plt.xlabel('Trial number')\n",
    "save_format='svg'\n",
    "fig_path = os.path.join(RESULTS_PATH, \"visualization/P6/Fig_results_augmentation_heatmap.svg\")\n",
    "save_figure(\"\",fig_path=fig_path,fig_format=save_format)\n",
    "\n"
   ]
  },
  {
   "cell_type": "code",
   "execution_count": 6,
   "id": "dc592691-c8d5-4730-aa14-ece283973e4d",
   "metadata": {
    "collapsed": true,
    "jupyter": {
     "outputs_hidden": true
    }
   },
   "outputs": [
    {
     "ename": "NameError",
     "evalue": "name 'parase_list_investigation_metrics' is not defined",
     "output_type": "error",
     "traceback": [
      "\u001b[0;31m---------------------------------------------------------------------------\u001b[0m",
      "\u001b[0;31mNameError\u001b[0m                                 Traceback (most recent call last)",
      "Cell \u001b[0;32mIn[6], line 11\u001b[0m\n\u001b[1;32m      8\u001b[0m filters\u001b[38;5;241m=\u001b[39m{\u001b[38;5;124m'\u001b[39m\u001b[38;5;124mdrop_value\u001b[39m\u001b[38;5;124m'\u001b[39m:\u001b[38;5;241m0.0\u001b[39m,\u001b[38;5;124m'\u001b[39m\u001b[38;5;124msort_variable\u001b[39m\u001b[38;5;124m'\u001b[39m:\u001b[38;5;124m'\u001b[39m\u001b[38;5;124mr2\u001b[39m\u001b[38;5;124m'\u001b[39m}\n\u001b[1;32m      9\u001b[0m \u001b[38;5;66;03m#filters={}\u001b[39;00m\n\u001b[0;32m---> 11\u001b[0m aug_metrics \u001b[38;5;241m=\u001b[39m \u001b[43mparase_list_investigation_metrics\u001b[49m(combination_investigation_metrics,\u001b[38;5;241m*\u001b[39m\u001b[38;5;241m*\u001b[39mfilters)\n",
      "\u001b[0;31mNameError\u001b[0m: name 'parase_list_investigation_metrics' is not defined"
     ]
    }
   ],
   "source": [
    "\n",
    "combination_investigation_results = [\n",
    "    os.path.join(RESULTS_PATH, \"training_testing\",\"investigation_imu_augment_v2\",str(trial_idx)+\"trials\",str(sub_idx)+\"sub\",\"testing_result_folders.txt\") for sub_idx in range(1,15,1) for trial_idx in range(5,6,5)\n",
    "]\n",
    "\n",
    "#metrics = get_list_investigation_metrics(combination_investigation_results)\n",
    "\n",
    "combination_investigation_metrics = [os.path.join(os.path.dirname(folder),\"metrics.csv\") for folder in combination_investigation_results]\n",
    "filters={'drop_value':0.0,'sort_variable':'r2'}\n",
    "#filters={}\n",
    "\n",
    "aug_metrics = parase_list_investigation_metrics(combination_investigation_metrics,**filters)"
   ]
  },
  {
   "cell_type": "code",
   "execution_count": null,
   "id": "1bc03e2c-c9b3-456d-b843-94ce75557fa8",
   "metadata": {
    "collapsed": true,
    "jupyter": {
     "outputs_hidden": true
    }
   },
   "outputs": [],
   "source": [
    "aug_metrics[['test_subject','child_test_id','r2','subject_num']].groupby(['test_subject', 'subject_num']).mean().round(2).to_csv('ss.csv')"
   ]
  },
  {
   "cell_type": "code",
   "execution_count": null,
   "id": "8ff53c73-51e4-40f4-9799-ab784c3b602b",
   "metadata": {
    "collapsed": true,
    "jupyter": {
     "outputs_hidden": true
    }
   },
   "outputs": [],
   "source": [
    "aug_metrics.head()"
   ]
  },
  {
   "cell_type": "code",
   "execution_count": null,
   "id": "86e3c12e-06e7-447c-a0f2-dcfffcdfb3a4",
   "metadata": {
    "collapsed": true,
    "jupyter": {
     "outputs_hidden": true
    }
   },
   "outputs": [],
   "source": [
    "# table\n",
    "\n",
    "filters={'drop_value':0.0,'sort_variable':'r2'}\n",
    "aug_metrics = parase_list_investigation_metrics(combination_investigation_metrics,**filters)\n",
    "aug_metrics[['trial_num','subject_num','r2']][aug_metrics['trial_num'].isin([25])].groupby(['subject_num','trial_num']).describe().round(2)['r2'][['min','50%', '75%','max']].T"
   ]
  },
  {
   "cell_type": "markdown",
   "id": "290a2082-5152-4c24-9c85-63e9a327a42b",
   "metadata": {
    "tags": []
   },
   "source": [
    "## Comparsion"
   ]
  },
  {
   "cell_type": "code",
   "execution_count": null,
   "id": "b4e491ba-3c65-44dd-8f6f-b4ecc8fb811e",
   "metadata": {
    "collapsed": true,
    "jupyter": {
     "outputs_hidden": true
    }
   },
   "outputs": [],
   "source": [
    "# compare baseline and imu augmentation\n",
    "combination_investigation_results = [\n",
    "    os.path.join(RESULTS_PATH, \"training_testing\",\"baseline_mlnn_v11_5\",\n",
    "                 str(train_sub_num)+\"sub\",str(trial_num)+\"trials\",\n",
    "                 \"testing_result_folders.txt\") for train_sub_num in range(1,15,1) for trial_num in range(25,26,5)\n",
    "                                    ]+ [\n",
    "    os.path.join(RESULTS_PATH, \"training_testing\",\"augmentation_v11_5\",\n",
    "                 str(train_sub_num)+\"sub\",str(trial_num)+\"trials\",\n",
    "                 \"testing_result_folders.txt\") for train_sub_num in range(1,15,1) for trial_num in range(25,26,5)\n",
    "                                    ]\n",
    "\n",
    "\n",
    "combination_investigation_results =  [#combination_investigation_results +[\n",
    "            os.path.join(RESULTS_PATH, \"training_testing\", \"baseline_mlnn_v20\",str(rot_id)+'rotid', str(sub_num)+\"sub\", str(trial_num)+\"tri\",  \n",
    "                 \"testing_result_folders.txt\") for sub_num in range(1,15,1) for trial_num in range(5, 26,5) for rot_id in [0]\n",
    "                        ]+[#combination_investigation_results +[\n",
    "            os.path.join(RESULTS_PATH, \"training_testing\", \"augmentation_kem_v3\",str(rot_id)+'rotid', str(sub_num)+\"sub\", str(trial_num)+\"tri\",  \n",
    "                 \"testing_result_folders.txt\") for sub_num in range(2,15,1) for trial_num in range(25, 26,5) for rot_id in [6]\n",
    "]\n",
    "\n",
    "\n",
    "#metrics = get_list_investigation_metrics(combination_investigation_results)\n",
    "combination_investigation_metrics = [os.path.join(os.path.dirname(folder),\"metrics.csv\") for folder in combination_investigation_results]\n",
    "\n",
    "#subs = list(set(metrics['alias_name']))\n",
    "#replace_values = {sub: int(sub.split('v')[1])-1 for sub in subs}\n",
    "replace_values = {}\n",
    "replace_values.update({'baseline': 'Baseline', 'finetuning': 'Fine-tuning', 'imu_augment': 'IMU augmentation', 'Normal_DANN': 'DANN', 'DANN': 'TDANN', 'Aug_DANN': 'ADANN'})\n",
    "replace_values.update({'baseline_mlnn': 'Measured dataset', 'finetuning': 'Fine-tuning', 'augmentation': 'Augmented dataset', 'Normal_DANN': 'DANN', 'DANN': 'TDANN', 'Aug_DANN': 'ADANN'})\n",
    "print(replace_values)\n",
    "replace_columns = {'train_sub_num': 'Train subject number', 'trial_num': 'Trial number', 'model_selection':'Dataset'}\n",
    "test_pairs =(\n",
    "            [(1,'Measured dataset'), (1,'Augmented dataset')],\n",
    "            [(2,'Measured dataset'), (2,'Augmented dataset')],\n",
    "            [(3,'Measured dataset'), (3,'Augmented dataset')],\n",
    "            [(4,'Measured dataset'), (4,'Augmented dataset')],\n",
    "            [(5,'Measured dataset'), (5,'Augmented dataset')],\n",
    "            [(6,'Measured dataset'), (6,'Augmented dataset')],\n",
    "            [(7,'Measured dataset'), (7,'Augmented dataset')],\n",
    "            [(8,'Measured dataset'), (8,'Augmented dataset')],\n",
    "            [(9,'Measured dataset'), (9,'Augmented dataset')],\n",
    "            [(10,'Measured dataset'), (10,'Augmented dataset')],\n",
    "            [(11,'Measured dataset'), (11,'Augmented dataset')],\n",
    "            [(12,'Measured dataset'), (12,'Augmented dataset')],\n",
    "            [(13,'Measured dataset'), (13,'Augmented dataset')],\n",
    "            [(14,'Measured dataset'), (14,'Augmented dataset')],\n",
    "            )\n",
    "\n",
    "\n",
    "plot_config={\n",
    "        \"save_fig\": True, \"save_format\":\"jpg\", \"save_folder_index\": 0,\n",
    "         'figsize':(8, 5),\n",
    "         \"hue\": 'Dataset',\n",
    "        'replace_values': replace_values,\n",
    "        'replace_columns': replace_columns,\n",
    "        'x': 'Train subject number',\n",
    "        #'y': 'mean_subject_r2',\n",
    "        'y': 'r2',\n",
    "        'title': 'baseline',\n",
    "        'yticks': ( 0.7, 0.8, 0.9, 1.0),\n",
    "        #'plot_title': 'baseline',\n",
    "    'filters': {'drop_value':0.0,'sort_variable':'r2'},\n",
    "    'font_scale': 1.0,\n",
    "    'plot_type': 'barplot',\n",
    "    'ttest':True,\n",
    "    'fig_path': os.path.join(RESULTS_PATH, \"visualization/P6/Fig_results_comparison_v2.svg\"),\n",
    "    'test_pairs':test_pairs\n",
    "    }\n",
    "\n",
    "filters={'drop_value':0.0,'sort_variable':'r2'}\n",
    "p6plot_model_accuracy(combination_investigation_metrics, **plot_config)"
   ]
  },
  {
   "cell_type": "markdown",
   "id": "be0e0380-c824-4a8d-b74c-70c6fab397d2",
   "metadata": {
    "tags": []
   },
   "source": [
    "## Explore augmentation parameters"
   ]
  },
  {
   "cell_type": "code",
   "execution_count": 4,
   "id": "d0b13814-8b14-4420-bded-ae3c9dc171b0",
   "metadata": {
    "collapsed": true,
    "jupyter": {
     "outputs_hidden": true
    }
   },
   "outputs": [
    {
     "name": "stdout",
     "output_type": "stream",
     "text": [
      "/media/sun/TFcard/drop_landing_workspace/results/training_testing/baseline_mlnn_v17/0rotid/15sub/25tri/testing_result_folders.txt\n",
      "/media/sun/TFcard/drop_landing_workspace/results/training_testing/augmentation_v16/10rotid/15sub/25tri/testing_result_folders.txt\n",
      "/media/sun/TFcard/drop_landing_workspace/results/training_testing/augmentation_v16/30rotid/15sub/25tri/testing_result_folders.txt\n",
      "/media/sun/TFcard/drop_landing_workspace/results/training_testing/augmentation_v17/50rotid/15sub/25tri/testing_result_folders.txt\n",
      "/media/sun/TFcard/drop_landing_workspace/results/training_testing/augmentation_v17/70rotid/15sub/25tri/testing_result_folders.txt\n",
      "/media/sun/TFcard/drop_landing_workspace/results/training_testing/augmentation_v17/90rotid/15sub/25tri/testing_result_folders.txt\n",
      "/media/sun/TFcard/drop_landing_workspace/results/training_testing/augmentation_v17/110rotid/15sub/25tri/testing_result_folders.txt\n",
      "/media/sun/TFcard/drop_landing_workspace/results/training_testing/augmentation_v17/130rotid/15sub/25tri/testing_result_folders.txt\n",
      "/media/sun/TFcard/drop_landing_workspace/results/training_testing/augmentation_v17/150rotid/15sub/25tri/testing_result_folders.txt\n",
      "/media/sun/TFcard/drop_landing_workspace/results/training_testing/augmentation_v17/170rotid/15sub/25tri/testing_result_folders.txt\n"
     ]
    }
   ],
   "source": [
    "combination_investigation_results = [\n",
    "    os.path.join(RESULTS_PATH, \"training_testing\", \"baseline_mlnn_v17\",str(rot_id)+'rotid', str(sub_num)+\"sub\", str(trial_num)+\"tri\",  \n",
    "                 \"testing_result_folders.txt\") for sub_num in range(15,16,1) for trial_num in range(25, 26,5) for rot_id in [0]\n",
    "    ]+[\n",
    "    os.path.join(RESULTS_PATH, \"training_testing\", \"augmentation_v16\",str(rot_id)+'rotid', str(sub_num)+\"sub\", str(trial_num)+\"tri\",  \n",
    "                 \"testing_result_folders.txt\") for sub_num in range(15,16,1) for trial_num in range(25, 26,5) for rot_id in [10,30]\n",
    "    ]+[\n",
    "    os.path.join(RESULTS_PATH, \"training_testing\", \"augmentation_v17\",str(rot_id)+'rotid', str(sub_num)+\"sub\", str(trial_num)+\"tri\",  \n",
    "                 \"testing_result_folders.txt\") for sub_num in range(15,16,1) for trial_num in range(25, 26,5) for rot_id in [50, 70, 90, 110, 130, 150, 170]\n",
    "    ]\n",
    "\n",
    "metrics = get_list_investigation_metrics(combination_investigation_results)"
   ]
  },
  {
   "cell_type": "code",
   "execution_count": null,
   "id": "d1b2a2e0-10a9-4a9f-a97f-bc095b2224ba",
   "metadata": {
    "collapsed": true,
    "jupyter": {
     "outputs_hidden": true
    }
   },
   "outputs": [],
   "source": [
    "#metrics['r2']=metrics['r2'].astype(float)\n",
    "#sns.barplot(data=metrics, x='config_name',y='r2')\n",
    "#plt.grid()\n",
    "\n",
    "combination_investigation_metrics = [os.path.join(os.path.dirname(folder), \"metrics.csv\") for folder in combination_investigation_results]\n",
    "\n",
    "fig_path, r2 = plot_models_accuracy(combination_investigation_results,plot_params={'x':'config_name','y':'r2', 'hue':'train_sub_num'})"
   ]
  },
  {
   "cell_type": "code",
   "execution_count": null,
   "id": "a7857f8c-b576-4bf5-8ffd-066991099cec",
   "metadata": {
    "collapsed": true,
    "jupyter": {
     "outputs_hidden": true
    }
   },
   "outputs": [],
   "source": [
    "%run visualization"
   ]
  },
  {
   "cell_type": "markdown",
   "id": "7faa5c4a-2ded-44a6-aed3-71f30146c8c9",
   "metadata": {},
   "source": [
    "# Compare different models"
   ]
  },
  {
   "cell_type": "markdown",
   "id": "5f2b8158-e69b-4f87-9f40-0a7b8d24e4e3",
   "metadata": {},
   "source": [
    "## Load result data"
   ]
  },
  {
   "cell_type": "code",
   "execution_count": 2,
   "id": "ec5b7a9a-ee65-4ea1-bc01-2b50a2595fa3",
   "metadata": {},
   "outputs": [
    {
     "name": "stdout",
     "output_type": "stream",
     "text": [
      "['rdouble_leg_v1_baseline_transformer_4_original_14_20_5_R_GRF_Z_test_model', 'rdouble_leg_v1_baseline_transformer_4_original_14_20_5_R_GRF_Z_test_model', 'rdouble_leg_v1_baseline_cnn_4_original_14_20_5_R_GRF_Z_test_model', 'rdouble_leg_v1_baseline_fc_4_original_14_20_5_R_GRF_Z_test_model', 'rdouble_leg_v1_baseline_lstm_4_original_14_20_5_R_GRF_Z_test_model']\n"
     ]
    }
   ],
   "source": [
    "# 1) load result path list\n",
    "result_folders_name = read_result_folder_file(\"test_cases_1.txt\")\n",
    "#result_folders = read_result_folder_file(\"da_e_rotation.txt\")\n",
    "print(result_folders_name)\n",
    "result_count_files = [os.path.join(RESULTS_PATH, \"training_testing\", result_folder,\"testing_result_folders.txt\")\n",
    "                                   for result_folder in result_folders_name]\n",
    "\n",
    "# 2) get testing metrics\n",
    "metrics_files = [os.path.join(os.path.dirname(folder), \"metrics.csv\") if(os.path.exists(os.path.join(os.path.dirname(folder), \"metrics.csv\"))) else folder for folder in result_count_files]\n",
    "#print(combination_investigation_results)\n",
    "\n",
    "# 3) collected or read or load metrics\n",
    "if False:\n",
    "    # load new metrics\n",
    "    raw_metrics = get_list_investigation_metrics(result_count_files)\n",
    "    # save the new metrics\n",
    "    raw_metrics.to_csv('./raw_metrics.csv')\n",
    "else:\n",
    "    # load old metrics\n",
    "    raw_metrics = pd.read_csv('./raw_metrics.csv')"
   ]
  },
  {
   "cell_type": "markdown",
   "id": "992e70a1-5b0c-401a-8162-ca60d0975f97",
   "metadata": {},
   "source": [
    "## Plot R2 of different models"
   ]
  },
  {
   "cell_type": "code",
   "execution_count": 6,
   "id": "d56cfc7b-0b13-474f-8d16-6f64a30b5131",
   "metadata": {},
   "outputs": [
    {
     "name": "stdout",
     "output_type": "stream",
     "text": [
      "$DROP R^2 cases below :0.4$\n",
      "> \u001b[0;32m/tmp/ipykernel_34959/3545447641.py\u001b[0m(17)\u001b[0;36mp6_plot_heatmap\u001b[0;34m()\u001b[0m\n",
      "\u001b[0;32m     15 \u001b[0;31m    \u001b[0mpdb\u001b[0m\u001b[0;34m.\u001b[0m\u001b[0mset_trace\u001b[0m\u001b[0;34m(\u001b[0m\u001b[0;34m)\u001b[0m\u001b[0;34m\u001b[0m\u001b[0;34m\u001b[0m\u001b[0m\n",
      "\u001b[0m\u001b[0;32m     16 \u001b[0;31m    \u001b[0;31m#metrics[varx].replace({idx:idx-4 for idx in range(5,len(combination_investigation_results)+1)},inplace=True)\u001b[0m\u001b[0;34m\u001b[0m\u001b[0;34m\u001b[0m\u001b[0m\n",
      "\u001b[0m\u001b[0;32m---> 17 \u001b[0;31m    \u001b[0mdata\u001b[0m \u001b[0;34m=\u001b[0m \u001b[0mmetrics\u001b[0m\u001b[0;34m[\u001b[0m\u001b[0;34m[\u001b[0m\u001b[0mvary\u001b[0m\u001b[0;34m,\u001b[0m\u001b[0mvarx\u001b[0m\u001b[0;34m,\u001b[0m\u001b[0mvalue\u001b[0m\u001b[0;34m]\u001b[0m\u001b[0;34m]\u001b[0m\u001b[0;34m.\u001b[0m\u001b[0mgroupby\u001b[0m\u001b[0;34m(\u001b[0m\u001b[0;34m[\u001b[0m\u001b[0mvarx\u001b[0m\u001b[0;34m,\u001b[0m\u001b[0mvary\u001b[0m\u001b[0;34m]\u001b[0m\u001b[0;34m)\u001b[0m\u001b[0;34m.\u001b[0m\u001b[0mmedian\u001b[0m\u001b[0;34m(\u001b[0m\u001b[0;34m)\u001b[0m\u001b[0;34m.\u001b[0m\u001b[0mround\u001b[0m\u001b[0;34m(\u001b[0m\u001b[0;36m2\u001b[0m\u001b[0;34m)\u001b[0m\u001b[0;34m.\u001b[0m\u001b[0mreset_index\u001b[0m\u001b[0;34m(\u001b[0m\u001b[0;34m)\u001b[0m\u001b[0;34m.\u001b[0m\u001b[0mpivot\u001b[0m\u001b[0;34m(\u001b[0m\u001b[0mvarx\u001b[0m\u001b[0;34m,\u001b[0m\u001b[0mvary\u001b[0m\u001b[0;34m)\u001b[0m\u001b[0;34m[\u001b[0m\u001b[0mvalue\u001b[0m\u001b[0;34m]\u001b[0m\u001b[0;34m\u001b[0m\u001b[0;34m\u001b[0m\u001b[0m\n",
      "\u001b[0m\u001b[0;32m     18 \u001b[0;31m    \u001b[0;31m#g = sns.heatmap(data, vmin=0.5, vmax=0.95,cmap=\"RdBu_r\",center=0.8,annot=True,linewidths=0.3)# R^2\u001b[0m\u001b[0;34m\u001b[0m\u001b[0;34m\u001b[0m\u001b[0m\n",
      "\u001b[0m\u001b[0;32m     19 \u001b[0;31m    \u001b[0;31m#g = sns.heatmap(data, vmin=0.2, vmax=0.7,cmap=\"RdBu\",center=0.4,annot=True,linewidths=0.3) # RMSE\u001b[0m\u001b[0;34m\u001b[0m\u001b[0;34m\u001b[0m\u001b[0m\n",
      "\u001b[0m\n"
     ]
    },
    {
     "name": "stdin",
     "output_type": "stream",
     "text": [
      "ipdb>  varx\n"
     ]
    },
    {
     "name": "stdout",
     "output_type": "stream",
     "text": [
      "'$s_n$'\n"
     ]
    },
    {
     "name": "stdin",
     "output_type": "stream",
     "text": [
      "ipdb>  vary\n"
     ]
    },
    {
     "name": "stdout",
     "output_type": "stream",
     "text": [
      "'$t_n$'\n"
     ]
    },
    {
     "name": "stdin",
     "output_type": "stream",
     "text": [
      "ipdb>  ss=metrics[[vary,varx,value]].groupby([varx,vary]).median().round(2).reset_index()\n",
      "ipdb>  ss\n"
     ]
    },
    {
     "name": "stdout",
     "output_type": "stream",
     "text": [
      "   $s_n$  $t_n$  rRMSE\n",
      "0     14     20   0.09\n"
     ]
    },
    {
     "name": "stdin",
     "output_type": "stream",
     "text": [
      "ipdb>  q\n"
     ]
    }
   ],
   "source": [
    "# plot the heatmap\n",
    "\n",
    "def p6_plot_heatmap(metrics,rename_dict={}, config={}, filters={}):\n",
    "        \n",
    "    # rename column name:\n",
    "    if(rename_dict not in [{},None]):\n",
    "        metrics = metrics.rename(columns=rename_dict)\n",
    "    #metrics['LSTM layer number']= metrics['LSTM layer number'].astype(int)\n",
    "        \n",
    "    # filter metrics\n",
    "    if filters!={}:\n",
    "        metrics = filter_metrics(metrics,**filters)\n",
    "        \n",
    "    varx=config['varx']; vary=config['vary']; value=config['value']\n",
    "    #metrics[varx].replace({idx:idx-4 for idx in range(5,len(combination_investigation_results)+1)},inplace=True)\n",
    "    data = metrics[[vary,varx,value]].groupby([varx,vary]).median().round(2).reset_index().pivot(varx,vary)[value]\n",
    "    #g = sns.heatmap(data, vmin=0.5, vmax=0.95,cmap=\"RdBu_r\",center=0.8,annot=True,linewidths=0.3)# R^2\n",
    "    #g = sns.heatmap(data, vmin=0.2, vmax=0.7,cmap=\"RdBu\",center=0.4,annot=True,linewidths=0.3) # RMSE\n",
    "    g = sns.heatmap(data, vmin=0.04, vmax=0.2,cmap=\"RdBu\",center=0.1,annot=True,linewidths=0.3)#rRMSE\n",
    "    g.invert_yaxis()\n",
    "    #g.set_ylabel(ylabel)\n",
    "    #g.set_xlabel(xlabel)\n",
    "    \n",
    "    \n",
    "    save_format='svg'\n",
    "    fig_path =\"./\"\n",
    "    save_figure(\"./\",fig_format=save_format)\n",
    "    return g \n",
    "\n",
    "\n",
    "rename_dict = {'train_sub_num':r'$s_n$', 'tre_trial_num':r'$t_n$','feature_layer_num':r'$L_n$','r2':r\"$R^2$\",'rmse':\"RMSE\",'r_rmse':\"rRMSE\"}\n",
    "filters={r'$L_n$':4,'drop_value':0.4,'dataset_name':'MD',\"model_name\":\"baseline_lstm\"}\n",
    "\n",
    "config={\n",
    "    'varx':r'$s_n$',\n",
    "    'vary':r'$t_n$',\n",
    "    #'value':r'$R^2$',\n",
    "    #'value':'RMSE',\n",
    "    'value':'rRMSE',\n",
    "}\n",
    "\n",
    "raw_metrics.replace({'original':'MD','e_scale':'PTD','e_rotation':'OTD','e_rotation_e_scale':'CTD'},inplace=True)\n",
    "p6_plot_heatmap(raw_metrics,rename_dict,config,filters)"
   ]
  },
  {
   "cell_type": "code",
   "execution_count": 11,
   "id": "63c7abed-3b18-4927-99a3-2e4ea537b912",
   "metadata": {},
   "outputs": [],
   "source": [
    "key=\"feature_layer_num\"; value=[4]\n",
    "raw_metrics[key]=raw_metrics[key].astype(type(value[0]))"
   ]
  },
  {
   "cell_type": "code",
   "execution_count": 12,
   "id": "df7b5784-ab92-493b-b738-0e6c0f93f1b2",
   "metadata": {},
   "outputs": [
    {
     "data": {
      "text/plain": [
       "0      4\n",
       "1      4\n",
       "2      4\n",
       "3      4\n",
       "4      4\n",
       "      ..\n",
       "370    4\n",
       "371    4\n",
       "372    4\n",
       "373    4\n",
       "374    4\n",
       "Name: feature_layer_num, Length: 375, dtype: int64"
      ]
     },
     "execution_count": 12,
     "metadata": {},
     "output_type": "execute_result"
    }
   ],
   "source": [
    "raw_metrics[key]"
   ]
  }
 ],
 "metadata": {
  "kernelspec": {
   "display_name": "Python 3 (ipykernel)",
   "language": "python",
   "name": "python3"
  },
  "language_info": {
   "codemirror_mode": {
    "name": "ipython",
    "version": 3
   },
   "file_extension": ".py",
   "mimetype": "text/x-python",
   "name": "python",
   "nbconvert_exporter": "python",
   "pygments_lexer": "ipython3",
   "version": "3.9.16"
  }
 },
 "nbformat": 4,
 "nbformat_minor": 5
}
