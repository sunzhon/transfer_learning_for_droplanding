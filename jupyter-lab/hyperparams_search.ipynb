{
 "cells": [
  {
   "cell_type": "markdown",
   "id": "ec5af3c3-c4d8-4619-847d-ce2505312f83",
   "metadata": {},
   "source": [
    "## This notebook realize hyperparameter grid or random search"
   ]
  },
  {
   "cell_type": "code",
   "execution_count": 1,
   "id": "b1fae6d3-acb9-4100-b507-51e9219ddba9",
   "metadata": {},
   "outputs": [
    {
     "name": "stdout",
     "output_type": "stream",
     "text": [
      "tensorflow version: 2.5.0\n",
      "tensorflow version: 2.5.0\n",
      "tensorflow version: 2.5.0\n",
      "[LogicalDevice(name='/device:CPU:0', device_type='CPU')] []\n"
     ]
    }
   ],
   "source": [
    "import sys\n",
    "sys.path.append(\"./../\")\n",
    "\n",
    "import tensorflow as tf\n",
    "import tensorflow.keras as keras\n",
    "import numpy as np\n",
    "import matplotlib.pyplot as plt\n",
    "import pdb\n",
    "import os\n",
    "import pandas as pd\n",
    "import yaml\n",
    "import h5py\n",
    "print(\"tensorflow version:\",tf.__version__)\n",
    "import vicon_imu_data_process.process_rawdata as pro_rd\n",
    "import estimation_assessment.scores as es_as\n",
    "import estimation_assessment.visualization as es_vl\n",
    "\n",
    "import seaborn as sns\n",
    "import copy\n",
    "import re\n",
    "import json\n",
    "\n",
    "from vicon_imu_data_process.const import FEATURES_FIELDS, LABELS_FIELDS, DATA_PATH, TRAIN_USED_TRIALS\n",
    "from vicon_imu_data_process.const import DROPLANDING_PERIOD, RESULTS_PATH, ESTIMATION_SENSOR_CONFIGURATIONS\n",
    "from vicon_imu_data_process import const\n",
    "from vicon_imu_data_process.dataset import *\n",
    "\n",
    "\n",
    "\n",
    "from estimation_models.rnn_models import *\n",
    "from estimation_study import *\n",
    "\n",
    "\n",
    "from sklearn.preprocessing import StandardScaler\n",
    "\n",
    "from sklearn.model_selection import LeaveOneOut\n",
    "from sklearn.model_selection import KFold\n",
    "import time as localtimepkg"
   ]
  },
  {
   "cell_type": "markdown",
   "id": "19371f34-e5f4-4a23-980a-96b686bb256f",
   "metadata": {},
   "source": [
    "## Build model"
   ]
  },
  {
   "cell_type": "code",
   "execution_count": 4,
   "id": "5af6a6a0-9336-469c-a07c-19dd455d6fbc",
   "metadata": {},
   "outputs": [],
   "source": [
    "## build this model for hyper paramter random search\n",
    "\n",
    "def build_model(lstm_units=10, sensor_configs = 'FSTWC'): \n",
    "    \n",
    "    # features fields based on sensors\n",
    "    sensor_list = ESTIMATION_SENSOR_CONFIGURATIONS[sensor_configs]\n",
    "    features_fields = const.extract_imu_fields(sensor_list, const.ACC_GYRO_FIELDS)\n",
    "    # init hyper params\n",
    "    hyperparams = initParameters(labels_names=LABELS_FIELDS, features_names=features_fields)\n",
    "    \n",
    "    hyperparams['lstm_units'] = lstm_units\n",
    "    \n",
    "    model = model_v1(hyperparams=hyperparams)\n",
    "    optimizer = tf.keras.optimizers.SGD(learning_rate=hyperparams['learning_rate'], momentum=0.9)\n",
    "    model.compile(loss=tf.keras.losses.Huber(),optimizer=optimizer, metrics=[\"mae\"])\n",
    "    return model\n",
    "\n",
    "\n",
    "\n",
    "# keras.scikit_learn wrap keras model as sklearn model\n",
    "sklearn_model = keras.wrappers.scikit_learn.KerasRegressor(build_model)\n",
    "\n",
    "  \n",
    "#3) create folders to save testing folders\n",
    "combination_investigation_testing_folders = os.path.join(RESULTS_PATH,\"investigation\",\n",
    "                                         str(localtimepkg.strftime(\"%Y-%m-%d\",localtimepkg.localtime())),\n",
    "                                         str(localtimepkg.strftime(\"%H%M%S\", localtimepkg.localtime())))\n",
    "if(not os.path.exists(combination_investigation_testing_folders)):\n",
    "    os.makedirs(combination_investigation_testing_folders)\n",
    "        \n",
    "# callbacks\n",
    "callbacks = my_callbacks(combination_investigation_testing_folders)\n",
    "\n",
    "\n",
    "\n"
   ]
  },
  {
   "cell_type": "markdown",
   "id": "b46c5a74-0ab8-470f-9748-edbeabd349fe",
   "metadata": {},
   "source": [
    "## Load, norm and reshape datasets"
   ]
  },
  {
   "cell_type": "code",
   "execution_count": 10,
   "id": "bc5ea15e-2c9d-4278-bb7d-15eaefdeea63",
   "metadata": {},
   "outputs": [
    {
     "name": "stdout",
     "output_type": "stream",
     "text": [
      "Train subject set: ['P_08_zhangboyuan', 'P_10_dongxuan', 'P_11_liuchunyu', 'P_13_xulibang', 'P_14_hunan', 'P_15_liuzhaoyu', 'P_16_zhangjinduo', 'P_17_congyuanqi', 'P_18_hezhonghai', 'P_19_xiongyihui', 'P_20_xuanweicheng', 'P_21_wujianing'] Test subject set: ['P_22_zhangning']\n",
      "Train set shape (20640, 31)\n",
      "Valid set shape (1800, 31)\n",
      "Test set shape (60, 31)\n",
      "(60, 31)\n",
      "(57, 4, 30)\n",
      "(60, 1)\n",
      "train x:  (20637, 4, 30)\n",
      "train y:  (20637, 4, 1)\n",
      "valid x:  (1797, 4, 30)\n",
      "valid y:  (1797, 4, 1)\n",
      "test x:  (57, 4, 30)\n",
      "test y:  (60, 1)\n"
     ]
    }
   ],
   "source": [
    "# train and test subjects\n",
    "train_subject_indices = [0,1,2,3,4,5,6,7,8,9,10,11]\n",
    "test_subject_indices = [12]\n",
    "\n",
    "#2) hyper params for loading dataset\n",
    "sensor_list = ['L_FOOT','L_SHANK','L_THIGH','WAIST', 'CHEST']\n",
    "# features fields based on sensors\n",
    "features_fields = const.extract_imu_fields(sensor_list, const.ACC_GYRO_FIELDS)\n",
    "# init hyper params\n",
    "hyperparams = initParameters(labels_names=LABELS_FIELDS, features_names=features_fields)\n",
    "\n",
    "#3) Load and normalize datasets for training and testing\n",
    "subjects_trials_data, norm_subjects_trials_data, scaler = load_normalize_data(hyperparams, syn_features_labels=True)\n",
    "train_set, valid_set, test_set = split_dataset(norm_subjects_trials_data, train_subject_indices, test_subject_indices, hyperparams)\n",
    "\n",
    "\n",
    "\n",
    "# transfer tensor datasets into numpy dataset for sklearn-model\n",
    "def map_func_x(x,y):\n",
    "    return x\n",
    "\n",
    "def map_func_y(x,y):\n",
    "    return y\n",
    "\n",
    "train_x = train_set.map(map_func_x)\n",
    "train_y = train_set.map(map_func_y)\n",
    "valid_x = valid_set.map(map_func_x)\n",
    "valid_y = valid_set.map(map_func_y)\n",
    "\n",
    "np_train_x = np.concatenate(list(train_x.as_numpy_iterator()), axis=0)\n",
    "np_train_y = np.concatenate(list(train_y.as_numpy_iterator()), axis=0)\n",
    "np_valid_x = np.concatenate(list(valid_x.as_numpy_iterator()), axis=0)\n",
    "np_valid_y = np.concatenate(list(valid_y.as_numpy_iterator()), axis=0)\n",
    "\n",
    "\n",
    "\n",
    "# transfer test_set to test_x and test_y for sklearn model\n",
    "\n",
    "\n",
    "print(test_set.shape)\n",
    "\n",
    "\n",
    "window_size = hyperparams['window_size']\n",
    "shift_step = hyperparams['shift_step']\n",
    "\n",
    "ds = tf.data.Dataset.from_tensor_slices(test_set[:,:int(hyperparams['features_num'])])\n",
    "ds = ds.window(window_size, shift=shift_step, stride=1, drop_remainder = True)\n",
    "# split windows into batchs\n",
    "ds = ds.flat_map(lambda w: w.batch(window_size)) \n",
    "# batch data set\n",
    "ds = ds.batch(1) # expand dim by axis 0\n",
    "\n",
    "np_test_x = np.concatenate(list(ds.as_numpy_iterator()), axis=0)\n",
    "print(np_test_x.shape)\n",
    "np_test_y = test_set[:,int(hyperparams['features_num']):]\n",
    "print(np_test_y.shape)\n",
    "\n",
    "\n",
    "\n",
    "print(\"train x: \", np_train_x.shape)\n",
    "print(\"train y: \", np_train_y.shape)\n",
    "print(\"valid x: \", np_valid_x.shape)\n",
    "print(\"valid y: \", np_valid_y.shape)\n",
    "\n",
    "print(\"test x: \", np_test_x.shape)\n",
    "print(\"test y: \", np_test_y.shape)"
   ]
  },
  {
   "cell_type": "markdown",
   "id": "8a42acca-a2aa-4c50-9ea4-9bdfeb5bcbee",
   "metadata": {},
   "source": [
    "## Hyper parameter searches"
   ]
  },
  {
   "cell_type": "code",
   "execution_count": 25,
   "id": "f73782f6-e9ef-4bd7-9e59-06ba4a2dd790",
   "metadata": {},
   "outputs": [
    {
     "ename": "PicklingError",
     "evalue": "Could not pickle the task to send it to the workers.",
     "output_type": "error",
     "traceback": [
      "\u001b[0;31m---------------------------------------------------------------------------\u001b[0m",
      "\u001b[0;31m_RemoteTraceback\u001b[0m                          Traceback (most recent call last)",
      "\u001b[0;31m_RemoteTraceback\u001b[0m: \n\"\"\"\nTraceback (most recent call last):\n  File \"/home/sun/.pyenv/versions/DataVisualization/lib/python3.9/site-packages/joblib/externals/loky/backend/queues.py\", line 153, in _feed\n    obj_ = dumps(obj, reducers=reducers)\n  File \"/home/sun/.pyenv/versions/DataVisualization/lib/python3.9/site-packages/joblib/externals/loky/backend/reduction.py\", line 271, in dumps\n    dump(obj, buf, reducers=reducers, protocol=protocol)\n  File \"/home/sun/.pyenv/versions/DataVisualization/lib/python3.9/site-packages/joblib/externals/loky/backend/reduction.py\", line 264, in dump\n    _LokyPickler(file, reducers=reducers, protocol=protocol).dump(obj)\n  File \"/home/sun/.pyenv/versions/DataVisualization/lib/python3.9/site-packages/joblib/externals/cloudpickle/cloudpickle_fast.py\", line 563, in dump\n    return Pickler.dump(self, obj)\nTypeError: cannot pickle 'weakref' object\n\"\"\"",
      "\nThe above exception was the direct cause of the following exception:\n",
      "\u001b[0;31mPicklingError\u001b[0m                             Traceback (most recent call last)",
      "\u001b[0;32m<ipython-input-25-46927e3ccdff>\u001b[0m in \u001b[0;36m<module>\u001b[0;34m\u001b[0m\n\u001b[1;32m     15\u001b[0m \u001b[0mrandom_search_cv\u001b[0m \u001b[0;34m=\u001b[0m \u001b[0mGridSearchCV\u001b[0m\u001b[0;34m(\u001b[0m\u001b[0msklearn_model\u001b[0m\u001b[0;34m,\u001b[0m \u001b[0mparam_distribution\u001b[0m\u001b[0;34m,\u001b[0m \u001b[0mn_jobs\u001b[0m\u001b[0;34m=\u001b[0m\u001b[0;34m-\u001b[0m\u001b[0;36m1\u001b[0m\u001b[0;34m)\u001b[0m\u001b[0;34m\u001b[0m\u001b[0;34m\u001b[0m\u001b[0m\n\u001b[1;32m     16\u001b[0m \u001b[0;34m\u001b[0m\u001b[0m\n\u001b[0;32m---> 17\u001b[0;31m \u001b[0mrandom_search_cv\u001b[0m\u001b[0;34m.\u001b[0m\u001b[0mfit\u001b[0m\u001b[0;34m(\u001b[0m\u001b[0mnp_train_x\u001b[0m\u001b[0;34m,\u001b[0m \u001b[0mnp_train_y\u001b[0m\u001b[0;34m,\u001b[0m \u001b[0mepochs\u001b[0m\u001b[0;34m=\u001b[0m\u001b[0;36m100\u001b[0m\u001b[0;34m,\u001b[0m \u001b[0mvalidation_data\u001b[0m\u001b[0;34m=\u001b[0m\u001b[0;34m(\u001b[0m\u001b[0mnp_valid_x\u001b[0m\u001b[0;34m,\u001b[0m \u001b[0mnp_valid_y\u001b[0m\u001b[0;34m)\u001b[0m\u001b[0;34m,\u001b[0m\u001b[0mcallbacks\u001b[0m\u001b[0;34m=\u001b[0m\u001b[0mcallbacks\u001b[0m\u001b[0;34m)\u001b[0m\u001b[0;34m\u001b[0m\u001b[0;34m\u001b[0m\u001b[0m\n\u001b[0m",
      "\u001b[0;32m~/.pyenv/versions/DataVisualization/lib/python3.9/site-packages/sklearn/utils/validation.py\u001b[0m in \u001b[0;36minner_f\u001b[0;34m(*args, **kwargs)\u001b[0m\n\u001b[1;32m     70\u001b[0m                           FutureWarning)\n\u001b[1;32m     71\u001b[0m         \u001b[0mkwargs\u001b[0m\u001b[0;34m.\u001b[0m\u001b[0mupdate\u001b[0m\u001b[0;34m(\u001b[0m\u001b[0;34m{\u001b[0m\u001b[0mk\u001b[0m\u001b[0;34m:\u001b[0m \u001b[0marg\u001b[0m \u001b[0;32mfor\u001b[0m \u001b[0mk\u001b[0m\u001b[0;34m,\u001b[0m \u001b[0marg\u001b[0m \u001b[0;32min\u001b[0m \u001b[0mzip\u001b[0m\u001b[0;34m(\u001b[0m\u001b[0msig\u001b[0m\u001b[0;34m.\u001b[0m\u001b[0mparameters\u001b[0m\u001b[0;34m,\u001b[0m \u001b[0margs\u001b[0m\u001b[0;34m)\u001b[0m\u001b[0;34m}\u001b[0m\u001b[0;34m)\u001b[0m\u001b[0;34m\u001b[0m\u001b[0;34m\u001b[0m\u001b[0m\n\u001b[0;32m---> 72\u001b[0;31m         \u001b[0;32mreturn\u001b[0m \u001b[0mf\u001b[0m\u001b[0;34m(\u001b[0m\u001b[0;34m**\u001b[0m\u001b[0mkwargs\u001b[0m\u001b[0;34m)\u001b[0m\u001b[0;34m\u001b[0m\u001b[0;34m\u001b[0m\u001b[0m\n\u001b[0m\u001b[1;32m     73\u001b[0m     \u001b[0;32mreturn\u001b[0m \u001b[0minner_f\u001b[0m\u001b[0;34m\u001b[0m\u001b[0;34m\u001b[0m\u001b[0m\n\u001b[1;32m     74\u001b[0m \u001b[0;34m\u001b[0m\u001b[0m\n",
      "\u001b[0;32m~/.pyenv/versions/DataVisualization/lib/python3.9/site-packages/sklearn/model_selection/_search.py\u001b[0m in \u001b[0;36mfit\u001b[0;34m(self, X, y, groups, **fit_params)\u001b[0m\n\u001b[1;32m    734\u001b[0m                 \u001b[0;32mreturn\u001b[0m \u001b[0mresults\u001b[0m\u001b[0;34m\u001b[0m\u001b[0;34m\u001b[0m\u001b[0m\n\u001b[1;32m    735\u001b[0m \u001b[0;34m\u001b[0m\u001b[0m\n\u001b[0;32m--> 736\u001b[0;31m             \u001b[0mself\u001b[0m\u001b[0;34m.\u001b[0m\u001b[0m_run_search\u001b[0m\u001b[0;34m(\u001b[0m\u001b[0mevaluate_candidates\u001b[0m\u001b[0;34m)\u001b[0m\u001b[0;34m\u001b[0m\u001b[0;34m\u001b[0m\u001b[0m\n\u001b[0m\u001b[1;32m    737\u001b[0m \u001b[0;34m\u001b[0m\u001b[0m\n\u001b[1;32m    738\u001b[0m         \u001b[0;31m# For multi-metric evaluation, store the best_index_, best_params_ and\u001b[0m\u001b[0;34m\u001b[0m\u001b[0;34m\u001b[0m\u001b[0;34m\u001b[0m\u001b[0m\n",
      "\u001b[0;32m~/.pyenv/versions/DataVisualization/lib/python3.9/site-packages/sklearn/model_selection/_search.py\u001b[0m in \u001b[0;36m_run_search\u001b[0;34m(self, evaluate_candidates)\u001b[0m\n\u001b[1;32m   1186\u001b[0m     \u001b[0;32mdef\u001b[0m \u001b[0m_run_search\u001b[0m\u001b[0;34m(\u001b[0m\u001b[0mself\u001b[0m\u001b[0;34m,\u001b[0m \u001b[0mevaluate_candidates\u001b[0m\u001b[0;34m)\u001b[0m\u001b[0;34m:\u001b[0m\u001b[0;34m\u001b[0m\u001b[0;34m\u001b[0m\u001b[0m\n\u001b[1;32m   1187\u001b[0m         \u001b[0;34m\"\"\"Search all candidates in param_grid\"\"\"\u001b[0m\u001b[0;34m\u001b[0m\u001b[0;34m\u001b[0m\u001b[0m\n\u001b[0;32m-> 1188\u001b[0;31m         \u001b[0mevaluate_candidates\u001b[0m\u001b[0;34m(\u001b[0m\u001b[0mParameterGrid\u001b[0m\u001b[0;34m(\u001b[0m\u001b[0mself\u001b[0m\u001b[0;34m.\u001b[0m\u001b[0mparam_grid\u001b[0m\u001b[0;34m)\u001b[0m\u001b[0;34m)\u001b[0m\u001b[0;34m\u001b[0m\u001b[0;34m\u001b[0m\u001b[0m\n\u001b[0m\u001b[1;32m   1189\u001b[0m \u001b[0;34m\u001b[0m\u001b[0m\n\u001b[1;32m   1190\u001b[0m \u001b[0;34m\u001b[0m\u001b[0m\n",
      "\u001b[0;32m~/.pyenv/versions/DataVisualization/lib/python3.9/site-packages/sklearn/model_selection/_search.py\u001b[0m in \u001b[0;36mevaluate_candidates\u001b[0;34m(candidate_params)\u001b[0m\n\u001b[1;32m    706\u001b[0m                               n_splits, n_candidates, n_candidates * n_splits))\n\u001b[1;32m    707\u001b[0m \u001b[0;34m\u001b[0m\u001b[0m\n\u001b[0;32m--> 708\u001b[0;31m                 out = parallel(delayed(_fit_and_score)(clone(base_estimator),\n\u001b[0m\u001b[1;32m    709\u001b[0m                                                        \u001b[0mX\u001b[0m\u001b[0;34m,\u001b[0m \u001b[0my\u001b[0m\u001b[0;34m,\u001b[0m\u001b[0;34m\u001b[0m\u001b[0;34m\u001b[0m\u001b[0m\n\u001b[1;32m    710\u001b[0m                                                        \u001b[0mtrain\u001b[0m\u001b[0;34m=\u001b[0m\u001b[0mtrain\u001b[0m\u001b[0;34m,\u001b[0m \u001b[0mtest\u001b[0m\u001b[0;34m=\u001b[0m\u001b[0mtest\u001b[0m\u001b[0;34m,\u001b[0m\u001b[0;34m\u001b[0m\u001b[0;34m\u001b[0m\u001b[0m\n",
      "\u001b[0;32m~/.pyenv/versions/DataVisualization/lib/python3.9/site-packages/joblib/parallel.py\u001b[0m in \u001b[0;36m__call__\u001b[0;34m(self, iterable)\u001b[0m\n\u001b[1;32m   1052\u001b[0m \u001b[0;34m\u001b[0m\u001b[0m\n\u001b[1;32m   1053\u001b[0m             \u001b[0;32mwith\u001b[0m \u001b[0mself\u001b[0m\u001b[0;34m.\u001b[0m\u001b[0m_backend\u001b[0m\u001b[0;34m.\u001b[0m\u001b[0mretrieval_context\u001b[0m\u001b[0;34m(\u001b[0m\u001b[0;34m)\u001b[0m\u001b[0;34m:\u001b[0m\u001b[0;34m\u001b[0m\u001b[0;34m\u001b[0m\u001b[0m\n\u001b[0;32m-> 1054\u001b[0;31m                 \u001b[0mself\u001b[0m\u001b[0;34m.\u001b[0m\u001b[0mretrieve\u001b[0m\u001b[0;34m(\u001b[0m\u001b[0;34m)\u001b[0m\u001b[0;34m\u001b[0m\u001b[0;34m\u001b[0m\u001b[0m\n\u001b[0m\u001b[1;32m   1055\u001b[0m             \u001b[0;31m# Make sure that we get a last message telling us we are done\u001b[0m\u001b[0;34m\u001b[0m\u001b[0;34m\u001b[0m\u001b[0;34m\u001b[0m\u001b[0m\n\u001b[1;32m   1056\u001b[0m             \u001b[0melapsed_time\u001b[0m \u001b[0;34m=\u001b[0m \u001b[0mtime\u001b[0m\u001b[0;34m.\u001b[0m\u001b[0mtime\u001b[0m\u001b[0;34m(\u001b[0m\u001b[0;34m)\u001b[0m \u001b[0;34m-\u001b[0m \u001b[0mself\u001b[0m\u001b[0;34m.\u001b[0m\u001b[0m_start_time\u001b[0m\u001b[0;34m\u001b[0m\u001b[0;34m\u001b[0m\u001b[0m\n",
      "\u001b[0;32m~/.pyenv/versions/DataVisualization/lib/python3.9/site-packages/joblib/parallel.py\u001b[0m in \u001b[0;36mretrieve\u001b[0;34m(self)\u001b[0m\n\u001b[1;32m    931\u001b[0m             \u001b[0;32mtry\u001b[0m\u001b[0;34m:\u001b[0m\u001b[0;34m\u001b[0m\u001b[0;34m\u001b[0m\u001b[0m\n\u001b[1;32m    932\u001b[0m                 \u001b[0;32mif\u001b[0m \u001b[0mgetattr\u001b[0m\u001b[0;34m(\u001b[0m\u001b[0mself\u001b[0m\u001b[0;34m.\u001b[0m\u001b[0m_backend\u001b[0m\u001b[0;34m,\u001b[0m \u001b[0;34m'supports_timeout'\u001b[0m\u001b[0;34m,\u001b[0m \u001b[0;32mFalse\u001b[0m\u001b[0;34m)\u001b[0m\u001b[0;34m:\u001b[0m\u001b[0;34m\u001b[0m\u001b[0;34m\u001b[0m\u001b[0m\n\u001b[0;32m--> 933\u001b[0;31m                     \u001b[0mself\u001b[0m\u001b[0;34m.\u001b[0m\u001b[0m_output\u001b[0m\u001b[0;34m.\u001b[0m\u001b[0mextend\u001b[0m\u001b[0;34m(\u001b[0m\u001b[0mjob\u001b[0m\u001b[0;34m.\u001b[0m\u001b[0mget\u001b[0m\u001b[0;34m(\u001b[0m\u001b[0mtimeout\u001b[0m\u001b[0;34m=\u001b[0m\u001b[0mself\u001b[0m\u001b[0;34m.\u001b[0m\u001b[0mtimeout\u001b[0m\u001b[0;34m)\u001b[0m\u001b[0;34m)\u001b[0m\u001b[0;34m\u001b[0m\u001b[0;34m\u001b[0m\u001b[0m\n\u001b[0m\u001b[1;32m    934\u001b[0m                 \u001b[0;32melse\u001b[0m\u001b[0;34m:\u001b[0m\u001b[0;34m\u001b[0m\u001b[0;34m\u001b[0m\u001b[0m\n\u001b[1;32m    935\u001b[0m                     \u001b[0mself\u001b[0m\u001b[0;34m.\u001b[0m\u001b[0m_output\u001b[0m\u001b[0;34m.\u001b[0m\u001b[0mextend\u001b[0m\u001b[0;34m(\u001b[0m\u001b[0mjob\u001b[0m\u001b[0;34m.\u001b[0m\u001b[0mget\u001b[0m\u001b[0;34m(\u001b[0m\u001b[0;34m)\u001b[0m\u001b[0;34m)\u001b[0m\u001b[0;34m\u001b[0m\u001b[0;34m\u001b[0m\u001b[0m\n",
      "\u001b[0;32m~/.pyenv/versions/DataVisualization/lib/python3.9/site-packages/joblib/_parallel_backends.py\u001b[0m in \u001b[0;36mwrap_future_result\u001b[0;34m(future, timeout)\u001b[0m\n\u001b[1;32m    540\u001b[0m         AsyncResults.get from multiprocessing.\"\"\"\n\u001b[1;32m    541\u001b[0m         \u001b[0;32mtry\u001b[0m\u001b[0;34m:\u001b[0m\u001b[0;34m\u001b[0m\u001b[0;34m\u001b[0m\u001b[0m\n\u001b[0;32m--> 542\u001b[0;31m             \u001b[0;32mreturn\u001b[0m \u001b[0mfuture\u001b[0m\u001b[0;34m.\u001b[0m\u001b[0mresult\u001b[0m\u001b[0;34m(\u001b[0m\u001b[0mtimeout\u001b[0m\u001b[0;34m=\u001b[0m\u001b[0mtimeout\u001b[0m\u001b[0;34m)\u001b[0m\u001b[0;34m\u001b[0m\u001b[0;34m\u001b[0m\u001b[0m\n\u001b[0m\u001b[1;32m    543\u001b[0m         \u001b[0;32mexcept\u001b[0m \u001b[0mCfTimeoutError\u001b[0m \u001b[0;32mas\u001b[0m \u001b[0me\u001b[0m\u001b[0;34m:\u001b[0m\u001b[0;34m\u001b[0m\u001b[0;34m\u001b[0m\u001b[0m\n\u001b[1;32m    544\u001b[0m             \u001b[0;32mraise\u001b[0m \u001b[0mTimeoutError\u001b[0m \u001b[0;32mfrom\u001b[0m \u001b[0me\u001b[0m\u001b[0;34m\u001b[0m\u001b[0;34m\u001b[0m\u001b[0m\n",
      "\u001b[0;32m~/.pyenv/versions/3.9.2/lib/python3.9/concurrent/futures/_base.py\u001b[0m in \u001b[0;36mresult\u001b[0;34m(self, timeout)\u001b[0m\n\u001b[1;32m    438\u001b[0m                 \u001b[0;32mraise\u001b[0m \u001b[0mCancelledError\u001b[0m\u001b[0;34m(\u001b[0m\u001b[0;34m)\u001b[0m\u001b[0;34m\u001b[0m\u001b[0;34m\u001b[0m\u001b[0m\n\u001b[1;32m    439\u001b[0m             \u001b[0;32melif\u001b[0m \u001b[0mself\u001b[0m\u001b[0;34m.\u001b[0m\u001b[0m_state\u001b[0m \u001b[0;34m==\u001b[0m \u001b[0mFINISHED\u001b[0m\u001b[0;34m:\u001b[0m\u001b[0;34m\u001b[0m\u001b[0;34m\u001b[0m\u001b[0m\n\u001b[0;32m--> 440\u001b[0;31m                 \u001b[0;32mreturn\u001b[0m \u001b[0mself\u001b[0m\u001b[0;34m.\u001b[0m\u001b[0m__get_result\u001b[0m\u001b[0;34m(\u001b[0m\u001b[0;34m)\u001b[0m\u001b[0;34m\u001b[0m\u001b[0;34m\u001b[0m\u001b[0m\n\u001b[0m\u001b[1;32m    441\u001b[0m             \u001b[0;32melse\u001b[0m\u001b[0;34m:\u001b[0m\u001b[0;34m\u001b[0m\u001b[0;34m\u001b[0m\u001b[0m\n\u001b[1;32m    442\u001b[0m                 \u001b[0;32mraise\u001b[0m \u001b[0mTimeoutError\u001b[0m\u001b[0;34m(\u001b[0m\u001b[0;34m)\u001b[0m\u001b[0;34m\u001b[0m\u001b[0;34m\u001b[0m\u001b[0m\n",
      "\u001b[0;32m~/.pyenv/versions/3.9.2/lib/python3.9/concurrent/futures/_base.py\u001b[0m in \u001b[0;36m__get_result\u001b[0;34m(self)\u001b[0m\n\u001b[1;32m    387\u001b[0m     \u001b[0;32mdef\u001b[0m \u001b[0m__get_result\u001b[0m\u001b[0;34m(\u001b[0m\u001b[0mself\u001b[0m\u001b[0;34m)\u001b[0m\u001b[0;34m:\u001b[0m\u001b[0;34m\u001b[0m\u001b[0;34m\u001b[0m\u001b[0m\n\u001b[1;32m    388\u001b[0m         \u001b[0;32mif\u001b[0m \u001b[0mself\u001b[0m\u001b[0;34m.\u001b[0m\u001b[0m_exception\u001b[0m\u001b[0;34m:\u001b[0m\u001b[0;34m\u001b[0m\u001b[0;34m\u001b[0m\u001b[0m\n\u001b[0;32m--> 389\u001b[0;31m             \u001b[0;32mraise\u001b[0m \u001b[0mself\u001b[0m\u001b[0;34m.\u001b[0m\u001b[0m_exception\u001b[0m\u001b[0;34m\u001b[0m\u001b[0;34m\u001b[0m\u001b[0m\n\u001b[0m\u001b[1;32m    390\u001b[0m         \u001b[0;32melse\u001b[0m\u001b[0;34m:\u001b[0m\u001b[0;34m\u001b[0m\u001b[0;34m\u001b[0m\u001b[0m\n\u001b[1;32m    391\u001b[0m             \u001b[0;32mreturn\u001b[0m \u001b[0mself\u001b[0m\u001b[0;34m.\u001b[0m\u001b[0m_result\u001b[0m\u001b[0;34m\u001b[0m\u001b[0;34m\u001b[0m\u001b[0m\n",
      "\u001b[0;31mPicklingError\u001b[0m: Could not pickle the task to send it to the workers."
     ]
    }
   ],
   "source": [
    "from scipy.stats import reciprocal\n",
    "\n",
    "param_distribution = {\n",
    "    #'lstm_units': np.arange(1,50),\n",
    "    'lstm_units': np.arange(1,3),\n",
    "    'sensor_configs': ['F','S','T']\n",
    "    #'sensor_configs': list(ESTIMATION_SENSOR_CONFIGURATIONS.keys())\n",
    "    #'learning_rate': reciprocal(1e-4,1e-2)\n",
    "}\n",
    "\n",
    "from sklearn.model_selection import RandomizedSearchCV\n",
    "from sklearn.model_selection import GridSearchCV\n",
    "\n",
    "#random_search_cv = RandomizedSearchCV(sklearn_model, param_distribution, n_iter = 10, n_jobs=-1)\n",
    "random_search_cv = GridSearchCV(sklearn_model, param_distribution, n_jobs=-1)\n",
    "\n",
    "random_search_cv.fit(np_train_x, np_train_y, epochs=100, validation_data=(np_valid_x, np_valid_y),callbacks=callbacks)"
   ]
  },
  {
   "cell_type": "markdown",
   "id": "deb52fe3-8fbc-407c-ab45-b4955bbf2c99",
   "metadata": {},
   "source": [
    "## Model evaluation of the best model"
   ]
  },
  {
   "cell_type": "code",
   "execution_count": 24,
   "id": "06286095-89ed-4c44-b245-d1f566d1702c",
   "metadata": {},
   "outputs": [
    {
     "ename": "AttributeError",
     "evalue": "'GridSearchCV' object has no attribute 'best_params_'",
     "output_type": "error",
     "traceback": [
      "\u001b[0;31m---------------------------------------------------------------------------\u001b[0m",
      "\u001b[0;31mAttributeError\u001b[0m                            Traceback (most recent call last)",
      "\u001b[0;32m<ipython-input-24-bd088468e2d4>\u001b[0m in \u001b[0;36m<module>\u001b[0;34m\u001b[0m\n\u001b[0;32m----> 1\u001b[0;31m \u001b[0mprint\u001b[0m\u001b[0;34m(\u001b[0m\u001b[0;34m'best model params:'\u001b[0m\u001b[0;34m,\u001b[0m \u001b[0mrandom_search_cv\u001b[0m\u001b[0;34m.\u001b[0m\u001b[0mbest_params_\u001b[0m\u001b[0;34m)\u001b[0m\u001b[0;34m\u001b[0m\u001b[0;34m\u001b[0m\u001b[0m\n\u001b[0m\u001b[1;32m      2\u001b[0m \u001b[0mprint\u001b[0m\u001b[0;34m(\u001b[0m\u001b[0;34m'best score: '\u001b[0m\u001b[0;34m,\u001b[0m \u001b[0mrandom_search_cv\u001b[0m\u001b[0;34m.\u001b[0m\u001b[0mbest_score_\u001b[0m\u001b[0;34m)\u001b[0m\u001b[0;34m\u001b[0m\u001b[0;34m\u001b[0m\u001b[0m\n\u001b[1;32m      3\u001b[0m \u001b[0mprint\u001b[0m\u001b[0;34m(\u001b[0m\u001b[0;34m'best estimator: '\u001b[0m\u001b[0;34m,\u001b[0m\u001b[0mrandom_search_cv\u001b[0m\u001b[0;34m.\u001b[0m\u001b[0mbest_estimator_\u001b[0m\u001b[0;34m)\u001b[0m\u001b[0;34m\u001b[0m\u001b[0;34m\u001b[0m\u001b[0m\n\u001b[1;32m      4\u001b[0m \u001b[0mprint\u001b[0m\u001b[0;34m(\u001b[0m\u001b[0;34m'best estimator index: '\u001b[0m\u001b[0;34m,\u001b[0m\u001b[0mrandom_search_cv\u001b[0m\u001b[0;34m.\u001b[0m\u001b[0mbest_index_\u001b[0m\u001b[0;34m)\u001b[0m\u001b[0;34m\u001b[0m\u001b[0;34m\u001b[0m\u001b[0m\n\u001b[1;32m      5\u001b[0m \u001b[0;34m\u001b[0m\u001b[0m\n",
      "\u001b[0;31mAttributeError\u001b[0m: 'GridSearchCV' object has no attribute 'best_params_'"
     ]
    }
   ],
   "source": [
    "print('best model params:', random_search_cv.best_params_)\n",
    "print('best score: ', random_search_cv.best_score_)\n",
    "print('best estimator: ',random_search_cv.best_estimator_)\n",
    "print('best estimator index: ',random_search_cv.best_index_)\n",
    "\n",
    "best_model = random_search_cv.best_estimator_.model\n",
    "\n",
    "model_output = best_model(np_test_x)\n",
    "model_prediction = np.row_stack([model_output[0,:,:],model_output[1:,-1,:]])\n",
    "\n",
    "print('scores of the best model: ',es_as.calculate_scores(np_test_y, model_prediction))\n",
    "\n",
    "es_vl.plot_actual_estimation_curves(pd.DataFrame(np_test_y),pd.DataFrame(model_prediction),'./',verbose=1)"
   ]
  },
  {
   "cell_type": "markdown",
   "id": "f0dd75e2-9326-4991-b270-623dbde171dd",
   "metadata": {},
   "source": [
    "## Train sklearn model "
   ]
  },
  {
   "cell_type": "code",
   "execution_count": 5,
   "id": "33434922-e408-40e5-953a-358f8bc1ae4f",
   "metadata": {},
   "outputs": [
    {
     "name": "stdout",
     "output_type": "stream",
     "text": [
      "Epoch 1/100\n",
      "860/860 [==============================] - 5s 3ms/step - loss: 0.0680 - mae: 0.2448 - val_loss: 0.1049 - val_mae: 0.2831\n",
      "Epoch 2/100\n",
      "860/860 [==============================] - 2s 2ms/step - loss: 0.0463 - mae: 0.2024 - val_loss: 0.0918 - val_mae: 0.2791\n",
      "Epoch 3/100\n",
      "860/860 [==============================] - 2s 2ms/step - loss: 0.0419 - mae: 0.1926 - val_loss: 0.0895 - val_mae: 0.2611\n",
      "Epoch 4/100\n",
      "860/860 [==============================] - 2s 2ms/step - loss: 0.0400 - mae: 0.1885 - val_loss: 0.0998 - val_mae: 0.2802\n",
      "Epoch 5/100\n",
      "860/860 [==============================] - 2s 2ms/step - loss: 0.0369 - mae: 0.1801 - val_loss: 0.1048 - val_mae: 0.3061\n",
      "Epoch 6/100\n",
      "860/860 [==============================] - 2s 2ms/step - loss: 0.0363 - mae: 0.1808 - val_loss: 0.0965 - val_mae: 0.2759\n",
      "Epoch 7/100\n",
      "860/860 [==============================] - 2s 2ms/step - loss: 0.0335 - mae: 0.1716 - val_loss: 0.0967 - val_mae: 0.2718\n",
      "Epoch 8/100\n",
      "860/860 [==============================] - 2s 2ms/step - loss: 0.0331 - mae: 0.1710 - val_loss: 0.1048 - val_mae: 0.2942\n",
      "Epoch 9/100\n",
      "860/860 [==============================] - 2s 2ms/step - loss: 0.0313 - mae: 0.1665 - val_loss: 0.1018 - val_mae: 0.2903\n",
      "Epoch 10/100\n",
      "860/860 [==============================] - 2s 2ms/step - loss: 0.0317 - mae: 0.1689 - val_loss: 0.1151 - val_mae: 0.3200\n",
      "Epoch 11/100\n",
      "860/860 [==============================] - 2s 2ms/step - loss: 0.0307 - mae: 0.1671 - val_loss: 0.1029 - val_mae: 0.3041\n",
      "Epoch 12/100\n",
      "860/860 [==============================] - 2s 2ms/step - loss: 0.0308 - mae: 0.1678 - val_loss: 0.1157 - val_mae: 0.3398\n",
      "Epoch 13/100\n",
      "860/860 [==============================] - 2s 2ms/step - loss: 0.0291 - mae: 0.1615 - val_loss: 0.1108 - val_mae: 0.3294\n",
      "Epoch 14/100\n",
      "860/860 [==============================] - 2s 3ms/step - loss: 0.0283 - mae: 0.1598 - val_loss: 0.1051 - val_mae: 0.3108\n",
      "Epoch 15/100\n",
      "860/860 [==============================] - 2s 2ms/step - loss: 0.0280 - mae: 0.1589 - val_loss: 0.1100 - val_mae: 0.2952\n",
      "Epoch 16/100\n",
      "860/860 [==============================] - 2s 2ms/step - loss: 0.0280 - mae: 0.1606 - val_loss: 0.1077 - val_mae: 0.3068\n",
      "Epoch 17/100\n",
      "860/860 [==============================] - 2s 2ms/step - loss: 0.0279 - mae: 0.1610 - val_loss: 0.1072 - val_mae: 0.2935\n",
      "Epoch 18/100\n",
      "860/860 [==============================] - 2s 2ms/step - loss: 0.0270 - mae: 0.1560 - val_loss: 0.1242 - val_mae: 0.3468\n",
      "Epoch 19/100\n",
      "860/860 [==============================] - 2s 2ms/step - loss: 0.0272 - mae: 0.1594 - val_loss: 0.1065 - val_mae: 0.2839\n",
      "Epoch 20/100\n",
      "860/860 [==============================] - 2s 3ms/step - loss: 0.0276 - mae: 0.1576 - val_loss: 0.1084 - val_mae: 0.2970\n",
      "Epoch 21/100\n",
      "860/860 [==============================] - 2s 2ms/step - loss: 0.0274 - mae: 0.1582 - val_loss: 0.1211 - val_mae: 0.3321\n",
      "Epoch 22/100\n",
      "860/860 [==============================] - 2s 2ms/step - loss: 0.0264 - mae: 0.1551 - val_loss: 0.1061 - val_mae: 0.2846\n",
      "Epoch 23/100\n",
      "860/860 [==============================] - 2s 2ms/step - loss: 0.0259 - mae: 0.1532 - val_loss: 0.1123 - val_mae: 0.2975\n",
      "dict_keys(['loss', 'mae', 'val_loss', 'val_mae'])\n",
      "Max train and validtion MAE: 0.2448 and 0.3468\n"
     ]
    },
    {
     "data": {
      "image/png": "[encoded data removed]",
      "text/plain": [
       "<Figure size 432x288 with 1 Axes>"
      ]
     },
     "metadata": {
      "needs_background": "light"
     },
     "output_type": "display_data"
    },
    {
     "data": {
      "image/png": "[encoded data removed]",
      "text/plain": [
       "<Figure size 432x288 with 1 Axes>"
      ]
     },
     "metadata": {
      "needs_background": "light"
     },
     "output_type": "display_data"
    }
   ],
   "source": [
    "history = sklearn_model.fit(np_train_x, np_train_y, epochs=100, validation_data=(np_valid_x, np_valid_y), callbacks=callbacks)\n",
    "es_vl.plot_history(history.history)"
   ]
  },
  {
   "cell_type": "markdown",
   "id": "07f3b83d-fa38-4de4-b85a-d151af6d01c2",
   "metadata": {},
   "source": [
    "## Evaluate sklearn model"
   ]
  },
  {
   "cell_type": "code",
   "execution_count": null,
   "id": "e4181b75-9175-4091-a035-5e3c13beae3c",
   "metadata": {},
   "outputs": [],
   "source": [
    "'''\n",
    "model_output = sklearn_model.predict(np_test_x)\n",
    "print(model_output.shape)\n",
    "\n",
    "model_prediction = np.row_stack([model_output[0,:].reshape(-1,1),model_output[1:,-1].reshape(-1,1)])\n",
    "print(model_prediction.shape)\n",
    "\n",
    "print(es_as.calculate_scores(np_test_y, model_prediction))\n",
    "\n",
    "es_vl.plot_estimation_comparison(pd.DataFrame(np_test_y),pd.DataFrame(model_prediction),'./',verbose=1)\n",
    "'''"
   ]
  },
  {
   "cell_type": "markdown",
   "id": "9761c044-1139-4f36-9cb6-da9634d89041",
   "metadata": {},
   "source": [
    "## automatically release machine"
   ]
  },
  {
   "cell_type": "code",
   "execution_count": 13,
   "id": "50fd3283-ef11-4458-b19b-e26f3e2b9e3d",
   "metadata": {},
   "outputs": [
    {
     "data": {
      "text/plain": [
       "32512"
      ]
     },
     "execution_count": 13,
     "metadata": {},
     "output_type": "execute_result"
    }
   ],
   "source": [
    "# release machin automatically\n",
    "os.system(\"export $(cat /proc/1/environ |tr '\\\\0' '\\\\n' | grep MATCLOUD_CANCELTOKEN)&&/public/script/matncli node cancel -url https://matpool.com/api/public/node\")"
   ]
  }
 ],
 "metadata": {
  "kernelspec": {
   "display_name": "Python 3",
   "language": "python",
   "name": "python3"
  },
  "language_info": {
   "codemirror_mode": {
    "name": "ipython",
    "version": 3
   },
   "file_extension": ".py",
   "mimetype": "text/x-python",
   "name": "python",
   "nbconvert_exporter": "python",
   "pygments_lexer": "ipython3",
   "version": "3.9.2"
  }
 },
 "nbformat": 4,
 "nbformat_minor": 5
}
