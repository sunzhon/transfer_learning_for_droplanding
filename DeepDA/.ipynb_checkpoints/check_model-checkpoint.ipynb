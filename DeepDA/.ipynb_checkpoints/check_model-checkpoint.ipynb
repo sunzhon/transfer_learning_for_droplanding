{
 "cells": [
  {
   "cell_type": "code",
   "execution_count": 1,
   "id": "aed40d2c-e716-40fc-9748-0f0c266376a2",
   "metadata": {
    "tags": []
   },
   "outputs": [],
   "source": [
    "import os\n",
    "import torch\n",
    "from main import *"
   ]
  },
  {
   "cell_type": "code",
   "execution_count": 13,
   "id": "f54b44d8-c57a-4a74-9553-ac93f4982176",
   "metadata": {
    "tags": []
   },
   "outputs": [
    {
     "ename": "AttributeError",
     "evalue": "'ArgumentParser' object has no attribute 'n_labels'",
     "output_type": "error",
     "traceback": [
      "\u001b[0;31m---------------------------------------------------------------------------\u001b[0m",
      "\u001b[0;31mAttributeError\u001b[0m                            Traceback (most recent call last)",
      "Cell \u001b[0;32mIn[13], line 4\u001b[0m\n\u001b[1;32m      2\u001b[0m args\u001b[38;5;241m=\u001b[39m{\u001b[38;5;124m\"\u001b[39m\u001b[38;5;124mn_labels\u001b[39m\u001b[38;5;124m\"\u001b[39m:\u001b[38;5;241m1\u001b[39m,\u001b[38;5;124m\"\u001b[39m\u001b[38;5;124mdevice\u001b[39m\u001b[38;5;124m\"\u001b[39m:\u001b[38;5;124m\"\u001b[39m\u001b[38;5;124mgpu\u001b[39m\u001b[38;5;124m\"\u001b[39m}\n\u001b[1;32m      3\u001b[0m args\u001b[38;5;241m=\u001b[39mget_parser()\n\u001b[0;32m----> 4\u001b[0m model \u001b[38;5;241m=\u001b[39m models\u001b[38;5;241m.\u001b[39mBaselineModel(num_label\u001b[38;5;241m=\u001b[39m\u001b[43margs\u001b[49m\u001b[38;5;241;43m.\u001b[39;49m\u001b[43mn_labels\u001b[49m, base_net\u001b[38;5;241m=\u001b[39m\u001b[38;5;124m'\u001b[39m\u001b[38;5;124mmlnn\u001b[39m\u001b[38;5;124m'\u001b[39m, finetuning\u001b[38;5;241m=\u001b[39m\u001b[38;5;28;01mTrue\u001b[39;00m)\u001b[38;5;241m.\u001b[39mto(args\u001b[38;5;241m.\u001b[39mdevice)\n\u001b[1;32m      5\u001b[0m model\u001b[38;5;241m.\u001b[39mload_state_dict(torch\u001b[38;5;241m.\u001b[39mload(os\u001b[38;5;241m.\u001b[39mpath\u001b[38;5;241m.\u001b[39mjoin(const\u001b[38;5;241m.\u001b[39mRESULTS_PATH, args\u001b[38;5;241m.\u001b[39mtrained_model_state_path, \u001b[38;5;124m'\u001b[39m\u001b[38;5;124mtrained_model.pth\u001b[39m\u001b[38;5;124m'\u001b[39m)))\n",
      "\u001b[0;31mAttributeError\u001b[0m: 'ArgumentParser' object has no attribute 'n_labels'"
     ]
    }
   ],
   "source": [
    "trained_model_path=\"/media/suntao/DATA/drop_landing_workspace/results/training_testing/baseline_v6_1_5_10/25trials/15sub/training_000840/best_model.pth\"\n",
    "args={\"n_labels\":1,\"device\":\"gpu\"}\n",
    "parser = get_parser()\n",
    "\n",
    "parser.set_defaults(backbone='mlnn') # backbone model selection\n",
    "args = parser.parse_args()\n",
    "setattr(args, \"device\", torch.device('cuda:0' if torch.cuda.is_available() else 'cpu'))\n",
    "print(\"device:\", args.device)\n",
    "\n",
    "#data path\n",
    "args.data_dir = const.DATA_PATH\n",
    "\n",
    "# features\n",
    "features_name = ['TIME'] + const.extract_imu_fields(const.IMU_SENSOR_LIST, const.ACC_GYRO_FIELDS)\n",
    "setattr(args, \"features_name\", features_name)\n",
    "setattr(args, \"n_labels\", 1)\n",
    " \n",
    "\n",
    "\n",
    "model = models.BaselineModel(num_label=args.n_labels, base_net='mlnn', finetuning=True).to(args.device)\n",
    "model.load_state_dict(torch.load(os.path.join(const.RESULTS_PATH, args.trained_model_state_path, 'trained_model.pth')))\n"
   ]
  },
  {
   "cell_type": "code",
   "execution_count": 11,
   "id": "fc944249-0753-4807-9df9-a982032bbc86",
   "metadata": {
    "tags": []
   },
   "outputs": [
    {
     "data": {
      "text/plain": [
       "{'n_labels': 1, 'device': 'gpu'}"
      ]
     },
     "execution_count": 11,
     "metadata": {},
     "output_type": "execute_result"
    }
   ],
   "source": [
    "args"
   ]
  }
 ],
 "metadata": {
  "kernelspec": {
   "display_name": "Python 3 (ipykernel)",
   "language": "python",
   "name": "python3"
  },
  "language_info": {
   "codemirror_mode": {
    "name": "ipython",
    "version": 3
   },
   "file_extension": ".py",
   "mimetype": "text/x-python",
   "name": "python",
   "nbconvert_exporter": "python",
   "pygments_lexer": "ipython3",
   "version": "3.9.16"
  }
 },
 "nbformat": 4,
 "nbformat_minor": 5
}
